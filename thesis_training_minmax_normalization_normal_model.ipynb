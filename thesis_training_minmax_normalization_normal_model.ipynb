{
  "nbformat": 4,
  "nbformat_minor": 0,
  "metadata": {
    "colab": {
      "name": "thesis-training-minmax normalization-normal model.ipynb",
      "provenance": [],
      "machine_shape": "hm"
    },
    "kernelspec": {
      "name": "python3",
      "display_name": "Python 3"
    },
    "language_info": {
      "name": "python"
    },
    "accelerator": "GPU"
  },
  "cells": [
    {
      "cell_type": "code",
      "metadata": {
        "id": "zecpHZBqA5ju"
      },
      "source": [
        "from google.colab import files\n",
        "import matplotlib.pyplot as plt\n",
        "import numpy as np\n",
        "import scipy.io as sio\n",
        "import os\n",
        "import tensorflow as tf\n",
        "import zipfile\n",
        "from tensorflow import keras\n",
        "from tensorflow.keras import layers\n",
        "import nibabel as nib\n",
        "import glob\n",
        "from sklearn.utils import shuffle\n",
        "import sys\n"
      ],
      "execution_count": null,
      "outputs": []
    },
    {
      "cell_type": "code",
      "metadata": {
        "id": "wCQDwxx-BQXv"
      },
      "source": [
        "from keras.utils import np_utils\n",
        "from keras.layers import Conv3D, MaxPool3D, Flatten, Dense\n",
        "from keras.layers import Dropout, Input, BatchNormalization\n",
        "from sklearn.metrics import confusion_matrix, accuracy_score\n",
        "from keras.losses import binary_crossentropy\n",
        "from keras.optimizers import Adadelta, SGD\n",
        "from matplotlib.pyplot import cm\n",
        "import matplotlib.pyplot as plt\n",
        "from keras.models import Model\n",
        "import cv2\n",
        "import os\n",
        "import numpy as np\n",
        "import keras\n",
        "import h5py\n",
        "import numpy as np\n",
        "from keras import regularizers\n",
        "import os\n",
        "import glob\n",
        "import cv2\n",
        "import random\n",
        "import matplotlib.pyplot as plt\n",
        "from sklearn.utils import shuffle\n",
        "from sklearn.model_selection import train_test_split\n",
        "from sklearn.model_selection import StratifiedKFold\n",
        "from sklearn.metrics import roc_curve, roc_auc_score\n",
        "\n",
        "from keras.models import Sequential\n",
        "from keras.optimizers import RMSprop\n",
        "from keras.layers import Conv2D, MaxPooling2D\n",
        "from keras.layers import Activation, Dropout, Flatten, Dense\n",
        "from sklearn.utils import shuffle\n",
        "from sklearn.model_selection import train_test_split\n",
        "from keras import optimizers\n",
        "# from keras.utils import to_categorical, plot_model\n",
        "from keras.layers import Dense, Input, Conv2D, Flatten, MaxPooling2D, Activation\n",
        "from keras.models import Model, Sequential\n",
        "from keras.layers import Activation, Dropout, Flatten, Dense\n",
        "from keras.callbacks import ModelCheckpoint\n",
        "from keras.optimizers import Adam\n",
        "from keras.applications.vgg16 import VGG16\n",
        "from keras.models import load_model\n",
        "from keras.utils import np_utils\n",
        "from keras import backend as K\n",
        "from keras.models import load_model"
      ],
      "execution_count": null,
      "outputs": []
    },
    {
      "cell_type": "code",
      "metadata": {
        "id": "WMevVOIxqBWm"
      },
      "source": [
        "seed = 7\n",
        "np.random.seed(seed)"
      ],
      "execution_count": null,
      "outputs": []
    },
    {
      "cell_type": "code",
      "metadata": {
        "id": "UCUpcL9EBUSV"
      },
      "source": [
        "x_train = np.load(\"/content/drive/MyDrive/thesis2/x_train_minmax_normalized.npy\")\n",
        "y_train = np.load(\"/content/drive/MyDrive/thesis2/y_training.npy\")"
      ],
      "execution_count": null,
      "outputs": []
    },
    {
      "cell_type": "code",
      "metadata": {
        "colab": {
          "base_uri": "https://localhost:8080/"
        },
        "id": "4dHWbQtjCwV5",
        "outputId": "41df52be-6c87-4897-9c4d-67992e24c6d6"
      },
      "source": [
        "x_train.shape,y_train.shape"
      ],
      "execution_count": null,
      "outputs": [
        {
          "output_type": "execute_result",
          "data": {
            "text/plain": [
              "((6000, 64, 64, 33), (6000,))"
            ]
          },
          "metadata": {
            "tags": []
          },
          "execution_count": 5
        }
      ]
    },
    {
      "cell_type": "code",
      "metadata": {
        "colab": {
          "base_uri": "https://localhost:8080/"
        },
        "id": "cNVglHlbCPXy",
        "outputId": "f11c8dd8-8a41-4f32-8e8e-558b1f94ff13"
      },
      "source": [
        "# x_mean = np.mean(x_train)\n",
        "# x_std = np.std(x_train)\n",
        "# x_mean,x_std\n",
        "# # (1553.0166624964165, 3575.5203140146095)"
      ],
      "execution_count": null,
      "outputs": [
        {
          "output_type": "execute_result",
          "data": {
            "text/plain": [
              "(0.22945192119659386, 0.10349581814834698)"
            ]
          },
          "metadata": {
            "tags": []
          },
          "execution_count": 5
        }
      ]
    },
    {
      "cell_type": "code",
      "metadata": {
        "id": "RA0n-M6bb4tB"
      },
      "source": [
        "m , mi = 28822.50390625, -6477.419921875"
      ],
      "execution_count": null,
      "outputs": []
    },
    {
      "cell_type": "code",
      "metadata": {
        "id": "YfUjSwAiKxge",
        "colab": {
          "base_uri": "https://localhost:8080/"
        },
        "outputId": "ab63e089-5a86-43cb-caba-dfc43ff5ac0e"
      },
      "source": [
        "np.max(x_train),np.min(x_train)"
      ],
      "execution_count": null,
      "outputs": [
        {
          "output_type": "execute_result",
          "data": {
            "text/plain": [
              "(1.0, 0.0)"
            ]
          },
          "metadata": {
            "tags": []
          },
          "execution_count": 7
        }
      ]
    },
    {
      "cell_type": "code",
      "metadata": {
        "id": "BkjW0Fr1GOFa"
      },
      "source": [
        "# x_train = (x_train - mi) / (m - mi)"
      ],
      "execution_count": null,
      "outputs": []
    },
    {
      "cell_type": "code",
      "metadata": {
        "id": "vrulJazWGXRd"
      },
      "source": [
        "# m , mi = 2521.0,0.0"
      ],
      "execution_count": null,
      "outputs": []
    },
    {
      "cell_type": "code",
      "metadata": {
        "id": "v4zqMF9JCXPv"
      },
      "source": [
        "# x_train = (x_train- x_mean)/x_std"
      ],
      "execution_count": null,
      "outputs": []
    },
    {
      "cell_type": "code",
      "metadata": {
        "id": "0NqBkdf0Cgho"
      },
      "source": [
        "x_test = np.load(\"/content/drive/MyDrive/thesis2/x_test.npy\")\n",
        "y_test = np.load(\"/content/drive/MyDrive/thesis2/y_test.npy\")"
      ],
      "execution_count": null,
      "outputs": []
    },
    {
      "cell_type": "code",
      "metadata": {
        "colab": {
          "base_uri": "https://localhost:8080/"
        },
        "id": "H5GCMEhOCtWR",
        "outputId": "dbd1ad70-f688-41b2-a5c0-d7fd20a4ce0e"
      },
      "source": [
        "x_test.shape,y_test.shape"
      ],
      "execution_count": null,
      "outputs": [
        {
          "output_type": "execute_result",
          "data": {
            "text/plain": [
              "((900, 64, 64, 33), (900,))"
            ]
          },
          "metadata": {
            "tags": []
          },
          "execution_count": 9
        }
      ]
    },
    {
      "cell_type": "code",
      "metadata": {
        "id": "0EPVVPJDC4DZ"
      },
      "source": [
        "x_test = (x_test - mi) / (m - mi)"
      ],
      "execution_count": null,
      "outputs": []
    },
    {
      "cell_type": "code",
      "metadata": {
        "id": "jD-Sr2TIC-4g"
      },
      "source": [
        "x_val = np.load(\"/content/drive/MyDrive/thesis2/x_validation2.npy\")\n",
        "y_val = np.load(\"/content/drive/MyDrive/thesis2/y_validation2.npy\")"
      ],
      "execution_count": null,
      "outputs": []
    },
    {
      "cell_type": "code",
      "metadata": {
        "colab": {
          "base_uri": "https://localhost:8080/"
        },
        "id": "lBIk8xHHDI30",
        "outputId": "76c7feb2-2cfa-4435-9d2b-38267849fccb"
      },
      "source": [
        "x_val.shape,y_val.shape"
      ],
      "execution_count": null,
      "outputs": [
        {
          "output_type": "execute_result",
          "data": {
            "text/plain": [
              "((900, 64, 64, 33), (900,))"
            ]
          },
          "metadata": {
            "tags": []
          },
          "execution_count": 12
        }
      ]
    },
    {
      "cell_type": "code",
      "metadata": {
        "id": "IAbisxmFDRgn"
      },
      "source": [
        "x_val = (x_val - mi) / (m - mi)"
      ],
      "execution_count": null,
      "outputs": []
    },
    {
      "cell_type": "code",
      "metadata": {
        "id": "lBvKSTP8qu7A"
      },
      "source": [
        "import os\n",
        "import zipfile\n",
        "import numpy as np\n",
        "import tensorflow as tf\n",
        "\n",
        "from tensorflow import keras\n",
        "from tensorflow.keras import layers"
      ],
      "execution_count": null,
      "outputs": []
    },
    {
      "cell_type": "code",
      "metadata": {
        "colab": {
          "base_uri": "https://localhost:8080/"
        },
        "id": "WWBGw7NnDakh",
        "outputId": "3519cb94-cf7e-4768-ac67-63a904b272f4"
      },
      "source": [
        "def get_model(width=128, height=128, depth=64):\n",
        "    \"\"\"Build a 3D convolutional neural network model.\"\"\"\n",
        "\n",
        "    inputs = keras.Input((width, height, depth, 1))\n",
        "\n",
        "    x = layers.Conv3D(filters=64, kernel_size=3,padding='same', activation=\"relu\")(inputs)\n",
        "    x = layers.MaxPool3D(pool_size=2,padding='same')(x)\n",
        "    x = layers.BatchNormalization()(x)\n",
        "\n",
        "    x = layers.Conv3D(filters=64, kernel_size=3, padding='same',activation=\"relu\")(x)\n",
        "    x = layers.MaxPool3D(pool_size=2,padding='same')(x)\n",
        "    x = layers.BatchNormalization()(x)\n",
        "\n",
        "    x = layers.Conv3D(filters=128, kernel_size=3,padding='same', activation=\"relu\")(x)\n",
        "    x = layers.MaxPool3D(pool_size=2,padding='same')(x)\n",
        "    x = layers.BatchNormalization()(x)\n",
        "\n",
        "    x = layers.Conv3D(filters=256, kernel_size=3,padding='same', activation=\"relu\")(x)\n",
        "    x = layers.MaxPool3D(pool_size=2,padding='same')(x)\n",
        "    x = layers.BatchNormalization()(x)\n",
        "\n",
        "    x = layers.GlobalAveragePooling3D()(x)\n",
        "    x = layers.Dense(units=512, activation=\"relu\")(x)\n",
        "    x = layers.Dropout(0.3)(x)\n",
        "\n",
        "    outputs = layers.Dense(units=1, activation=\"sigmoid\")(x)\n",
        "\n",
        "    # Define the model.\n",
        "    model = keras.Model(inputs, outputs, name=\"3dcnn\")\n",
        "    return model\n",
        "\n",
        "\n",
        "# Build model.\n",
        "model = get_model(width=64, height=64, depth=33)\n",
        "model.summary()\n"
      ],
      "execution_count": null,
      "outputs": [
        {
          "output_type": "stream",
          "text": [
            "Model: \"3dcnn\"\n",
            "_________________________________________________________________\n",
            "Layer (type)                 Output Shape              Param #   \n",
            "=================================================================\n",
            "input_1 (InputLayer)         [(None, 64, 64, 33, 1)]   0         \n",
            "_________________________________________________________________\n",
            "conv3d (Conv3D)              (None, 64, 64, 33, 64)    1792      \n",
            "_________________________________________________________________\n",
            "max_pooling3d (MaxPooling3D) (None, 32, 32, 17, 64)    0         \n",
            "_________________________________________________________________\n",
            "batch_normalization (BatchNo (None, 32, 32, 17, 64)    256       \n",
            "_________________________________________________________________\n",
            "conv3d_1 (Conv3D)            (None, 32, 32, 17, 64)    110656    \n",
            "_________________________________________________________________\n",
            "max_pooling3d_1 (MaxPooling3 (None, 16, 16, 9, 64)     0         \n",
            "_________________________________________________________________\n",
            "batch_normalization_1 (Batch (None, 16, 16, 9, 64)     256       \n",
            "_________________________________________________________________\n",
            "conv3d_2 (Conv3D)            (None, 16, 16, 9, 128)    221312    \n",
            "_________________________________________________________________\n",
            "max_pooling3d_2 (MaxPooling3 (None, 8, 8, 5, 128)      0         \n",
            "_________________________________________________________________\n",
            "batch_normalization_2 (Batch (None, 8, 8, 5, 128)      512       \n",
            "_________________________________________________________________\n",
            "conv3d_3 (Conv3D)            (None, 8, 8, 5, 256)      884992    \n",
            "_________________________________________________________________\n",
            "max_pooling3d_3 (MaxPooling3 (None, 4, 4, 3, 256)      0         \n",
            "_________________________________________________________________\n",
            "batch_normalization_3 (Batch (None, 4, 4, 3, 256)      1024      \n",
            "_________________________________________________________________\n",
            "global_average_pooling3d (Gl (None, 256)               0         \n",
            "_________________________________________________________________\n",
            "dense (Dense)                (None, 512)               131584    \n",
            "_________________________________________________________________\n",
            "dropout (Dropout)            (None, 512)               0         \n",
            "_________________________________________________________________\n",
            "dense_1 (Dense)              (None, 1)                 513       \n",
            "=================================================================\n",
            "Total params: 1,352,897\n",
            "Trainable params: 1,351,873\n",
            "Non-trainable params: 1,024\n",
            "_________________________________________________________________\n"
          ],
          "name": "stdout"
        }
      ]
    },
    {
      "cell_type": "code",
      "metadata": {
        "colab": {
          "base_uri": "https://localhost:8080/",
          "height": 191
        },
        "id": "EH0lvEK-d6Wr",
        "outputId": "c4911e46-2cbb-43a0-baec-02935246382a"
      },
      "source": [
        "# from tensorflow.python.framework.ops import disable_eager_execution\n",
        "# enable_eager_execution()"
      ],
      "execution_count": null,
      "outputs": [
        {
          "output_type": "error",
          "ename": "NameError",
          "evalue": "ignored",
          "traceback": [
            "\u001b[0;31m---------------------------------------------------------------------------\u001b[0m",
            "\u001b[0;31mNameError\u001b[0m                                 Traceback (most recent call last)",
            "\u001b[0;32m<ipython-input-28-46628145ae9a>\u001b[0m in \u001b[0;36m<module>\u001b[0;34m()\u001b[0m\n\u001b[1;32m      1\u001b[0m \u001b[0;32mfrom\u001b[0m \u001b[0mtensorflow\u001b[0m\u001b[0;34m.\u001b[0m\u001b[0mpython\u001b[0m\u001b[0;34m.\u001b[0m\u001b[0mframework\u001b[0m\u001b[0;34m.\u001b[0m\u001b[0mops\u001b[0m \u001b[0;32mimport\u001b[0m \u001b[0mdisable_eager_execution\u001b[0m\u001b[0;34m\u001b[0m\u001b[0;34m\u001b[0m\u001b[0m\n\u001b[0;32m----> 2\u001b[0;31m \u001b[0menable_eager_execution\u001b[0m\u001b[0;34m(\u001b[0m\u001b[0;34m)\u001b[0m\u001b[0;34m\u001b[0m\u001b[0;34m\u001b[0m\u001b[0m\n\u001b[0m",
            "\u001b[0;31mNameError\u001b[0m: name 'enable_eager_execution' is not defined"
          ]
        }
      ]
    },
    {
      "cell_type": "code",
      "metadata": {
        "colab": {
          "base_uri": "https://localhost:8080/"
        },
        "id": "4WI_vT5LDnXu",
        "outputId": "a6276351-fd9b-4e03-f1c9-7c4b8603367d"
      },
      "source": [
        "initial_learning_rate = 0.0001\n",
        "lr_schedule = keras.optimizers.schedules.ExponentialDecay(\n",
        "    initial_learning_rate, decay_steps=100000, decay_rate=0.96, staircase=True\n",
        ")\n",
        "model.compile(\n",
        "    loss=\"binary_crossentropy\",\n",
        "    optimizer=keras.optimizers.Adam(learning_rate=lr_schedule),\n",
        "    metrics=[\"acc\"],\n",
        ")\n",
        "\n",
        "# Define callbacks.\n",
        "checkpoint_accuracy = keras.callbacks.ModelCheckpoint(\n",
        "    \"best_accuracy.h5\", save_best_only=True,monitor = 'val_acc',mode = 'max'\n",
        ")\n",
        "checkpoint_validation = keras.callbacks.ModelCheckpoint(\n",
        "    \"best_loss.h5\", save_best_only=True,monitor = 'val_loss',mode = 'min'\n",
        ")\n",
        "# early_stopping_cb = keras.callbacks.EarlyStopping(monitor=\"val_acc\", patience=15)\n",
        "\n",
        "# Train the model, doing validation at the end of each epoch\n",
        "epochs = 50\n",
        "history = model.fit(\n",
        "    x = x_train,y = y_train,\n",
        "    validation_data=(x_val,y_val),\n",
        "    epochs=epochs,\n",
        "    shuffle=True,\n",
        "    verbose=2,\n",
        "    callbacks=[checkpoint_accuracy,checkpoint_validation, ],\n",
        ")"
      ],
      "execution_count": null,
      "outputs": [
        {
          "output_type": "stream",
          "text": [
            "Epoch 1/50\n",
            "188/188 - 40s - loss: 0.0986 - acc: 0.9743 - val_loss: 2.3818 - val_acc: 0.5000\n",
            "Epoch 2/50\n",
            "188/188 - 21s - loss: 8.3917e-04 - acc: 1.0000 - val_loss: 3.1970 - val_acc: 0.5000\n",
            "Epoch 3/50\n",
            "188/188 - 21s - loss: 2.9712e-04 - acc: 1.0000 - val_loss: 3.0622 - val_acc: 0.5000\n",
            "Epoch 4/50\n",
            "188/188 - 21s - loss: 1.7014e-04 - acc: 1.0000 - val_loss: 1.2305 - val_acc: 0.6344\n",
            "Epoch 5/50\n",
            "188/188 - 21s - loss: 9.4368e-05 - acc: 1.0000 - val_loss: 1.3009 - val_acc: 0.6667\n",
            "Epoch 6/50\n",
            "188/188 - 21s - loss: 7.7400e-05 - acc: 1.0000 - val_loss: 1.4157 - val_acc: 0.6667\n",
            "Epoch 7/50\n",
            "188/188 - 21s - loss: 3.8623e-05 - acc: 1.0000 - val_loss: 1.4698 - val_acc: 0.6667\n",
            "Epoch 8/50\n",
            "188/188 - 21s - loss: 3.3066e-05 - acc: 1.0000 - val_loss: 1.5032 - val_acc: 0.6667\n",
            "Epoch 9/50\n",
            "188/188 - 21s - loss: 4.1294e-05 - acc: 1.0000 - val_loss: 1.4694 - val_acc: 0.6667\n",
            "Epoch 10/50\n",
            "188/188 - 21s - loss: 2.7675e-05 - acc: 1.0000 - val_loss: 1.6478 - val_acc: 0.6667\n",
            "Epoch 11/50\n",
            "188/188 - 21s - loss: 1.8116e-05 - acc: 1.0000 - val_loss: 1.6009 - val_acc: 0.6667\n",
            "Epoch 12/50\n",
            "188/188 - 21s - loss: 2.2499e-05 - acc: 1.0000 - val_loss: 1.5993 - val_acc: 0.6667\n",
            "Epoch 13/50\n",
            "188/188 - 21s - loss: 3.4811e-05 - acc: 1.0000 - val_loss: 1.7049 - val_acc: 0.6667\n",
            "Epoch 14/50\n",
            "188/188 - 21s - loss: 6.9840e-06 - acc: 1.0000 - val_loss: 1.7016 - val_acc: 0.6667\n",
            "Epoch 15/50\n",
            "188/188 - 21s - loss: 1.0369e-05 - acc: 1.0000 - val_loss: 1.7481 - val_acc: 0.6667\n",
            "Epoch 16/50\n",
            "188/188 - 21s - loss: 7.8008e-06 - acc: 1.0000 - val_loss: 1.6454 - val_acc: 0.8200\n",
            "Epoch 17/50\n",
            "188/188 - 21s - loss: 0.0145 - acc: 0.9970 - val_loss: 3.8233 - val_acc: 0.5000\n",
            "Epoch 18/50\n",
            "188/188 - 21s - loss: 6.0388e-05 - acc: 1.0000 - val_loss: 1.4209 - val_acc: 0.6667\n",
            "Epoch 19/50\n",
            "188/188 - 21s - loss: 3.2208e-05 - acc: 1.0000 - val_loss: 1.5382 - val_acc: 0.6667\n",
            "Epoch 20/50\n",
            "188/188 - 21s - loss: 3.2808e-05 - acc: 1.0000 - val_loss: 1.6948 - val_acc: 0.6667\n",
            "Epoch 21/50\n",
            "188/188 - 21s - loss: 3.0540e-05 - acc: 1.0000 - val_loss: 1.6189 - val_acc: 0.6667\n",
            "Epoch 22/50\n",
            "188/188 - 21s - loss: 2.1636e-05 - acc: 1.0000 - val_loss: 1.5202 - val_acc: 0.7156\n",
            "Epoch 23/50\n",
            "188/188 - 21s - loss: 9.7812e-06 - acc: 1.0000 - val_loss: 1.5632 - val_acc: 0.6667\n",
            "Epoch 24/50\n",
            "188/188 - 21s - loss: 1.4706e-05 - acc: 1.0000 - val_loss: 1.6049 - val_acc: 0.6667\n",
            "Epoch 25/50\n",
            "188/188 - 21s - loss: 6.6631e-06 - acc: 1.0000 - val_loss: 1.5756 - val_acc: 0.6667\n",
            "Epoch 26/50\n",
            "188/188 - 21s - loss: 6.3274e-06 - acc: 1.0000 - val_loss: 1.6210 - val_acc: 0.6667\n",
            "Epoch 27/50\n",
            "188/188 - 21s - loss: 4.9155e-06 - acc: 1.0000 - val_loss: 1.6488 - val_acc: 0.6667\n",
            "Epoch 28/50\n",
            "188/188 - 21s - loss: 1.5198e-05 - acc: 1.0000 - val_loss: 1.7538 - val_acc: 0.6667\n",
            "Epoch 29/50\n",
            "188/188 - 21s - loss: 3.1344e-06 - acc: 1.0000 - val_loss: 1.7220 - val_acc: 0.6667\n",
            "Epoch 30/50\n",
            "188/188 - 21s - loss: 2.4321e-06 - acc: 1.0000 - val_loss: 1.7491 - val_acc: 0.6667\n",
            "Epoch 31/50\n",
            "188/188 - 21s - loss: 2.6992e-06 - acc: 1.0000 - val_loss: 1.7451 - val_acc: 0.6667\n",
            "Epoch 32/50\n",
            "188/188 - 21s - loss: 4.3659e-06 - acc: 1.0000 - val_loss: 1.7584 - val_acc: 0.6667\n",
            "Epoch 33/50\n",
            "188/188 - 21s - loss: 2.7646e-06 - acc: 1.0000 - val_loss: 1.8182 - val_acc: 0.6667\n",
            "Epoch 34/50\n",
            "188/188 - 21s - loss: 1.3065e-06 - acc: 1.0000 - val_loss: 1.8170 - val_acc: 0.6667\n",
            "Epoch 35/50\n",
            "188/188 - 21s - loss: 3.0658e-06 - acc: 1.0000 - val_loss: 1.8428 - val_acc: 0.6667\n",
            "Epoch 36/50\n",
            "188/188 - 21s - loss: 1.9473e-06 - acc: 1.0000 - val_loss: 1.8763 - val_acc: 0.6667\n",
            "Epoch 37/50\n",
            "188/188 - 21s - loss: 1.7998e-06 - acc: 1.0000 - val_loss: 1.8573 - val_acc: 0.6667\n",
            "Epoch 38/50\n",
            "188/188 - 21s - loss: 2.2377e-06 - acc: 1.0000 - val_loss: 1.9358 - val_acc: 0.6667\n",
            "Epoch 39/50\n",
            "188/188 - 21s - loss: 1.2645e-06 - acc: 1.0000 - val_loss: 1.9392 - val_acc: 0.6667\n",
            "Epoch 40/50\n",
            "188/188 - 21s - loss: 1.0401e-06 - acc: 1.0000 - val_loss: 1.9305 - val_acc: 0.6667\n",
            "Epoch 41/50\n",
            "188/188 - 21s - loss: 8.3052e-07 - acc: 1.0000 - val_loss: 1.9861 - val_acc: 0.6667\n",
            "Epoch 42/50\n",
            "188/188 - 21s - loss: 5.9047e-06 - acc: 1.0000 - val_loss: 1.9413 - val_acc: 0.6667\n",
            "Epoch 43/50\n",
            "188/188 - 21s - loss: 1.7843e-06 - acc: 1.0000 - val_loss: 2.0670 - val_acc: 0.8333\n",
            "Epoch 44/50\n",
            "188/188 - 21s - loss: 1.1739e-06 - acc: 1.0000 - val_loss: 1.9949 - val_acc: 0.6667\n",
            "Epoch 45/50\n",
            "188/188 - 21s - loss: 4.9596e-07 - acc: 1.0000 - val_loss: 2.0387 - val_acc: 0.6667\n",
            "Epoch 46/50\n",
            "188/188 - 21s - loss: 5.2868e-07 - acc: 1.0000 - val_loss: 2.0791 - val_acc: 0.6667\n",
            "Epoch 47/50\n",
            "188/188 - 21s - loss: 6.5206e-07 - acc: 1.0000 - val_loss: 2.0751 - val_acc: 0.6667\n",
            "Epoch 48/50\n",
            "188/188 - 21s - loss: 9.3162e-07 - acc: 1.0000 - val_loss: 2.0577 - val_acc: 0.6667\n",
            "Epoch 49/50\n",
            "188/188 - 21s - loss: 7.7414e-07 - acc: 1.0000 - val_loss: 2.0875 - val_acc: 0.6667\n",
            "Epoch 50/50\n",
            "188/188 - 21s - loss: 2.2320e-06 - acc: 1.0000 - val_loss: 2.0532 - val_acc: 0.6667\n"
          ],
          "name": "stdout"
        }
      ]
    },
    {
      "cell_type": "code",
      "metadata": {
        "id": "KUPqPogXCGd6"
      },
      "source": [
        "model.save('last_model.h5')"
      ],
      "execution_count": null,
      "outputs": []
    },
    {
      "cell_type": "code",
      "metadata": {
        "id": "5K1EdZbletVO"
      },
      "source": [
        "import os\n",
        "import zipfile\n",
        "import numpy as np\n",
        "import tensorflow as tf\n",
        "\n",
        "from tensorflow import keras\n",
        "from tensorflow.keras import layers\n"
      ],
      "execution_count": null,
      "outputs": []
    },
    {
      "cell_type": "markdown",
      "metadata": {
        "id": "JaFPax1BwotT"
      },
      "source": [
        "Separate graphs"
      ]
    },
    {
      "cell_type": "code",
      "metadata": {
        "id": "eOD-p7kyRSHA",
        "colab": {
          "base_uri": "https://localhost:8080/",
          "height": 241
        },
        "outputId": "9532fda4-96a1-4d47-bb98-5c319bc7ed82"
      },
      "source": [
        "fig, ax = plt.subplots(1, 2, figsize=(20, 3))\n",
        "ax = ax.ravel()\n",
        "\n",
        "for i, metric in enumerate([\"acc\", \"loss\"]):\n",
        "    ax[i].plot(model.history.history[metric])\n",
        "    ax[i].plot(model.history.history[\"val_\" + metric])\n",
        "    ax[i].set_title(\"Model {}\".format(metric))\n",
        "    ax[i].set_xlabel(\"epochs\")\n",
        "    ax[i].set_ylabel(metric)\n",
        "    ax[i].legend([\"train\", \"val\"])"
      ],
      "execution_count": null,
      "outputs": [
        {
          "output_type": "display_data",
          "data": {
            "image/png": "[encoded data removed]",
            "text/plain": [
              "<Figure size 1440x216 with 2 Axes>"
            ]
          },
          "metadata": {
            "tags": [],
            "needs_background": "light"
          }
        }
      ]
    },
    {
      "cell_type": "code",
      "metadata": {
        "id": "wrV2_k_uwwdW"
      },
      "source": [
        ""
      ],
      "execution_count": null,
      "outputs": []
    },
    {
      "cell_type": "code",
      "metadata": {
        "colab": {
          "base_uri": "https://localhost:8080/"
        },
        "id": "p1M9WDE-pqeN",
        "outputId": "672cfe0b-d32d-48ed-8214-5533851d04fe"
      },
      "source": [
        "y_train[:10]"
      ],
      "execution_count": null,
      "outputs": [
        {
          "output_type": "execute_result",
          "data": {
            "text/plain": [
              "array([1, 0, 1, 0, 0, 0, 1, 1, 0, 0])"
            ]
          },
          "metadata": {
            "tags": []
          },
          "execution_count": 22
        }
      ]
    },
    {
      "cell_type": "markdown",
      "metadata": {
        "id": "-lOY6oOyy4xH"
      },
      "source": [
        "Shuffling the test set"
      ]
    },
    {
      "cell_type": "code",
      "metadata": {
        "id": "M-qR_QbWqIrX"
      },
      "source": [
        "x_test2, y_test2= shuffle(x_test,y_test,random_state = 4)"
      ],
      "execution_count": null,
      "outputs": []
    },
    {
      "cell_type": "markdown",
      "metadata": {
        "id": "oGZ3g06Zy-ke"
      },
      "source": [
        "Evaluating last model on test set"
      ]
    },
    {
      "cell_type": "code",
      "metadata": {
        "colab": {
          "base_uri": "https://localhost:8080/"
        },
        "id": "8XrAXTtSqQdx",
        "outputId": "83097ef1-706d-4996-d3a6-9f042aac23ce"
      },
      "source": [
        "model.evaluate(x = x_test2,y = y_test2)"
      ],
      "execution_count": null,
      "outputs": [
        {
          "output_type": "stream",
          "text": [
            "29/29 [==============================] - 1s 42ms/step - loss: 3.4679 - acc: 0.6711\n"
          ],
          "name": "stdout"
        },
        {
          "output_type": "execute_result",
          "data": {
            "text/plain": [
              "[3.4678759574890137, 0.6711111068725586]"
            ]
          },
          "metadata": {
            "tags": []
          },
          "execution_count": 20
        }
      ]
    },
    {
      "cell_type": "markdown",
      "metadata": {
        "id": "U8b48KqXzCwF"
      },
      "source": [
        "Evaluating last model on validation set"
      ]
    },
    {
      "cell_type": "code",
      "metadata": {
        "colab": {
          "base_uri": "https://localhost:8080/"
        },
        "id": "3c4A_WVKc6iC",
        "outputId": "f2a880c5-7d65-4ba6-efe0-380d1c4eee59"
      },
      "source": [
        "model.evaluate(x = x_val,y = y_val)"
      ],
      "execution_count": null,
      "outputs": [
        {
          "output_type": "stream",
          "text": [
            "29/29 [==============================] - 1s 42ms/step - loss: 2.0532 - acc: 0.6667\n"
          ],
          "name": "stdout"
        },
        {
          "output_type": "execute_result",
          "data": {
            "text/plain": [
              "[2.0532302856445312, 0.6666666865348816]"
            ]
          },
          "metadata": {
            "tags": []
          },
          "execution_count": 21
        }
      ]
    },
    {
      "cell_type": "code",
      "metadata": {
        "id": "QnHaR_IV86op"
      },
      "source": [
        ""
      ],
      "execution_count": null,
      "outputs": []
    },
    {
      "cell_type": "code",
      "metadata": {
        "id": "IGpaFKlW86lc"
      },
      "source": [
        ""
      ],
      "execution_count": null,
      "outputs": []
    },
    {
      "cell_type": "markdown",
      "metadata": {
        "id": "3-C5hqYfzaYr"
      },
      "source": [
        "Loading the best accuracy model"
      ]
    },
    {
      "cell_type": "code",
      "metadata": {
        "id": "5o0Cha_jckcy"
      },
      "source": [
        "model1 = load_model('best_accuracy.h5')"
      ],
      "execution_count": null,
      "outputs": []
    },
    {
      "cell_type": "code",
      "metadata": {
        "id": "XHhaVZ8-VYGl"
      },
      "source": [
        "# 3 images each without image scz 27\n",
        "x_test5 = np.load(\"/content/drive/MyDrive/thesis2/x_test5.npy\")\n",
        "y_test5 = np.load(\"/content/drive/MyDrive/thesis2/y_test5.npy\")"
      ],
      "execution_count": null,
      "outputs": []
    },
    {
      "cell_type": "code",
      "metadata": {
        "id": "OI8Ie-SAVe4F"
      },
      "source": [
        "# all images except scz 27\n",
        "\n",
        "x_test6 = np.load(\"/content/drive/MyDrive/thesis2/x_test6.npy\")\n",
        "y_test6 = np.load(\"/content/drive/MyDrive/thesis2/y_test6.npy\")"
      ],
      "execution_count": null,
      "outputs": []
    },
    {
      "cell_type": "markdown",
      "metadata": {
        "id": "jb2b5OhJzkAh"
      },
      "source": [
        "Evaluating best accuracy model on test set\n"
      ]
    },
    {
      "cell_type": "code",
      "metadata": {
        "colab": {
          "base_uri": "https://localhost:8080/"
        },
        "id": "d0TMnGQEct0r",
        "outputId": "5effec0d-b1c5-4899-b925-033ed10793e4"
      },
      "source": [
        "model.evaluate(x = x_test,y = y_test)"
      ],
      "execution_count": null,
      "outputs": [
        {
          "output_type": "stream",
          "text": [
            "47/47 [==============================] - 2s 47ms/step - loss: 219297.6875 - acc: 0.3000\n"
          ],
          "name": "stdout"
        },
        {
          "output_type": "execute_result",
          "data": {
            "text/plain": [
              "[219297.6875, 0.30000001192092896]"
            ]
          },
          "metadata": {
            "tags": []
          },
          "execution_count": 37
        }
      ]
    },
    {
      "cell_type": "markdown",
      "metadata": {
        "id": "J5CnKI5EzpT5"
      },
      "source": [
        "Evaluating best accuracy model on validation  set"
      ]
    },
    {
      "cell_type": "code",
      "metadata": {
        "colab": {
          "base_uri": "https://localhost:8080/"
        },
        "id": "ogamRXxYc-W5",
        "outputId": "8a0bc406-2142-4985-806f-01e57426007e"
      },
      "source": [
        "model1.evaluate(x = x_val,y = y_val)"
      ],
      "execution_count": null,
      "outputs": [
        {
          "output_type": "stream",
          "text": [
            "29/29 [==============================] - 1s 42ms/step - loss: 2.0670 - acc: 0.8333\n"
          ],
          "name": "stdout"
        },
        {
          "output_type": "execute_result",
          "data": {
            "text/plain": [
              "[2.066983938217163, 0.8333333134651184]"
            ]
          },
          "metadata": {
            "tags": []
          },
          "execution_count": 24
        }
      ]
    },
    {
      "cell_type": "code",
      "metadata": {
        "id": "5D4GdOVjVRHL"
      },
      "source": [
        ""
      ],
      "execution_count": null,
      "outputs": []
    },
    {
      "cell_type": "code",
      "metadata": {
        "id": "RiuFOGBz89pb"
      },
      "source": [
        ""
      ],
      "execution_count": null,
      "outputs": []
    },
    {
      "cell_type": "code",
      "metadata": {
        "id": "3yBhuIpb89mJ"
      },
      "source": [
        ""
      ],
      "execution_count": null,
      "outputs": []
    },
    {
      "cell_type": "markdown",
      "metadata": {
        "id": "ZUay2KWh7-IE"
      },
      "source": [
        "Loading the best loss model"
      ]
    },
    {
      "cell_type": "code",
      "metadata": {
        "id": "1IahK8UT8ASq"
      },
      "source": [
        "model2 = load_model('best_loss.h5')"
      ],
      "execution_count": null,
      "outputs": []
    },
    {
      "cell_type": "markdown",
      "metadata": {
        "id": "oryvaU-i70bB"
      },
      "source": [
        "Evaluating best loss model on test set"
      ]
    },
    {
      "cell_type": "code",
      "metadata": {
        "colab": {
          "base_uri": "https://localhost:8080/"
        },
        "id": "202pe0p_7419",
        "outputId": "3ddbe9a8-9d30-4a32-b40c-08be618074c3"
      },
      "source": [
        "model2.evaluate(x = x_test2,y = y_test2)"
      ],
      "execution_count": null,
      "outputs": [
        {
          "output_type": "stream",
          "text": [
            "29/29 [==============================] - 2s 42ms/step - loss: 2.2989 - acc: 0.5000\n"
          ],
          "name": "stdout"
        },
        {
          "output_type": "execute_result",
          "data": {
            "text/plain": [
              "[2.298898696899414, 0.5]"
            ]
          },
          "metadata": {
            "tags": []
          },
          "execution_count": 26
        }
      ]
    },
    {
      "cell_type": "markdown",
      "metadata": {
        "id": "YFDSPvgO75dl"
      },
      "source": [
        "Evaluating best loss model on validation set"
      ]
    },
    {
      "cell_type": "code",
      "metadata": {
        "colab": {
          "base_uri": "https://localhost:8080/"
        },
        "id": "1w30UE048FQ2",
        "outputId": "8388e041-4ccd-4233-8e89-2e40f1cdd624"
      },
      "source": [
        "model2.evaluate(x = x_val,y = y_val)"
      ],
      "execution_count": null,
      "outputs": [
        {
          "output_type": "stream",
          "text": [
            "29/29 [==============================] - 1s 42ms/step - loss: 1.2305 - acc: 0.6344\n"
          ],
          "name": "stdout"
        },
        {
          "output_type": "execute_result",
          "data": {
            "text/plain": [
              "[1.230513095855713, 0.6344444155693054]"
            ]
          },
          "metadata": {
            "tags": []
          },
          "execution_count": 27
        }
      ]
    },
    {
      "cell_type": "markdown",
      "metadata": {
        "id": "7DgbUDqCz6WR"
      },
      "source": [
        "Calculating different metrics"
      ]
    },
    {
      "cell_type": "code",
      "metadata": {
        "id": "KsU5lMe30hC1"
      },
      "source": [
        "from sklearn.metrics import accuracy_score\n",
        "from sklearn.metrics import precision_score\n",
        "from sklearn.metrics import recall_score\n",
        "from sklearn.metrics import f1_score\n",
        "from sklearn.metrics import cohen_kappa_score\n",
        "from sklearn.metrics import roc_auc_score\n",
        "from sklearn.metrics import confusion_matrix\n"
      ],
      "execution_count": null,
      "outputs": []
    },
    {
      "cell_type": "code",
      "metadata": {
        "colab": {
          "base_uri": "https://localhost:8080/"
        },
        "id": "kBjVKsmgB2tm",
        "outputId": "4fa0ba56-73ed-40dc-f83a-592f07984ca3"
      },
      "source": [
        "y_test[:4]"
      ],
      "execution_count": null,
      "outputs": [
        {
          "output_type": "execute_result",
          "data": {
            "text/plain": [
              "array([1, 0, 1, 0])"
            ]
          },
          "metadata": {
            "tags": []
          },
          "execution_count": 103
        }
      ]
    },
    {
      "cell_type": "code",
      "metadata": {
        "colab": {
          "base_uri": "https://localhost:8080/"
        },
        "id": "rBzhcL0p0l0X",
        "outputId": "02aae55f-331b-42dd-ef56-1eedafcbaa50"
      },
      "source": [
        "y_prob= model.predict(x_test2, verbose=0)\n",
        "y_prob = y_prob[:, 0]\n",
        "\n",
        "y_classes = (y_prob > 0.5).astype(np.int)\n",
        "\n",
        "\n",
        "# accuracy: (tp + tn) / (p + n)\n",
        "accuracy = accuracy_score(y_test, y_classes)\n",
        "print('Accuracy: %f' % accuracy)\n",
        "# precision tp / (tp + fp)\n",
        "precision = precision_score(y_test, y_classes)\n",
        "print('Precision: %f' % precision)\n",
        "# recall: tp / (tp + fn)\n",
        "recall = recall_score(y_test, y_classes)\n",
        "print('Recall: %f' % recall)\n",
        "# f1: 2 tp / (2 tp + fp + fn)\n",
        "f1 = f1_score(y_test, y_classes)\n",
        "print('F1 score: %f' % f1)\n",
        " \n",
        "# kappa\n",
        "kappa = cohen_kappa_score(y_test, y_classes)\n",
        "print('Cohens kappa: %f' % kappa)\n",
        "# ROC AUC\n",
        "auc = roc_auc_score(y_test, y_prob)\n",
        "print('ROC AUC: %f' % auc)\n",
        "# confusion matrix\n",
        "print(\"Confusion matrix:\")\n",
        "matrix = confusion_matrix(y_test, y_classes,labels=[1,0])\n",
        "print(matrix)"
      ],
      "execution_count": null,
      "outputs": [
        {
          "output_type": "stream",
          "text": [
            "Accuracy: 0.500000\n",
            "Precision: 0.500000\n",
            "Recall: 0.664444\n",
            "F1 score: 0.570611\n",
            "Cohens kappa: 0.000000\n",
            "ROC AUC: 0.508899\n",
            "Confusion matrix:\n",
            "[[299 151]\n",
            " [299 151]]\n"
          ],
          "name": "stdout"
        }
      ]
    },
    {
      "cell_type": "code",
      "metadata": {
        "colab": {
          "base_uri": "https://localhost:8080/"
        },
        "id": "YI7CUN4Q5zbE",
        "outputId": "d85d59fe-164d-4b8f-9219-b89426e99435"
      },
      "source": [
        "y_classes[:10]"
      ],
      "execution_count": null,
      "outputs": [
        {
          "output_type": "execute_result",
          "data": {
            "text/plain": [
              "array([0, 1, 1, 0, 1, 1, 1, 0, 1, 1])"
            ]
          },
          "metadata": {
            "tags": []
          },
          "execution_count": 29
        }
      ]
    },
    {
      "cell_type": "code",
      "metadata": {
        "colab": {
          "base_uri": "https://localhost:8080/"
        },
        "id": "9-ESlRfaNXMI",
        "outputId": "720dff4f-34c0-466e-d5cc-bc5aec990a1a"
      },
      "source": [
        "sensitivity = matrix[0,0]/(matrix[0,0]+matrix[0,1])\n",
        "print('Sensitivity : ', sensitivity )\n",
        "\n",
        "specificity = matrix[1,1]/(matrix[1,0]+matrix[1,1])\n",
        "print('Specificity : ', specificity)"
      ],
      "execution_count": null,
      "outputs": [
        {
          "output_type": "stream",
          "text": [
            "Sensitivity :  0.8571428571428571\n",
            "Specificity :  0.6666666666666666\n"
          ],
          "name": "stdout"
        }
      ]
    },
    {
      "cell_type": "code",
      "metadata": {
        "colab": {
          "base_uri": "https://localhost:8080/"
        },
        "id": "6I489egDHq1d",
        "outputId": "54b9004b-f538-4ac1-eaed-6b5e4ecccd8f"
      },
      "source": [
        "y_test[:10]"
      ],
      "execution_count": null,
      "outputs": [
        {
          "output_type": "execute_result",
          "data": {
            "text/plain": [
              "array([1, 0, 1, 0, 1, 1, 1, 0, 0, 1])"
            ]
          },
          "metadata": {
            "tags": []
          },
          "execution_count": 18
        }
      ]
    },
    {
      "cell_type": "code",
      "metadata": {
        "colab": {
          "base_uri": "https://localhost:8080/"
        },
        "id": "qL09qGpjH1ZM",
        "outputId": "fee8f0b3-5b12-4d89-8489-099d4887e688"
      },
      "source": [
        "y_val[:10]"
      ],
      "execution_count": null,
      "outputs": [
        {
          "output_type": "execute_result",
          "data": {
            "text/plain": [
              "array([1, 0, 1, 0, 1, 1, 1, 0, 0, 1])"
            ]
          },
          "metadata": {
            "tags": []
          },
          "execution_count": 19
        }
      ]
    },
    {
      "cell_type": "code",
      "metadata": {
        "colab": {
          "base_uri": "https://localhost:8080/"
        },
        "id": "4T8Vnn3aH3cx",
        "outputId": "1e611032-5fa2-4624-adab-f969be4714bd"
      },
      "source": [
        "y_train[:10]"
      ],
      "execution_count": null,
      "outputs": [
        {
          "output_type": "execute_result",
          "data": {
            "text/plain": [
              "array([1, 0, 1, 0, 0, 0, 1, 1, 0, 0])"
            ]
          },
          "metadata": {
            "tags": []
          },
          "execution_count": 20
        }
      ]
    },
    {
      "cell_type": "code",
      "metadata": {
        "id": "SpWdJeLiq2hc",
        "colab": {
          "base_uri": "https://localhost:8080/"
        },
        "outputId": "4bfcb67a-71aa-46ad-b5b5-5a916a148c66"
      },
      "source": [
        "cd /"
      ],
      "execution_count": null,
      "outputs": [
        {
          "output_type": "stream",
          "text": [
            "/\n"
          ],
          "name": "stdout"
        }
      ]
    },
    {
      "cell_type": "code",
      "metadata": {
        "colab": {
          "base_uri": "https://localhost:8080/"
        },
        "id": "vdyMOkOHIAvn",
        "outputId": "46034a31-0478-4ac4-d74d-a3c51656dcd5"
      },
      "source": [
        "!wget --load-cookies /tmp/cookies.txt \"https://docs.google.com/uc?export=download&confirm=$(wget --quiet --save-cookies /tmp/cookies.txt --keep-session-cookies --no-check-certificate 'https://docs.google.com/uc?export=download&id=1Orm2tbk5gljhnRrZ56onxRdmIUWvYt-X' -O- | sed -rn 's/.*confirm=([0-9A-Za-z_]+).*/\\1\\n/p')&id=1Orm2tbk5gljhnRrZ56onxRdmIUWvYt-X\" -O finaltest.zip && rm -rf /tmp/cookies.txt\n"
      ],
      "execution_count": null,
      "outputs": [
        {
          "output_type": "stream",
          "text": [
            "--2021-05-17 23:55:38--  https://docs.google.com/uc?export=download&confirm=izR9&id=1Orm2tbk5gljhnRrZ56onxRdmIUWvYt-X\n",
            "Resolving docs.google.com (docs.google.com)... 173.194.79.139, 173.194.79.113, 173.194.79.138, ...\n",
            "Connecting to docs.google.com (docs.google.com)|173.194.79.139|:443... connected.\n",
            "HTTP request sent, awaiting response... 302 Moved Temporarily\n",
            "Location: https://doc-0g-5s-docs.googleusercontent.com/docs/securesc/pb60cjjjvvv0db43il8v6oc0sfpt158u/4ckpc0tinl79lva7pnt8h6ma8e6vot83/1621295700000/10681116013986523016/02639302157970986819Z/1Orm2tbk5gljhnRrZ56onxRdmIUWvYt-X?e=download [following]\n",
            "--2021-05-17 23:55:38--  https://doc-0g-5s-docs.googleusercontent.com/docs/securesc/pb60cjjjvvv0db43il8v6oc0sfpt158u/4ckpc0tinl79lva7pnt8h6ma8e6vot83/1621295700000/10681116013986523016/02639302157970986819Z/1Orm2tbk5gljhnRrZ56onxRdmIUWvYt-X?e=download\n",
            "Resolving doc-0g-5s-docs.googleusercontent.com (doc-0g-5s-docs.googleusercontent.com)... 172.217.218.132, 2a00:1450:4013:c01::84\n",
            "Connecting to doc-0g-5s-docs.googleusercontent.com (doc-0g-5s-docs.googleusercontent.com)|172.217.218.132|:443... connected.\n",
            "HTTP request sent, awaiting response... 302 Found\n",
            "Location: https://docs.google.com/nonceSigner?nonce=h09414rp4tu52&continue=https://doc-0g-5s-docs.googleusercontent.com/docs/securesc/pb60cjjjvvv0db43il8v6oc0sfpt158u/4ckpc0tinl79lva7pnt8h6ma8e6vot83/1621295700000/10681116013986523016/02639302157970986819Z/1Orm2tbk5gljhnRrZ56onxRdmIUWvYt-X?e%3Ddownload&hash=drk2ld4n2mrl2f4sh5clav3q5efsrbr3 [following]\n",
            "--2021-05-17 23:55:39--  https://docs.google.com/nonceSigner?nonce=h09414rp4tu52&continue=https://doc-0g-5s-docs.googleusercontent.com/docs/securesc/pb60cjjjvvv0db43il8v6oc0sfpt158u/4ckpc0tinl79lva7pnt8h6ma8e6vot83/1621295700000/10681116013986523016/02639302157970986819Z/1Orm2tbk5gljhnRrZ56onxRdmIUWvYt-X?e%3Ddownload&hash=drk2ld4n2mrl2f4sh5clav3q5efsrbr3\n",
            "Connecting to docs.google.com (docs.google.com)|173.194.79.139|:443... connected.\n",
            "HTTP request sent, awaiting response... 302 Found\n",
            "Location: https://doc-0g-5s-docs.googleusercontent.com/docs/securesc/pb60cjjjvvv0db43il8v6oc0sfpt158u/4ckpc0tinl79lva7pnt8h6ma8e6vot83/1621295700000/10681116013986523016/02639302157970986819Z/1Orm2tbk5gljhnRrZ56onxRdmIUWvYt-X?e=download&nonce=h09414rp4tu52&user=02639302157970986819Z&hash=bndjvdsh5l3fjpr1monvurmu8eti2u87 [following]\n",
            "--2021-05-17 23:55:39--  https://doc-0g-5s-docs.googleusercontent.com/docs/securesc/pb60cjjjvvv0db43il8v6oc0sfpt158u/4ckpc0tinl79lva7pnt8h6ma8e6vot83/1621295700000/10681116013986523016/02639302157970986819Z/1Orm2tbk5gljhnRrZ56onxRdmIUWvYt-X?e=download&nonce=h09414rp4tu52&user=02639302157970986819Z&hash=bndjvdsh5l3fjpr1monvurmu8eti2u87\n",
            "Connecting to doc-0g-5s-docs.googleusercontent.com (doc-0g-5s-docs.googleusercontent.com)|172.217.218.132|:443... connected.\n",
            "HTTP request sent, awaiting response... 200 OK\n",
            "Length: unspecified [application/x-zip-compressed]\n",
            "Saving to: ‘finaltest.zip’\n",
            "\n",
            "finaltest.zip           [            <=>     ] 413.90M  68.2MB/s    in 6.2s    \n",
            "\n",
            "2021-05-17 23:55:46 (66.4 MB/s) - ‘finaltest.zip’ saved [434007592]\n",
            "\n"
          ],
          "name": "stdout"
        }
      ]
    },
    {
      "cell_type": "code",
      "metadata": {
        "colab": {
          "base_uri": "https://localhost:8080/"
        },
        "id": "tf3XmfBkIS_W",
        "outputId": "22d01cda-d598-4619-8ce1-ee2ffcc862d9"
      },
      "source": [
        "# from google.colab import files\n",
        "# files.download('example.txt') \n",
        "!unzip /finaltest.zip -d /\n",
        "print('done')"
      ],
      "execution_count": null,
      "outputs": [
        {
          "output_type": "stream",
          "text": [
            "Archive:  /finaltest.zip\n",
            "   creating: /scz_test/\n",
            "  inflating: /scz_test/18.nii.gz     \n",
            "  inflating: /scz_test/19.nii.gz     \n",
            "  inflating: /scz_test/20.nii.gz     \n",
            "  inflating: /scz_test/21.nii.gz     \n",
            "  inflating: /scz_test/22.nii.gz     \n",
            "  inflating: /scz_test/23.nii.gz     \n",
            "  inflating: /scz_test/24.nii.gz     \n",
            "  inflating: /scz_test/25.nii.gz     \n",
            "  inflating: /scz_test/26.nii.gz     \n",
            "  inflating: /scz_test/27.nii.gz     \n",
            "  inflating: /scz_test/28.nii.gz     \n",
            "  inflating: /scz_test/29.nii.gz     \n",
            "  inflating: /scz_test/30.nii.gz     \n",
            "  inflating: /scz_test/31.nii.gz     \n",
            "   creating: /normal_test/\n",
            "  inflating: /normal_test/18.nii.gz  \n",
            "  inflating: /normal_test/19.nii.gz  \n",
            "  inflating: /normal_test/20.nii.gz  \n",
            "  inflating: /normal_test/21.nii.gz  \n",
            "  inflating: /normal_test/22.nii.gz  \n",
            "  inflating: /normal_test/23.nii.gz  \n",
            "  inflating: /normal_test/24.nii.gz  \n",
            "  inflating: /normal_test/25.nii.gz  \n",
            "  inflating: /normal_test/26.nii.gz  \n",
            "done\n"
          ],
          "name": "stdout"
        }
      ]
    },
    {
      "cell_type": "code",
      "metadata": {
        "id": "9W9HlE2HITav"
      },
      "source": [
        "normaltest = []\n",
        "scztest = []"
      ],
      "execution_count": null,
      "outputs": []
    },
    {
      "cell_type": "code",
      "metadata": {
        "colab": {
          "base_uri": "https://localhost:8080/"
        },
        "id": "GCEN9VaXIVVL",
        "outputId": "5a730be9-e5b7-49db-c313-10b48cdde8a8"
      },
      "source": [
        "flag = 0\n",
        "count = 0\n",
        "for file in glob.glob('/normal_test/*'):\n",
        "  count= count+1\n",
        "  print(file)\n",
        "  img4d = nib.load(file)\n",
        "  img3d_list = nib.funcs.four_to_three(img4d)\n",
        "  for i in img3d_list:\n",
        "    data = i.get_fdata()\n",
        "    normaltest.append(data)\n",
        "    \n",
        "  #   if (len(scz)==2500):\n",
        "  #     flag = 1\n",
        "  #     if(flag == 1):\n",
        "  #       break\n",
        "  # if(flag == 1):\n",
        "  #   break\n",
        "print(\"done\")\n",
        "print(count)"
      ],
      "execution_count": null,
      "outputs": [
        {
          "output_type": "stream",
          "text": [
            "/normal_test/19.nii.gz\n",
            "/normal_test/21.nii.gz\n",
            "/normal_test/25.nii.gz\n",
            "/normal_test/23.nii.gz\n",
            "/normal_test/20.nii.gz\n",
            "/normal_test/22.nii.gz\n",
            "/normal_test/24.nii.gz\n",
            "/normal_test/18.nii.gz\n",
            "/normal_test/26.nii.gz\n",
            "done\n",
            "9\n"
          ],
          "name": "stdout"
        }
      ]
    },
    {
      "cell_type": "code",
      "metadata": {
        "colab": {
          "base_uri": "https://localhost:8080/"
        },
        "id": "UkCERmGaIYfo",
        "outputId": "686cc5c5-130b-4e54-d649-b74d538e5c45"
      },
      "source": [
        "flag = 0\n",
        "count = 0\n",
        "for file in glob.glob('/scz_test/*'):\n",
        "  count= count+1\n",
        "  print(file)\n",
        "  img4d = nib.load(file)\n",
        "  img3d_list = nib.funcs.four_to_three(img4d)\n",
        "  for i in img3d_list:\n",
        "    data = i.get_fdata()\n",
        "    scztest.append(data)\n",
        "    \n",
        "  #   if (len(scz)==2500):\n",
        "  #     flag = 1\n",
        "  #     if(flag == 1):\n",
        "  #       break\n",
        "  # if(flag == 1):\n",
        "  #   break\n",
        "print(\"done\")\n",
        "print(count)"
      ],
      "execution_count": null,
      "outputs": [
        {
          "output_type": "stream",
          "text": [
            "/scz_test/29.nii.gz\n",
            "/scz_test/19.nii.gz\n",
            "/scz_test/21.nii.gz\n",
            "/scz_test/25.nii.gz\n",
            "/scz_test/28.nii.gz\n",
            "/scz_test/23.nii.gz\n",
            "/scz_test/30.nii.gz\n",
            "/scz_test/31.nii.gz\n",
            "/scz_test/20.nii.gz\n",
            "/scz_test/22.nii.gz\n",
            "/scz_test/24.nii.gz\n",
            "/scz_test/18.nii.gz\n",
            "/scz_test/27.nii.gz\n",
            "/scz_test/26.nii.gz\n",
            "done\n",
            "14\n"
          ],
          "name": "stdout"
        }
      ]
    },
    {
      "cell_type": "code",
      "metadata": {
        "id": "FKU81qD8Iai8"
      },
      "source": [
        "normaltest_labels = np.array([0 for _ in range(len(normaltest))])\n",
        "scztest_labels = np.array([1 for _ in range(len(scztest))])\n",
        "\n",
        "\n",
        "y = np.concatenate((normaltest_labels[:], scztest_labels[:]), axis=0)"
      ],
      "execution_count": null,
      "outputs": []
    },
    {
      "cell_type": "code",
      "metadata": {
        "id": "q9BsZbm1IctL"
      },
      "source": [
        "normaltest_array = np.asarray(normaltest)\n",
        "normaltest_array =(normaltest_array- x_mean)/x_std\n",
        "scztest_array = np.asarray(scztest)\n",
        "scztest_array =(scztest_array- x_mean)/x_std\n",
        "\n",
        "\n",
        "x_test = np.concatenate((normaltest_array[:], scztest_array[:]), axis=0)"
      ],
      "execution_count": null,
      "outputs": []
    },
    {
      "cell_type": "code",
      "metadata": {
        "colab": {
          "base_uri": "https://localhost:8080/"
        },
        "id": "TExXUTsYL7hQ",
        "outputId": "6081c242-2451-41c6-92d0-72b011231aa0"
      },
      "source": [
        "y.shape"
      ],
      "execution_count": null,
      "outputs": [
        {
          "output_type": "execute_result",
          "data": {
            "text/plain": [
              "(3450,)"
            ]
          },
          "metadata": {
            "tags": []
          },
          "execution_count": 36
        }
      ]
    },
    {
      "cell_type": "code",
      "metadata": {
        "colab": {
          "base_uri": "https://localhost:8080/"
        },
        "id": "ooeUXwctIrS3",
        "outputId": "07a228ae-fa59-4ed8-fe76-1872c1be3c3b"
      },
      "source": [
        "score = model.evaluate(x = x_test,y = y)"
      ],
      "execution_count": null,
      "outputs": [
        {
          "output_type": "stream",
          "text": [
            "108/108 [==============================] - 5s 45ms/step - loss: 98312.4609 - acc: 0.8157\n"
          ],
          "name": "stdout"
        }
      ]
    },
    {
      "cell_type": "code",
      "metadata": {
        "id": "5j_pNYjTNDSd"
      },
      "source": [
        "model.save('model1.h5')"
      ],
      "execution_count": null,
      "outputs": []
    },
    {
      "cell_type": "code",
      "metadata": {
        "id": "sLB0Q0-JNoHC"
      },
      "source": [
        "model = load_model('model1.h5')"
      ],
      "execution_count": null,
      "outputs": []
    },
    {
      "cell_type": "code",
      "metadata": {
        "colab": {
          "base_uri": "https://localhost:8080/"
        },
        "id": "OJU7vzuaPrHO",
        "outputId": "129d23d2-1e46-44ad-c81b-0e334c549966"
      },
      "source": [
        "print(\"%s: %.2f%%\" % (model.metrics_names[1], score[1]*100))"
      ],
      "execution_count": null,
      "outputs": [
        {
          "output_type": "stream",
          "text": [
            "acc: 100.00%\n"
          ],
          "name": "stdout"
        }
      ]
    },
    {
      "cell_type": "code",
      "metadata": {
        "id": "edVwoosWRlM6"
      },
      "source": [
        "def plot_loss_accu(history):\n",
        "    loss = history.history['loss']\n",
        "    val_loss = history.history['val_loss']\n",
        "    epochs = range(len(loss))\n",
        "    plt.plot(epochs, loss, 'g')\n",
        "    plt.plot(epochs, val_loss, 'y')\n",
        "    plt.title('Training loss')\n",
        "    plt.legend(['train', 'val'], loc='upper right')\n",
        "    plt.grid()\n",
        "    plt.show()\n",
        "    loss = history.history['acc']\n",
        "    val_loss = history.history['val_acc']\n",
        "    epochs = range(len(loss))\n",
        "    plt.plot(epochs, loss, 'r')\n",
        "    plt.plot(epochs, val_loss, 'b')\n",
        "    plt.title('Training accuracy')\n",
        "    plt.legend(['train', 'val'], loc='lower right')\n",
        "    plt.grid()\n",
        "    plt.show()"
      ],
      "execution_count": null,
      "outputs": []
    },
    {
      "cell_type": "code",
      "metadata": {
        "colab": {
          "base_uri": "https://localhost:8080/",
          "height": 545
        },
        "id": "eciWbo3YSGt3",
        "outputId": "f279d35f-52ec-4aa8-90b0-2d16f1fd6df5"
      },
      "source": [
        "plot_loss_accu(history) "
      ],
      "execution_count": null,
      "outputs": [
        {
          "output_type": "display_data",
          "data": {
            "image/png": "[encoded data removed]",
            "text/plain": [
              "<Figure size 432x288 with 1 Axes>"
            ]
          },
          "metadata": {
            "tags": [],
            "needs_background": "light"
          }
        },
        {
          "output_type": "display_data",
          "data": {
            "image/png": "[encoded data removed]",
            "text/plain": [
              "<Figure size 432x288 with 1 Axes>"
            ]
          },
          "metadata": {
            "tags": [],
            "needs_background": "light"
          }
        }
      ]
    }
  ]
}