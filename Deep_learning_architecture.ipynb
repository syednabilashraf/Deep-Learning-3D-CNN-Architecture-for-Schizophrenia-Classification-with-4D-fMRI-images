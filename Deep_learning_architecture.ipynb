{
  "nbformat": 4,
  "nbformat_minor": 0,
  "metadata": {
    "colab": {
      "name": "Deep learning architecture.ipynb",
      "provenance": [],
      "machine_shape": "hm"
    },
    "kernelspec": {
      "name": "python3",
      "display_name": "Python 3"
    },
    "language_info": {
      "name": "python"
    },
    "accelerator": "GPU"
  },
  "cells": [
    {
      "cell_type": "code",
      "metadata": {
        "id": "zecpHZBqA5ju"
      },
      "source": [
        "from google.colab import files\n",
        "import matplotlib.pyplot as plt\n",
        "import numpy as np\n",
        "import scipy.io as sio\n",
        "import os\n",
        "import tensorflow as tf\n",
        "import zipfile\n",
        "from tensorflow import keras\n",
        "from tensorflow.keras import layers\n",
        "import nibabel as nib\n",
        "import glob\n",
        "from sklearn.utils import shuffle\n",
        "import sys\n",
        "from keras.callbacks import ModelCheckpoint, TensorBoard, ReduceLROnPlateau, EarlyStopping"
      ],
      "execution_count": 1,
      "outputs": []
    },
    {
      "cell_type": "markdown",
      "metadata": {
        "id": "j8snSYABGMQP"
      },
      "source": [
        ""
      ]
    },
    {
      "cell_type": "code",
      "metadata": {
        "id": "wCQDwxx-BQXv"
      },
      "source": [
        "from keras.utils import np_utils\n",
        "from keras.layers import Conv3D, MaxPool3D, Flatten, Dense\n",
        "from keras.layers import Dropout, Input, BatchNormalization\n",
        "from sklearn.metrics import confusion_matrix, accuracy_score\n",
        "from keras.losses import binary_crossentropy\n",
        "from keras.optimizers import Adadelta, SGD\n",
        "from matplotlib.pyplot import cm\n",
        "import matplotlib.pyplot as plt\n",
        "from keras.models import Model\n",
        "import cv2\n",
        "import os\n",
        "import numpy as np\n",
        "import keras\n",
        "import h5py\n",
        "import numpy as np\n",
        "from keras import regularizers\n",
        "import os\n",
        "import glob\n",
        "import cv2\n",
        "import random\n",
        "import matplotlib.pyplot as plt\n",
        "from sklearn.utils import shuffle\n",
        "from sklearn.model_selection import train_test_split\n",
        "from sklearn.model_selection import StratifiedKFold\n",
        "from sklearn.metrics import roc_curve, roc_auc_score\n",
        "\n",
        "from keras.models import Sequential\n",
        "from keras.optimizers import RMSprop\n",
        "from keras.layers import Conv2D, MaxPooling2D\n",
        "from keras.layers import Activation, Dropout, Flatten, Dense\n",
        "from sklearn.utils import shuffle\n",
        "from sklearn.model_selection import train_test_split\n",
        "from keras import optimizers\n",
        "# from keras.utils import to_categorical, plot_model\n",
        "from keras.layers import Dense, Input, Conv2D, Flatten, MaxPooling2D, Activation\n",
        "from keras.models import Model, Sequential\n",
        "from keras.layers import Activation, Dropout, Flatten, Dense\n",
        "from keras.callbacks import ModelCheckpoint\n",
        "from keras.optimizers import Adam\n",
        "from keras.applications.vgg16 import VGG16\n",
        "from keras.models import load_model\n",
        "from keras.utils import np_utils\n",
        "from keras import backend as K\n",
        "from keras.models import load_model\n",
        "import keras"
      ],
      "execution_count": 2,
      "outputs": []
    },
    {
      "cell_type": "code",
      "metadata": {
        "id": "eh-nMGh2CZuq"
      },
      "source": [
        "seed = 7\n",
        "np.random.seed(seed)"
      ],
      "execution_count": 3,
      "outputs": []
    },
    {
      "cell_type": "code",
      "metadata": {
        "colab": {
          "base_uri": "https://localhost:8080/"
        },
        "id": "D0xFNFTVLfgK",
        "outputId": "54670ed6-efe3-4389-b4c3-627f3e91577a"
      },
      "source": [
        "cd /"
      ],
      "execution_count": null,
      "outputs": [
        {
          "output_type": "stream",
          "text": [
            "/\n"
          ],
          "name": "stdout"
        }
      ]
    },
    {
      "cell_type": "code",
      "metadata": {
        "id": "UCUpcL9EBUSV"
      },
      "source": [
        "x_train = np.load(\"/content/drive/MyDrive/thesis2/x_train_minmax_normalized.npy\")\n",
        "y_train = np.load(\"/content/drive/MyDrive/thesis2/y_training.npy\")"
      ],
      "execution_count": 4,
      "outputs": []
    },
    {
      "cell_type": "code",
      "metadata": {
        "colab": {
          "base_uri": "https://localhost:8080/"
        },
        "id": "4dHWbQtjCwV5",
        "outputId": "118edefd-80cd-49a8-c645-e2e758b9001e"
      },
      "source": [
        "x_train.shape,y_train.shape"
      ],
      "execution_count": 5,
      "outputs": [
        {
          "output_type": "execute_result",
          "data": {
            "text/plain": [
              "((6000, 64, 64, 33), (6000,))"
            ]
          },
          "metadata": {
            "tags": []
          },
          "execution_count": 5
        }
      ]
    },
    {
      "cell_type": "code",
      "metadata": {
        "colab": {
          "base_uri": "https://localhost:8080/"
        },
        "id": "cNVglHlbCPXy",
        "outputId": "f11c8dd8-8a41-4f32-8e8e-558b1f94ff13"
      },
      "source": [
        "# x_mean = np.mean(x_train)\n",
        "# x_std = np.std(x_train)\n",
        "# x_mean,x_std\n",
        "# # (1553.0166624964165, 3575.5203140146095)"
      ],
      "execution_count": null,
      "outputs": [
        {
          "output_type": "execute_result",
          "data": {
            "text/plain": [
              "(0.22945192119659386, 0.10349581814834698)"
            ]
          },
          "metadata": {
            "tags": []
          },
          "execution_count": 5
        }
      ]
    },
    {
      "cell_type": "code",
      "metadata": {
        "id": "YfUjSwAiKxge",
        "colab": {
          "base_uri": "https://localhost:8080/"
        },
        "outputId": "95d9d11b-1927-4f82-8e85-f4af9f7a5d5c"
      },
      "source": [
        "np.max(x_train),np.min(x_train)"
      ],
      "execution_count": 6,
      "outputs": [
        {
          "output_type": "execute_result",
          "data": {
            "text/plain": [
              "(1.0, 0.0)"
            ]
          },
          "metadata": {
            "tags": []
          },
          "execution_count": 6
        }
      ]
    },
    {
      "cell_type": "code",
      "metadata": {
        "id": "1MH36NTPtUad"
      },
      "source": [
        "m , mi = 28822.50390625, -6477.419921875"
      ],
      "execution_count": 7,
      "outputs": []
    },
    {
      "cell_type": "code",
      "metadata": {
        "id": "v4zqMF9JCXPv"
      },
      "source": [
        "# x_train = (x_train- x_mean)/x_std"
      ],
      "execution_count": null,
      "outputs": []
    },
    {
      "cell_type": "code",
      "metadata": {
        "id": "0NqBkdf0Cgho"
      },
      "source": [
        "x_test = np.load(\"/content/drive/MyDrive/thesis2/x_test.npy\")\n",
        "y_test = np.load(\"/content/drive/MyDrive/thesis2/y_test.npy\")"
      ],
      "execution_count": 8,
      "outputs": []
    },
    {
      "cell_type": "code",
      "metadata": {
        "colab": {
          "base_uri": "https://localhost:8080/"
        },
        "id": "H5GCMEhOCtWR",
        "outputId": "8a35a137-40a5-4330-fcc0-7b76639a3c31"
      },
      "source": [
        "x_test.shape,y_test.shape"
      ],
      "execution_count": 9,
      "outputs": [
        {
          "output_type": "execute_result",
          "data": {
            "text/plain": [
              "((1500, 64, 64, 33), (1500,))"
            ]
          },
          "metadata": {
            "tags": []
          },
          "execution_count": 9
        }
      ]
    },
    {
      "cell_type": "code",
      "metadata": {
        "id": "0EPVVPJDC4DZ"
      },
      "source": [
        "x_test = (x_test - mi) / (m - mi)"
      ],
      "execution_count": 10,
      "outputs": []
    },
    {
      "cell_type": "code",
      "metadata": {
        "id": "jD-Sr2TIC-4g"
      },
      "source": [
        "x_val = np.load(\"/content/drive/MyDrive/thesis2/x_validation2.npy\")\n",
        "y_val = np.load(\"/content/drive/MyDrive/thesis2/y_validation2.npy\")"
      ],
      "execution_count": 11,
      "outputs": []
    },
    {
      "cell_type": "code",
      "metadata": {
        "colab": {
          "base_uri": "https://localhost:8080/"
        },
        "id": "5UhsBxM5-lds",
        "outputId": "3c402520-0e8e-43f7-b02e-e67a889eb0e8"
      },
      "source": [
        "y_val.shape"
      ],
      "execution_count": 12,
      "outputs": [
        {
          "output_type": "execute_result",
          "data": {
            "text/plain": [
              "(900,)"
            ]
          },
          "metadata": {
            "tags": []
          },
          "execution_count": 12
        }
      ]
    },
    {
      "cell_type": "code",
      "metadata": {
        "colab": {
          "base_uri": "https://localhost:8080/"
        },
        "id": "lBIk8xHHDI30",
        "outputId": "9fa0db50-c671-4591-b432-7a3aa009e65c"
      },
      "source": [
        "x_val.shape,y_val.shape"
      ],
      "execution_count": 13,
      "outputs": [
        {
          "output_type": "execute_result",
          "data": {
            "text/plain": [
              "((900, 64, 64, 33), (900,))"
            ]
          },
          "metadata": {
            "tags": []
          },
          "execution_count": 13
        }
      ]
    },
    {
      "cell_type": "code",
      "metadata": {
        "id": "IAbisxmFDRgn"
      },
      "source": [
        "x_val = (x_val - mi) / (m - mi)"
      ],
      "execution_count": 14,
      "outputs": []
    },
    {
      "cell_type": "markdown",
      "metadata": {
        "id": "vHmTiOyp2tmz"
      },
      "source": [
        "learning rate/batch size/dropout"
      ]
    },
    {
      "cell_type": "code",
      "metadata": {
        "colab": {
          "base_uri": "https://localhost:8080/"
        },
        "id": "WWBGw7NnDakh",
        "outputId": "33b23a38-26bb-4a76-ec3b-5d69720f294e"
      },
      "source": [
        "# def m_naive():\n",
        "    \n",
        "#     filter_size = 32\n",
        "#     input_layer = Input((64, 64, 33, 1)) # 1 is just dummy dimension good for nothing \n",
        "    \n",
        "#     conv_layer1 = Conv3D(filters=filter_size, kernel_size=(2, 2, 2), activation='relu')(input_layer)\n",
        "#     pooling_layer1 = MaxPool3D(pool_size=(2, 2, 2))(conv_layer1)\n",
        "\n",
        "        \n",
        "#     #conv_layer2 = Conv3D(filters=16, kernel_size=(2, 2, 2), activation='relu')(pooling_layer1)\n",
        "#     #pooling_layer2 = MaxPool3D(pool_size=(2, 2, 2))(conv_layer2)\n",
        "\n",
        "#     #conv_layer3 = Conv3D(filters=32, kernel_size=(3, 3, 3), activation='relu')(pooling_layer1)\n",
        "#     #pooling_layer3 = MaxPool3D(pool_size=(2, 2, 2))(conv_layer3)\n",
        "\n",
        "#     conv_layer4 = Conv3D(filters=filter_size, kernel_size=(2, 2, 2), activation='relu')(pooling_layer1)\n",
        "#     pooling_layer4 = MaxPool3D(pool_size=(2, 2, 2))(conv_layer4)\n",
        "\n",
        "#     conv_layer5 = Conv3D(filters=filter_size, kernel_size=(2, 2, 2), activation='relu')(pooling_layer4)\n",
        "#     pooling_layer5 = MaxPool3D(pool_size=(2, 2, 2))(conv_layer5)\n",
        "    \n",
        "#     pooling_layer9 = BatchNormalization()(pooling_layer5)\n",
        "#     flatten_layer = Flatten()(pooling_layer9)\n",
        "\n",
        "#     dense_layer1 = Dense(units=1028, activation='relu')(flatten_layer)\n",
        "#     dense_layer1 = Dropout(0.4)(dense_layer1)\n",
        "    \n",
        "    \n",
        "#     dense_layer2 = Dense(units=1028, activation='relu')(dense_layer1)\n",
        "#     dense_layer2 = Dropout(0.4)(dense_layer2)\n",
        "    \n",
        "#     dense_layer3 = Dense(units=512, activation='relu')(dense_layer2)\n",
        "#     dense_layer3 = Dropout(0.4)(dense_layer3)\n",
        "\n",
        "#     dense_layer4 = Dense(units=256, activation='relu')(dense_layer2)\n",
        "#     dense_layer4 = Dropout(0.4)(dense_layer3)\n",
        "\n",
        "#     output_layer = Dense(units=1, activation='sigmoid')(dense_layer4)\n",
        "\n",
        "#     model = Model(inputs=input_layer, outputs=output_layer)\n",
        "\n",
        "#     model.compile(loss=binary_crossentropy, optimizer=SGD(learning_rate=1e-4, momentum=0.9), metrics=['acc']) # # optimizers.SGD(lr=1e-4, momentum=0.9)\n",
        "    \n",
        "#     return model\n",
        "\n",
        "# model = None\n",
        "# model = m_naive()\n",
        "# model.summary()"
      ],
      "execution_count": null,
      "outputs": [
        {
          "output_type": "stream",
          "text": [
            "Model: \"model_1\"\n",
            "_________________________________________________________________\n",
            "Layer (type)                 Output Shape              Param #   \n",
            "=================================================================\n",
            "input_2 (InputLayer)         [(None, 64, 64, 33, 1)]   0         \n",
            "_________________________________________________________________\n",
            "conv3d_3 (Conv3D)            (None, 63, 63, 32, 32)    288       \n",
            "_________________________________________________________________\n",
            "max_pooling3d_3 (MaxPooling3 (None, 31, 31, 16, 32)    0         \n",
            "_________________________________________________________________\n",
            "conv3d_4 (Conv3D)            (None, 30, 30, 15, 32)    8224      \n",
            "_________________________________________________________________\n",
            "max_pooling3d_4 (MaxPooling3 (None, 15, 15, 7, 32)     0         \n",
            "_________________________________________________________________\n",
            "conv3d_5 (Conv3D)            (None, 14, 14, 6, 32)     8224      \n",
            "_________________________________________________________________\n",
            "max_pooling3d_5 (MaxPooling3 (None, 7, 7, 3, 32)       0         \n",
            "_________________________________________________________________\n",
            "batch_normalization_1 (Batch (None, 7, 7, 3, 32)       128       \n",
            "_________________________________________________________________\n",
            "flatten_1 (Flatten)          (None, 4704)              0         \n",
            "_________________________________________________________________\n",
            "dense_5 (Dense)              (None, 1028)              4836740   \n",
            "_________________________________________________________________\n",
            "dropout_4 (Dropout)          (None, 1028)              0         \n",
            "_________________________________________________________________\n",
            "dense_6 (Dense)              (None, 1028)              1057812   \n",
            "_________________________________________________________________\n",
            "dropout_5 (Dropout)          (None, 1028)              0         \n",
            "_________________________________________________________________\n",
            "dense_7 (Dense)              (None, 512)               526848    \n",
            "_________________________________________________________________\n",
            "dropout_6 (Dropout)          (None, 512)               0         \n",
            "_________________________________________________________________\n",
            "dropout_7 (Dropout)          (None, 512)               0         \n",
            "_________________________________________________________________\n",
            "dense_9 (Dense)              (None, 1)                 513       \n",
            "=================================================================\n",
            "Total params: 6,438,777\n",
            "Trainable params: 6,438,713\n",
            "Non-trainable params: 64\n",
            "_________________________________________________________________\n"
          ],
          "name": "stdout"
        }
      ]
    },
    {
      "cell_type": "code",
      "metadata": {
        "colab": {
          "base_uri": "https://localhost:8080/"
        },
        "id": "8nZ5WGTcCl_w",
        "outputId": "f80451e2-b481-425c-ca0a-e1a1da431a80"
      },
      "source": [
        "def m_naive():\n",
        "    \n",
        "    filter_size = 32\n",
        "    input_layer = Input((64, 64, 33, 1)) # 1 is just dummy dimension good for nothing \n",
        "    \n",
        "    conv_layer1 = Conv3D(filters=64, kernel_size=(3, 3, 3), activation='relu')(input_layer)\n",
        "    pooling_layer1 = MaxPool3D(pool_size=(2, 2, 2))(conv_layer1)\n",
        "\n",
        "    pooling_layer1 = BatchNormalization()(pooling_layer1)  \n",
        "    conv_layer2 = Conv3D(filters=64, kernel_size=(3, 3, 3), activation='relu')(pooling_layer1)\n",
        "    pooling_layer2 = MaxPool3D(pool_size=(2, 2, 2))(conv_layer2)\n",
        "    pooling_layer2 = BatchNormalization()(pooling_layer2)\n",
        "    conv_layer3 = Conv3D(filters=64, kernel_size=(3, 3, 3), activation='relu')(pooling_layer1)\n",
        "    pooling_layer3 = MaxPool3D(pool_size=(2, 2, 2))(conv_layer3)\n",
        "    pooling_layer3 = BatchNormalization()(pooling_layer3)\n",
        "    conv_layer4 = Conv3D(filters=128, kernel_size=(3, 3, 3), activation='relu')(pooling_layer3)\n",
        "    pooling_layer4 = MaxPool3D(pool_size=(2, 2, 2))(conv_layer4)\n",
        "    pooling_layer4 = BatchNormalization()(pooling_layer4)\n",
        "    conv_layer5 = Conv3D(filters=256, kernel_size=(3, 3, 3), activation='relu',padding='same')(pooling_layer4)\n",
        "    pooling_layer5 = MaxPool3D(pool_size=(2, 2, 2))(conv_layer5)\n",
        "    \n",
        "    pooling_layer9 = BatchNormalization()(pooling_layer5)\n",
        "    flatten_layer = Flatten()(pooling_layer9)\n",
        "\n",
        "    #dense_layer1 = Dense(units=1028, activation='relu')(flatten_layer)\n",
        "    #dense_layer1 = Dropout(0.4)(dense_layer1)\n",
        "    \n",
        "    \n",
        "    #dense_layer2 = Dense(units=1028, activation='relu')(flatten_layer)\n",
        "    #dense_layer2 = Dropout(0.4)(dense_layer2)\n",
        "    \n",
        "    dense_layer3 = Dense(units=512, activation='relu')(flatten_layer)\n",
        "    dense_layer3 = Dropout(0.4)(dense_layer3)\n",
        "\n",
        "    dense_layer4 = Dense(units=256, activation='relu')(dense_layer3)\n",
        "    dense_layer4 = Dropout(0.4)(dense_layer3)\n",
        "  \n",
        "    output_layer = Dense(units=1, activation='sigmoid')(dense_layer4)\n",
        "\n",
        "    model = Model(inputs=input_layer, outputs=output_layer)\n",
        "\n",
        "    model.compile(loss='mae', optimizer=SGD(learning_rate=1e-06, momentum=0.99, decay=0.0, nesterov=False), metrics=['acc']) # # optimizers.SGD(lr=1e-4, momentum=0.9)\n",
        "    \n",
        "    return model\n",
        "\n",
        "model = None\n",
        "model = m_naive()\n",
        "model.summary()"
      ],
      "execution_count": 16,
      "outputs": [
        {
          "output_type": "stream",
          "text": [
            "Model: \"model_1\"\n",
            "_________________________________________________________________\n",
            "Layer (type)                 Output Shape              Param #   \n",
            "=================================================================\n",
            "input_2 (InputLayer)         [(None, 64, 64, 33, 1)]   0         \n",
            "_________________________________________________________________\n",
            "conv3d_5 (Conv3D)            (None, 62, 62, 31, 64)    1792      \n",
            "_________________________________________________________________\n",
            "max_pooling3d_5 (MaxPooling3 (None, 31, 31, 15, 64)    0         \n",
            "_________________________________________________________________\n",
            "batch_normalization_5 (Batch (None, 31, 31, 15, 64)    256       \n",
            "_________________________________________________________________\n",
            "conv3d_7 (Conv3D)            (None, 29, 29, 13, 64)    110656    \n",
            "_________________________________________________________________\n",
            "max_pooling3d_7 (MaxPooling3 (None, 14, 14, 6, 64)     0         \n",
            "_________________________________________________________________\n",
            "batch_normalization_7 (Batch (None, 14, 14, 6, 64)     256       \n",
            "_________________________________________________________________\n",
            "conv3d_8 (Conv3D)            (None, 12, 12, 4, 128)    221312    \n",
            "_________________________________________________________________\n",
            "max_pooling3d_8 (MaxPooling3 (None, 6, 6, 2, 128)      0         \n",
            "_________________________________________________________________\n",
            "batch_normalization_8 (Batch (None, 6, 6, 2, 128)      512       \n",
            "_________________________________________________________________\n",
            "conv3d_9 (Conv3D)            (None, 6, 6, 2, 256)      884992    \n",
            "_________________________________________________________________\n",
            "max_pooling3d_9 (MaxPooling3 (None, 3, 3, 1, 256)      0         \n",
            "_________________________________________________________________\n",
            "batch_normalization_9 (Batch (None, 3, 3, 1, 256)      1024      \n",
            "_________________________________________________________________\n",
            "flatten_1 (Flatten)          (None, 2304)              0         \n",
            "_________________________________________________________________\n",
            "dense_3 (Dense)              (None, 512)               1180160   \n",
            "_________________________________________________________________\n",
            "dropout_2 (Dropout)          (None, 512)               0         \n",
            "_________________________________________________________________\n",
            "dropout_3 (Dropout)          (None, 512)               0         \n",
            "_________________________________________________________________\n",
            "dense_5 (Dense)              (None, 1)                 513       \n",
            "=================================================================\n",
            "Total params: 2,401,473\n",
            "Trainable params: 2,400,449\n",
            "Non-trainable params: 1,024\n",
            "_________________________________________________________________\n"
          ],
          "name": "stdout"
        }
      ]
    },
    {
      "cell_type": "code",
      "metadata": {
        "id": "lWkzaUXBxDUE"
      },
      "source": [
        ""
      ],
      "execution_count": null,
      "outputs": []
    },
    {
      "cell_type": "code",
      "metadata": {
        "colab": {
          "base_uri": "https://localhost:8080/"
        },
        "id": "4WI_vT5LDnXu",
        "outputId": "e6be9c73-78a1-4bb2-ef29-a7fd3ad1887e"
      },
      "source": [
        "# initial_learning_rate = 0.0001\n",
        "# lr_schedule = keras.optimizers.schedules.ExponentialDecay(\n",
        "#     initial_learning_rate, decay_steps=100000, decay_rate=0.96, staircase=True\n",
        "# )\n",
        "# model.compile(\n",
        "#     loss=\"binary_crossentropy\",\n",
        "#     optimizer=keras.optimizers.Adam(learning_rate=lr_schedule),\n",
        "#     metrics=[\"acc\"],\n",
        "# )\n",
        "\n",
        "# Define callbacks.\n",
        "checkpoint_accuracy = keras.callbacks.ModelCheckpoint(\n",
        "    \"best_accuracy.h5\", save_best_only=True,monitor = 'val_acc',mode = max\n",
        ")\n",
        "checkpoint_validation = keras.callbacks.ModelCheckpoint(\n",
        "    \"best_loss.h5\", save_best_only=True,monitor = 'val_loss',mode = min\n",
        ")\n",
        "# dlr = ReduceLROnPlateau(monitor=\"val_acc\", factor=0.5, patience=5,\n",
        "#                             mode='max', verbose=1, cooldown=5, min_lr=1e-8)\n",
        "\n",
        "# Train the model, doing validation at the end of each epoch\n",
        "epochs = 50\n",
        "history = model.fit(\n",
        "    x = x_train,y = y_train,\n",
        "    validation_data=(x_val,y_val),\n",
        "    epochs=epochs,\n",
        "    shuffle=True,\n",
        "    verbose=2,\n",
        "    callbacks=[checkpoint_accuracy,checkpoint_validation],\n",
        ")"
      ],
      "execution_count": null,
      "outputs": [
        {
          "output_type": "stream",
          "text": [
            "WARNING:tensorflow:ModelCheckpoint mode <built-in function max> is unknown, fallback to auto mode.\n",
            "WARNING:tensorflow:ModelCheckpoint mode <built-in function min> is unknown, fallback to auto mode.\n",
            "Epoch 1/50\n",
            "188/188 - 65s - loss: 0.3894 - acc: 0.6377 - val_loss: 0.5015 - val_acc: 0.5000\n",
            "Epoch 2/50\n",
            "188/188 - 30s - loss: 0.2116 - acc: 0.8493 - val_loss: 0.5056 - val_acc: 0.5000\n",
            "Epoch 3/50\n",
            "188/188 - 30s - loss: 0.1125 - acc: 0.9488 - val_loss: 0.5213 - val_acc: 0.5000\n",
            "Epoch 4/50\n",
            "188/188 - 30s - loss: 0.0661 - acc: 0.9823 - val_loss: 0.4815 - val_acc: 0.6600\n",
            "Epoch 5/50\n",
            "188/188 - 30s - loss: 0.0446 - acc: 0.9933 - val_loss: 0.3964 - val_acc: 0.6389\n",
            "Epoch 6/50\n",
            "188/188 - 30s - loss: 0.0330 - acc: 0.9970 - val_loss: 0.3825 - val_acc: 0.6667\n",
            "Epoch 7/50\n",
            "188/188 - 30s - loss: 0.0274 - acc: 0.9980 - val_loss: 0.3773 - val_acc: 0.6611\n",
            "Epoch 8/50\n",
            "188/188 - 30s - loss: 0.0228 - acc: 0.9990 - val_loss: 0.3760 - val_acc: 0.6667\n",
            "Epoch 9/50\n",
            "188/188 - 30s - loss: 0.0186 - acc: 0.9993 - val_loss: 0.3746 - val_acc: 0.6600\n",
            "Epoch 10/50\n",
            "188/188 - 30s - loss: 0.0156 - acc: 0.9993 - val_loss: 0.3755 - val_acc: 0.6667\n",
            "Epoch 11/50\n",
            "188/188 - 30s - loss: 0.0137 - acc: 0.9998 - val_loss: 0.3774 - val_acc: 0.6667\n",
            "Epoch 12/50\n",
            "188/188 - 30s - loss: 0.0124 - acc: 0.9997 - val_loss: 0.3728 - val_acc: 0.6667\n",
            "Epoch 13/50\n",
            "188/188 - 30s - loss: 0.0122 - acc: 0.9995 - val_loss: 0.3772 - val_acc: 0.6667\n",
            "Epoch 14/50\n",
            "188/188 - 30s - loss: 0.0104 - acc: 0.9997 - val_loss: 0.3751 - val_acc: 0.6667\n",
            "Epoch 15/50\n",
            "188/188 - 30s - loss: 0.0102 - acc: 0.9998 - val_loss: 0.3776 - val_acc: 0.6667\n",
            "Epoch 16/50\n",
            "188/188 - 30s - loss: 0.0098 - acc: 0.9998 - val_loss: 0.3781 - val_acc: 0.6667\n",
            "Epoch 17/50\n",
            "188/188 - 30s - loss: 0.0092 - acc: 0.9997 - val_loss: 0.3761 - val_acc: 0.6667\n",
            "Epoch 18/50\n",
            "188/188 - 30s - loss: 0.0082 - acc: 1.0000 - val_loss: 0.3785 - val_acc: 0.6667\n",
            "Epoch 19/50\n",
            "188/188 - 30s - loss: 0.0077 - acc: 0.9997 - val_loss: 0.3772 - val_acc: 0.6667\n",
            "Epoch 20/50\n",
            "188/188 - 30s - loss: 0.0071 - acc: 0.9997 - val_loss: 0.3802 - val_acc: 0.6667\n",
            "Epoch 21/50\n",
            "188/188 - 30s - loss: 0.0068 - acc: 1.0000 - val_loss: 0.3756 - val_acc: 0.6667\n",
            "Epoch 22/50\n",
            "188/188 - 30s - loss: 0.0065 - acc: 1.0000 - val_loss: 0.3760 - val_acc: 0.6667\n",
            "Epoch 23/50\n",
            "188/188 - 30s - loss: 0.0065 - acc: 1.0000 - val_loss: 0.3735 - val_acc: 0.6667\n",
            "Epoch 24/50\n",
            "188/188 - 30s - loss: 0.0059 - acc: 1.0000 - val_loss: 0.3800 - val_acc: 0.6667\n",
            "Epoch 25/50\n",
            "188/188 - 30s - loss: 0.0053 - acc: 1.0000 - val_loss: 0.3806 - val_acc: 0.6667\n",
            "Epoch 26/50\n",
            "188/188 - 30s - loss: 0.0053 - acc: 1.0000 - val_loss: 0.3753 - val_acc: 0.6667\n",
            "Epoch 27/50\n",
            "188/188 - 30s - loss: 0.0051 - acc: 1.0000 - val_loss: 0.3759 - val_acc: 0.6667\n",
            "Epoch 28/50\n",
            "188/188 - 30s - loss: 0.0048 - acc: 1.0000 - val_loss: 0.3767 - val_acc: 0.6667\n",
            "Epoch 29/50\n",
            "188/188 - 30s - loss: 0.0048 - acc: 1.0000 - val_loss: 0.3749 - val_acc: 0.6667\n",
            "Epoch 30/50\n",
            "188/188 - 30s - loss: 0.0045 - acc: 1.0000 - val_loss: 0.3793 - val_acc: 0.6667\n",
            "Epoch 31/50\n",
            "188/188 - 30s - loss: 0.0044 - acc: 1.0000 - val_loss: 0.3784 - val_acc: 0.6667\n",
            "Epoch 32/50\n",
            "188/188 - 30s - loss: 0.0040 - acc: 1.0000 - val_loss: 0.3745 - val_acc: 0.6667\n",
            "Epoch 33/50\n",
            "188/188 - 30s - loss: 0.0042 - acc: 0.9998 - val_loss: 0.3740 - val_acc: 0.6667\n",
            "Epoch 34/50\n",
            "188/188 - 30s - loss: 0.0040 - acc: 1.0000 - val_loss: 0.3771 - val_acc: 0.6667\n",
            "Epoch 35/50\n",
            "188/188 - 30s - loss: 0.0036 - acc: 1.0000 - val_loss: 0.3775 - val_acc: 0.6667\n",
            "Epoch 36/50\n",
            "188/188 - 30s - loss: 0.0038 - acc: 1.0000 - val_loss: 0.3783 - val_acc: 0.6667\n",
            "Epoch 37/50\n",
            "188/188 - 30s - loss: 0.0038 - acc: 1.0000 - val_loss: 0.3782 - val_acc: 0.6667\n",
            "Epoch 38/50\n",
            "188/188 - 30s - loss: 0.0036 - acc: 1.0000 - val_loss: 0.3793 - val_acc: 0.6667\n",
            "Epoch 39/50\n",
            "188/188 - 30s - loss: 0.0036 - acc: 1.0000 - val_loss: 0.3791 - val_acc: 0.6667\n",
            "Epoch 40/50\n",
            "188/188 - 30s - loss: 0.0034 - acc: 1.0000 - val_loss: 0.3785 - val_acc: 0.6667\n",
            "Epoch 41/50\n",
            "188/188 - 30s - loss: 0.0030 - acc: 1.0000 - val_loss: 0.3771 - val_acc: 0.6667\n",
            "Epoch 42/50\n",
            "188/188 - 30s - loss: 0.0032 - acc: 1.0000 - val_loss: 0.3772 - val_acc: 0.6667\n",
            "Epoch 43/50\n",
            "188/188 - 30s - loss: 0.0032 - acc: 1.0000 - val_loss: 0.3778 - val_acc: 0.6667\n",
            "Epoch 44/50\n"
          ],
          "name": "stdout"
        }
      ]
    },
    {
      "cell_type": "code",
      "metadata": {
        "colab": {
          "base_uri": "https://localhost:8080/"
        },
        "id": "_7fXh79pLjgX",
        "outputId": "1642a566-1816-4f51-c56e-79a9ffb46799"
      },
      "source": [
        "64*64 "
      ],
      "execution_count": null,
      "outputs": [
        {
          "output_type": "execute_result",
          "data": {
            "text/plain": [
              "4096"
            ]
          },
          "metadata": {
            "tags": []
          },
          "execution_count": 22
        }
      ]
    },
    {
      "cell_type": "code",
      "metadata": {
        "colab": {
          "base_uri": "https://localhost:8080/"
        },
        "id": "cmoDLwU3LIbv",
        "outputId": "f0577814-c172-4d1a-cb99-aac9e8c559c4"
      },
      "source": [
        "# model1.fit(\n",
        "#     x = special,y = special_label,\n",
        "#     validation_data=(x_val,y_val),\n",
        "#     epochs=epochs,\n",
        "#     shuffle=True,\n",
        "#     verbose=2,\n",
        "#     callbacks=[checkpoint_accuracy,checkpoint_validation],\n",
        "# )"
      ],
      "execution_count": null,
      "outputs": [
        {
          "output_type": "stream",
          "text": [
            "Epoch 1/50\n",
            "5/5 - 2s - loss: 0.3285 - acc: 0.9000 - val_loss: 2.5975 - val_acc: 0.7000\n",
            "Epoch 2/50\n",
            "5/5 - 1s - loss: 9.5738e-14 - acc: 1.0000 - val_loss: 4.0548 - val_acc: 0.7000\n",
            "Epoch 3/50\n",
            "5/5 - 1s - loss: 4.4092e-19 - acc: 1.0000 - val_loss: 5.2204 - val_acc: 0.7000\n",
            "Epoch 4/50\n",
            "5/5 - 1s - loss: 1.5472e-20 - acc: 1.0000 - val_loss: 6.1715 - val_acc: 0.7000\n",
            "Epoch 5/50\n",
            "5/5 - 1s - loss: 2.7705e-22 - acc: 1.0000 - val_loss: 6.9592 - val_acc: 0.7000\n",
            "Epoch 6/50\n",
            "5/5 - 1s - loss: 2.3151e-22 - acc: 1.0000 - val_loss: 7.6236 - val_acc: 0.7000\n",
            "Epoch 7/50\n",
            "5/5 - 1s - loss: 9.7864e-25 - acc: 1.0000 - val_loss: 8.1946 - val_acc: 0.7000\n",
            "Epoch 8/50\n",
            "5/5 - 1s - loss: 2.9227e-23 - acc: 1.0000 - val_loss: 8.6923 - val_acc: 0.7000\n",
            "Epoch 9/50\n",
            "5/5 - 1s - loss: 5.3510e-25 - acc: 1.0000 - val_loss: 9.1324 - val_acc: 0.7000\n",
            "Epoch 10/50\n",
            "5/5 - 1s - loss: 2.6364e-23 - acc: 1.0000 - val_loss: 9.5263 - val_acc: 0.7000\n",
            "Epoch 11/50\n",
            "5/5 - 1s - loss: 1.1196e-27 - acc: 1.0000 - val_loss: 9.8825 - val_acc: 0.7000\n",
            "Epoch 12/50\n",
            "5/5 - 1s - loss: 6.2736e-24 - acc: 1.0000 - val_loss: 10.2072 - val_acc: 0.7000\n",
            "Epoch 13/50\n",
            "5/5 - 1s - loss: 1.8934e-26 - acc: 1.0000 - val_loss: 10.5050 - val_acc: 0.7000\n",
            "Epoch 14/50\n",
            "5/5 - 1s - loss: 6.7266e-25 - acc: 1.0000 - val_loss: 10.7796 - val_acc: 0.7000\n",
            "Epoch 15/50\n",
            "5/5 - 1s - loss: 4.3362e-26 - acc: 1.0000 - val_loss: 11.0338 - val_acc: 0.7000\n",
            "Epoch 16/50\n",
            "5/5 - 1s - loss: 4.8982e-26 - acc: 1.0000 - val_loss: 11.2697 - val_acc: 0.7000\n",
            "Epoch 17/50\n",
            "5/5 - 1s - loss: 6.5595e-26 - acc: 1.0000 - val_loss: 11.4893 - val_acc: 0.7000\n",
            "Epoch 18/50\n",
            "5/5 - 1s - loss: 2.4022e-22 - acc: 1.0000 - val_loss: 11.6943 - val_acc: 0.7000\n",
            "Epoch 19/50\n",
            "5/5 - 1s - loss: 2.6535e-26 - acc: 1.0000 - val_loss: 11.8857 - val_acc: 0.7000\n",
            "Epoch 20/50\n",
            "5/5 - 1s - loss: 4.1753e-24 - acc: 1.0000 - val_loss: 12.0650 - val_acc: 0.7000\n",
            "Epoch 21/50\n",
            "5/5 - 1s - loss: 2.1032e-23 - acc: 1.0000 - val_loss: 12.2329 - val_acc: 0.7000\n",
            "Epoch 22/50\n",
            "5/5 - 1s - loss: 1.2298e-22 - acc: 1.0000 - val_loss: 12.3906 - val_acc: 0.7000\n",
            "Epoch 23/50\n",
            "5/5 - 1s - loss: 8.1528e-23 - acc: 1.0000 - val_loss: 12.5386 - val_acc: 0.7000\n",
            "Epoch 24/50\n",
            "5/5 - 1s - loss: 8.1658e-26 - acc: 1.0000 - val_loss: 12.6778 - val_acc: 0.7000\n",
            "Epoch 25/50\n",
            "5/5 - 1s - loss: 1.2017e-25 - acc: 1.0000 - val_loss: 12.8087 - val_acc: 0.7000\n",
            "Epoch 26/50\n",
            "5/5 - 1s - loss: 1.0157e-24 - acc: 1.0000 - val_loss: 12.9320 - val_acc: 0.7000\n",
            "Epoch 27/50\n",
            "5/5 - 1s - loss: 1.5917e-24 - acc: 1.0000 - val_loss: 13.0481 - val_acc: 0.7000\n",
            "Epoch 28/50\n",
            "5/5 - 1s - loss: 2.5918e-22 - acc: 1.0000 - val_loss: 13.1576 - val_acc: 0.7000\n",
            "Epoch 29/50\n",
            "5/5 - 1s - loss: 9.1907e-27 - acc: 1.0000 - val_loss: 13.2610 - val_acc: 0.7000\n",
            "Epoch 30/50\n",
            "5/5 - 1s - loss: 1.4204e-25 - acc: 1.0000 - val_loss: 13.3585 - val_acc: 0.7000\n",
            "Epoch 31/50\n",
            "5/5 - 1s - loss: 1.1498e-26 - acc: 1.0000 - val_loss: 13.4506 - val_acc: 0.7000\n",
            "Epoch 32/50\n",
            "5/5 - 1s - loss: 1.2648e-26 - acc: 1.0000 - val_loss: 13.5376 - val_acc: 0.7000\n",
            "Epoch 33/50\n",
            "5/5 - 1s - loss: 4.6354e-28 - acc: 1.0000 - val_loss: 13.6198 - val_acc: 0.7000\n",
            "Epoch 34/50\n",
            "5/5 - 1s - loss: 6.4208e-28 - acc: 1.0000 - val_loss: 13.6975 - val_acc: 0.7000\n",
            "Epoch 35/50\n",
            "5/5 - 1s - loss: 4.7417e-26 - acc: 1.0000 - val_loss: 13.7711 - val_acc: 0.7000\n",
            "Epoch 36/50\n",
            "5/5 - 1s - loss: 4.6529e-26 - acc: 1.0000 - val_loss: 13.8406 - val_acc: 0.7000\n",
            "Epoch 37/50\n",
            "5/5 - 1s - loss: 1.1968e-24 - acc: 1.0000 - val_loss: 13.9064 - val_acc: 0.7000\n",
            "Epoch 38/50\n",
            "5/5 - 1s - loss: 5.9425e-28 - acc: 1.0000 - val_loss: 13.9687 - val_acc: 0.7000\n",
            "Epoch 39/50\n",
            "5/5 - 1s - loss: 1.4883e-23 - acc: 1.0000 - val_loss: 14.0277 - val_acc: 0.7000\n",
            "Epoch 40/50\n",
            "5/5 - 1s - loss: 1.6199e-26 - acc: 1.0000 - val_loss: 14.0835 - val_acc: 0.7000\n",
            "Epoch 41/50\n",
            "5/5 - 1s - loss: 1.3808e-23 - acc: 1.0000 - val_loss: 14.1365 - val_acc: 0.7000\n",
            "Epoch 42/50\n",
            "5/5 - 1s - loss: 2.8988e-27 - acc: 1.0000 - val_loss: 14.1866 - val_acc: 0.7000\n",
            "Epoch 43/50\n",
            "5/5 - 1s - loss: 6.8950e-26 - acc: 1.0000 - val_loss: 14.2341 - val_acc: 0.7000\n",
            "Epoch 44/50\n",
            "5/5 - 1s - loss: 1.4704e-25 - acc: 1.0000 - val_loss: 14.2791 - val_acc: 0.7000\n",
            "Epoch 45/50\n",
            "5/5 - 1s - loss: 1.3104e-26 - acc: 1.0000 - val_loss: 14.3218 - val_acc: 0.7000\n",
            "Epoch 46/50\n",
            "5/5 - 1s - loss: 1.1451e-21 - acc: 1.0000 - val_loss: 14.3623 - val_acc: 0.7000\n",
            "Epoch 47/50\n",
            "5/5 - 1s - loss: 3.7038e-26 - acc: 1.0000 - val_loss: 14.4008 - val_acc: 0.7000\n",
            "Epoch 48/50\n",
            "5/5 - 1s - loss: 2.6788e-27 - acc: 1.0000 - val_loss: 14.4372 - val_acc: 0.7000\n",
            "Epoch 49/50\n",
            "5/5 - 1s - loss: 1.7288e-26 - acc: 1.0000 - val_loss: 14.4717 - val_acc: 0.7000\n",
            "Epoch 50/50\n",
            "5/5 - 1s - loss: 6.4204e-26 - acc: 1.0000 - val_loss: 14.5045 - val_acc: 0.7000\n"
          ],
          "name": "stdout"
        },
        {
          "output_type": "execute_result",
          "data": {
            "text/plain": [
              "<keras.callbacks.History at 0x7f96b296f290>"
            ]
          },
          "metadata": {
            "tags": []
          },
          "execution_count": 57
        }
      ]
    },
    {
      "cell_type": "code",
      "metadata": {
        "id": "KUPqPogXCGd6"
      },
      "source": [
        "model.save('last_model.h5')"
      ],
      "execution_count": null,
      "outputs": []
    },
    {
      "cell_type": "markdown",
      "metadata": {
        "id": "JaFPax1BwotT"
      },
      "source": [
        "Separate graphs"
      ]
    },
    {
      "cell_type": "code",
      "metadata": {
        "id": "eOD-p7kyRSHA",
        "colab": {
          "base_uri": "https://localhost:8080/",
          "height": 241
        },
        "outputId": "feeb9da6-ec4a-4e7e-f62f-887df00b76fa"
      },
      "source": [
        "fig, ax = plt.subplots(1, 2, figsize=(20, 3))\n",
        "ax = ax.ravel()\n",
        "\n",
        "for i, metric in enumerate([\"acc\", \"loss\"]):\n",
        "    ax[i].plot(model.history.history[metric])\n",
        "    ax[i].plot(model.history.history[\"val_\" + metric])\n",
        "    ax[i].set_title(\"Model {}\".format(metric))\n",
        "    ax[i].set_xlabel(\"epochs\")\n",
        "    ax[i].set_ylabel(metric)\n",
        "    ax[i].legend([\"train\", \"val\"])\n",
        "\n",
        "    \n"
      ],
      "execution_count": null,
      "outputs": [
        {
          "output_type": "display_data",
          "data": {
            "image/png": "[encoded data removed]",
            "text/plain": [
              "<Figure size 1440x216 with 2 Axes>"
            ]
          },
          "metadata": {
            "tags": [],
            "needs_background": "light"
          }
        }
      ]
    },
    {
      "cell_type": "code",
      "metadata": {
        "colab": {
          "base_uri": "https://localhost:8080/"
        },
        "id": "p1M9WDE-pqeN",
        "outputId": "20ba74d4-10f7-4eb4-d94a-d568d653243c"
      },
      "source": [
        "y_train[:10]"
      ],
      "execution_count": null,
      "outputs": [
        {
          "output_type": "execute_result",
          "data": {
            "text/plain": [
              "array([1, 0, 1, 0, 0, 0, 1, 1, 0, 0])"
            ]
          },
          "metadata": {
            "tags": []
          },
          "execution_count": 19
        }
      ]
    },
    {
      "cell_type": "markdown",
      "metadata": {
        "id": "-lOY6oOyy4xH"
      },
      "source": [
        "Shuffling the test set"
      ]
    },
    {
      "cell_type": "code",
      "metadata": {
        "id": "M-qR_QbWqIrX"
      },
      "source": [
        "x_test2, y_test2= shuffle(x_test,y_test,random_state = 4)"
      ],
      "execution_count": null,
      "outputs": []
    },
    {
      "cell_type": "code",
      "metadata": {
        "colab": {
          "base_uri": "https://localhost:8080/"
        },
        "id": "ygu8ap6Y8c9A",
        "outputId": "c2352a6b-d73e-4968-899f-77c013128776"
      },
      "source": [
        "y_test2.shape"
      ],
      "execution_count": null,
      "outputs": [
        {
          "output_type": "execute_result",
          "data": {
            "text/plain": [
              "(1500,)"
            ]
          },
          "metadata": {
            "tags": []
          },
          "execution_count": 55
        }
      ]
    },
    {
      "cell_type": "code",
      "metadata": {
        "id": "q09bUHBAPuxw"
      },
      "source": [
        "# 3 images each with scz  27\n",
        "x_test3 = np.load(\"/content/drive/MyDrive/thesis2/x_test2.npy\")\n",
        "y_test3 = np.load(\"/content/drive/MyDrive/thesis2/y_test2.npy\")"
      ],
      "execution_count": null,
      "outputs": []
    },
    {
      "cell_type": "code",
      "metadata": {
        "colab": {
          "base_uri": "https://localhost:8080/"
        },
        "id": "17Pzy8SIDbFi",
        "outputId": "bc0634e3-07e0-4994-97b8-c20fbb6d7879"
      },
      "source": [
        "cd /"
      ],
      "execution_count": null,
      "outputs": [
        {
          "output_type": "stream",
          "text": [
            "/\n"
          ],
          "name": "stdout"
        }
      ]
    },
    {
      "cell_type": "code",
      "metadata": {
        "id": "JAfSL_jtDUqp"
      },
      "source": [
        "# 2 images each\n",
        "x_test4 = np.load(\"/content/drive/MyDrive/thesis2/x_test4.npy\")\n",
        "y_test4 = np.load(\"/content/drive/MyDrive/thesis2/y_test4.npy\")"
      ],
      "execution_count": null,
      "outputs": []
    },
    {
      "cell_type": "code",
      "metadata": {
        "id": "m4mftIVoCLyK"
      },
      "source": [
        "# 3 images each without image scz 27\n",
        "\n",
        "x_test5 = np.load(\"/content/drive/MyDrive/thesis2/x_test5.npy\")\n",
        "y_test5 = np.load(\"/content/drive/MyDrive/thesis2/y_test5.npy\")"
      ],
      "execution_count": null,
      "outputs": []
    },
    {
      "cell_type": "code",
      "metadata": {
        "id": "RPkWv7448Gbx"
      },
      "source": [
        "# all images except scz 27\n",
        "\n",
        "x_test6 = np.load(\"/content/drive/MyDrive/thesis2/x_test6.npy\")\n",
        "y_test6 = np.load(\"/content/drive/MyDrive/thesis2/y_test6.npy\")"
      ],
      "execution_count": null,
      "outputs": []
    },
    {
      "cell_type": "code",
      "metadata": {
        "colab": {
          "base_uri": "https://localhost:8080/"
        },
        "id": "QRGr0XOrNeCQ",
        "outputId": "bb270113-6414-46b3-c06d-c524875c3f3d"
      },
      "source": [
        "y_test6.shape"
      ],
      "execution_count": null,
      "outputs": [
        {
          "output_type": "execute_result",
          "data": {
            "text/plain": [
              "(1350,)"
            ]
          },
          "metadata": {
            "tags": []
          },
          "execution_count": 38
        }
      ]
    },
    {
      "cell_type": "code",
      "metadata": {
        "colab": {
          "base_uri": "https://localhost:8080/"
        },
        "id": "yEMP0uKd64y7",
        "outputId": "07911fec-df0f-48f4-e654-cc4830af63ee"
      },
      "source": [
        ""
      ],
      "execution_count": null,
      "outputs": [
        {
          "output_type": "execute_result",
          "data": {
            "text/plain": [
              "(900,)"
            ]
          },
          "metadata": {
            "tags": []
          },
          "execution_count": 46
        }
      ]
    },
    {
      "cell_type": "code",
      "metadata": {
        "id": "psnUbmioChoo"
      },
      "source": [
        ""
      ],
      "execution_count": null,
      "outputs": []
    },
    {
      "cell_type": "code",
      "metadata": {
        "colab": {
          "base_uri": "https://localhost:8080/"
        },
        "id": "Eyxgja101vby",
        "outputId": "d62d0a3b-95ab-43df-b06a-9c256f0dd325"
      },
      "source": [
        "model.evaluate(x = x_test3,y = y_test3)"
      ],
      "execution_count": null,
      "outputs": [
        {
          "output_type": "stream",
          "text": [
            "29/29 [==============================] - 1s 24ms/step - loss: 3748.0520 - acc: 0.8333\n"
          ],
          "name": "stdout"
        },
        {
          "output_type": "execute_result",
          "data": {
            "text/plain": [
              "[3748.052001953125, 0.8333333134651184]"
            ]
          },
          "metadata": {
            "tags": []
          },
          "execution_count": 45
        }
      ]
    },
    {
      "cell_type": "code",
      "metadata": {
        "colab": {
          "base_uri": "https://localhost:8080/"
        },
        "id": "HItUeA3_N3CG",
        "outputId": "bf77a953-a35f-4064-b2fe-94e980ea9350"
      },
      "source": [
        "model.evaluate(x = x_test6,y = y_test6)"
      ],
      "execution_count": null,
      "outputs": [
        {
          "output_type": "stream",
          "text": [
            "43/43 [==============================] - 1s 24ms/step - loss: 0.0000e+00 - acc: 1.0000\n"
          ],
          "name": "stdout"
        },
        {
          "output_type": "execute_result",
          "data": {
            "text/plain": [
              "[0.0, 1.0]"
            ]
          },
          "metadata": {
            "tags": []
          },
          "execution_count": 42
        }
      ]
    },
    {
      "cell_type": "code",
      "metadata": {
        "colab": {
          "base_uri": "https://localhost:8080/"
        },
        "id": "7WOlqCdPNw-E",
        "outputId": "3a03f3d9-9949-4aad-d737-9336e38e4eaa"
      },
      "source": [
        "y_test2.shape"
      ],
      "execution_count": null,
      "outputs": [
        {
          "output_type": "execute_result",
          "data": {
            "text/plain": [
              "(1500,)"
            ]
          },
          "metadata": {
            "tags": []
          },
          "execution_count": 41
        }
      ]
    },
    {
      "cell_type": "markdown",
      "metadata": {
        "id": "oGZ3g06Zy-ke"
      },
      "source": [
        "Evaluating last model on test set"
      ]
    },
    {
      "cell_type": "code",
      "metadata": {
        "colab": {
          "base_uri": "https://localhost:8080/"
        },
        "id": "8XrAXTtSqQdx",
        "outputId": "082118c6-25b0-47db-8e66-6d400492d2c3"
      },
      "source": [
        "model.evaluate(x = x_val,y = y_val)"
      ],
      "execution_count": null,
      "outputs": [
        {
          "output_type": "stream",
          "text": [
            "29/29 [==============================] - 1s 24ms/step - loss: 1.8362 - acc: 0.5600\n"
          ],
          "name": "stdout"
        },
        {
          "output_type": "execute_result",
          "data": {
            "text/plain": [
              "[1.8361611366271973, 0.5600000023841858]"
            ]
          },
          "metadata": {
            "tags": []
          },
          "execution_count": 30
        }
      ]
    },
    {
      "cell_type": "code",
      "metadata": {
        "colab": {
          "base_uri": "https://localhost:8080/"
        },
        "id": "7RkAOEkR8X0q",
        "outputId": "5ccefd93-2ce7-4bcb-d871-2956dca6b3aa"
      },
      "source": [
        "y_test6.shape"
      ],
      "execution_count": null,
      "outputs": [
        {
          "output_type": "execute_result",
          "data": {
            "text/plain": [
              "(1350,)"
            ]
          },
          "metadata": {
            "tags": []
          },
          "execution_count": 54
        }
      ]
    },
    {
      "cell_type": "code",
      "metadata": {
        "colab": {
          "base_uri": "https://localhost:8080/"
        },
        "id": "WisiMX1244W4",
        "outputId": "ddfd77a0-2437-4d8c-da3c-332f99e45f7d"
      },
      "source": [
        "np.sum(y_test5==1)"
      ],
      "execution_count": null,
      "outputs": [
        {
          "output_type": "execute_result",
          "data": {
            "text/plain": [
              "450"
            ]
          },
          "metadata": {
            "tags": []
          },
          "execution_count": 48
        }
      ]
    },
    {
      "cell_type": "code",
      "metadata": {
        "colab": {
          "base_uri": "https://localhost:8080/"
        },
        "id": "iqxWNN7Q_iRn",
        "outputId": "c7728411-a5e8-4ccc-ee90-9d65092bd8e9"
      },
      "source": [
        "model.evaluate(x = x_test3,y = y_test3)"
      ],
      "execution_count": null,
      "outputs": [
        {
          "output_type": "stream",
          "text": [
            "29/29 [==============================] - 1s 18ms/step - loss: 5852.2446 - acc: 0.8378\n"
          ],
          "name": "stdout"
        },
        {
          "output_type": "execute_result",
          "data": {
            "text/plain": [
              "[5852.24462890625, 0.8377777934074402]"
            ]
          },
          "metadata": {
            "tags": []
          },
          "execution_count": 36
        }
      ]
    },
    {
      "cell_type": "markdown",
      "metadata": {
        "id": "U8b48KqXzCwF"
      },
      "source": [
        "Evaluating last model on validation set"
      ]
    },
    {
      "cell_type": "code",
      "metadata": {
        "colab": {
          "base_uri": "https://localhost:8080/"
        },
        "id": "3c4A_WVKc6iC",
        "outputId": "d4f694f9-a696-4abd-a774-7a3974790887"
      },
      "source": [
        "model.evaluate(x = x_val,y = y_val)"
      ],
      "execution_count": null,
      "outputs": [
        {
          "output_type": "stream",
          "text": [
            "47/47 [==============================] - 1s 19ms/step - loss: 3.0491 - acc: 0.6900\n"
          ],
          "name": "stdout"
        },
        {
          "output_type": "execute_result",
          "data": {
            "text/plain": [
              "[3.049051523208618, 0.6899999976158142]"
            ]
          },
          "metadata": {
            "tags": []
          },
          "execution_count": 20
        }
      ]
    },
    {
      "cell_type": "code",
      "metadata": {
        "id": "QnHaR_IV86op"
      },
      "source": [
        ""
      ],
      "execution_count": null,
      "outputs": []
    },
    {
      "cell_type": "code",
      "metadata": {
        "id": "IGpaFKlW86lc"
      },
      "source": [
        ""
      ],
      "execution_count": null,
      "outputs": []
    },
    {
      "cell_type": "markdown",
      "metadata": {
        "id": "3-C5hqYfzaYr"
      },
      "source": [
        "Loading the best accuracy model"
      ]
    },
    {
      "cell_type": "code",
      "metadata": {
        "id": "5o0Cha_jckcy"
      },
      "source": [
        "model1 = load_model('best_accuracy.h5')"
      ],
      "execution_count": null,
      "outputs": []
    },
    {
      "cell_type": "markdown",
      "metadata": {
        "id": "jb2b5OhJzkAh"
      },
      "source": [
        "Evaluating best accuracy model on test set\n"
      ]
    },
    {
      "cell_type": "code",
      "metadata": {
        "colab": {
          "base_uri": "https://localhost:8080/"
        },
        "id": "d0TMnGQEct0r",
        "outputId": "3658a304-9a1f-47fe-950e-12401a70d8ed"
      },
      "source": [
        "model1.evaluate(x = x_test6,y = y_test6)"
      ],
      "execution_count": null,
      "outputs": [
        {
          "output_type": "stream",
          "text": [
            "43/43 [==============================] - 2s 24ms/step - loss: 431.3573 - acc: 0.3333\n"
          ],
          "name": "stdout"
        },
        {
          "output_type": "execute_result",
          "data": {
            "text/plain": [
              "[431.3572998046875, 0.3333333432674408]"
            ]
          },
          "metadata": {
            "tags": []
          },
          "execution_count": 32
        }
      ]
    },
    {
      "cell_type": "markdown",
      "metadata": {
        "id": "J5CnKI5EzpT5"
      },
      "source": [
        "Evaluating best accuracy model on validation  set"
      ]
    },
    {
      "cell_type": "code",
      "metadata": {
        "colab": {
          "base_uri": "https://localhost:8080/"
        },
        "id": "ogamRXxYc-W5",
        "outputId": "bdda5a3b-cfad-4ad9-bead-1e89cba0a2b6"
      },
      "source": [
        "model1.evaluate(x = x_val,y = y_val)"
      ],
      "execution_count": null,
      "outputs": [
        {
          "output_type": "stream",
          "text": [
            "29/29 [==============================] - 1s 24ms/step - loss: 0.6845 - acc: 0.6667\n"
          ],
          "name": "stdout"
        },
        {
          "output_type": "execute_result",
          "data": {
            "text/plain": [
              "[0.6845026016235352, 0.6666666865348816]"
            ]
          },
          "metadata": {
            "tags": []
          },
          "execution_count": 33
        }
      ]
    },
    {
      "cell_type": "code",
      "metadata": {
        "id": "RiuFOGBz89pb"
      },
      "source": [
        ""
      ],
      "execution_count": null,
      "outputs": []
    },
    {
      "cell_type": "code",
      "metadata": {
        "id": "3yBhuIpb89mJ"
      },
      "source": [
        ""
      ],
      "execution_count": null,
      "outputs": []
    },
    {
      "cell_type": "markdown",
      "metadata": {
        "id": "ZUay2KWh7-IE"
      },
      "source": [
        "Loading the best loss model"
      ]
    },
    {
      "cell_type": "code",
      "metadata": {
        "id": "1IahK8UT8ASq"
      },
      "source": [
        "model2 = load_model('best_loss.h5')"
      ],
      "execution_count": null,
      "outputs": []
    },
    {
      "cell_type": "markdown",
      "metadata": {
        "id": "oryvaU-i70bB"
      },
      "source": [
        "Evaluating best loss model on test set"
      ]
    },
    {
      "cell_type": "code",
      "metadata": {
        "colab": {
          "base_uri": "https://localhost:8080/"
        },
        "id": "202pe0p_7419",
        "outputId": "83dd4419-3f06-44f3-da19-0d449ff89480"
      },
      "source": [
        "model2.evaluate(x = x_test6,y = y_test6)"
      ],
      "execution_count": null,
      "outputs": [
        {
          "output_type": "stream",
          "text": [
            "43/43 [==============================] - 2s 25ms/step - loss: 1633.0262 - acc: 0.6719\n"
          ],
          "name": "stdout"
        },
        {
          "output_type": "execute_result",
          "data": {
            "text/plain": [
              "[1633.0262451171875, 0.6718518733978271]"
            ]
          },
          "metadata": {
            "tags": []
          },
          "execution_count": 35
        }
      ]
    },
    {
      "cell_type": "markdown",
      "metadata": {
        "id": "YFDSPvgO75dl"
      },
      "source": [
        "Evaluating best loss model on validation set"
      ]
    },
    {
      "cell_type": "code",
      "metadata": {
        "colab": {
          "base_uri": "https://localhost:8080/"
        },
        "id": "1w30UE048FQ2",
        "outputId": "538f6256-3cc4-4c93-ea1c-a0ce08ee174f"
      },
      "source": [
        "model2.evaluate(x = x_val,y = y_val)"
      ],
      "execution_count": null,
      "outputs": [
        {
          "output_type": "stream",
          "text": [
            "29/29 [==============================] - 1s 25ms/step - loss: 0.6156 - acc: 0.6667\n"
          ],
          "name": "stdout"
        },
        {
          "output_type": "execute_result",
          "data": {
            "text/plain": [
              "[0.6156153082847595, 0.6666666865348816]"
            ]
          },
          "metadata": {
            "tags": []
          },
          "execution_count": 36
        }
      ]
    },
    {
      "cell_type": "markdown",
      "metadata": {
        "id": "7DgbUDqCz6WR"
      },
      "source": [
        "Calculating different metrics"
      ]
    },
    {
      "cell_type": "code",
      "metadata": {
        "id": "KsU5lMe30hC1"
      },
      "source": [
        "from sklearn.metrics import accuracy_score\n",
        "from sklearn.metrics import precision_score\n",
        "from sklearn.metrics import recall_score\n",
        "from sklearn.metrics import f1_score\n",
        "from sklearn.metrics import cohen_kappa_score\n",
        "from sklearn.metrics import roc_auc_score\n",
        "from sklearn.metrics import confusion_matrix,ConfusionMatrixDisplay\n"
      ],
      "execution_count": null,
      "outputs": []
    },
    {
      "cell_type": "code",
      "metadata": {
        "colab": {
          "base_uri": "https://localhost:8080/"
        },
        "id": "kBjVKsmgB2tm",
        "outputId": "4fa0ba56-73ed-40dc-f83a-592f07984ca3"
      },
      "source": [
        "y_test[:4]"
      ],
      "execution_count": null,
      "outputs": [
        {
          "output_type": "execute_result",
          "data": {
            "text/plain": [
              "array([1, 0, 1, 0])"
            ]
          },
          "metadata": {
            "tags": []
          },
          "execution_count": 103
        }
      ]
    },
    {
      "cell_type": "code",
      "metadata": {
        "id": "m01yeRwU-SuK"
      },
      "source": [
        "yhat_probs = model.predict(x_test, verbose=0)\n",
        "y_classes = yhat_probs.argmax(axis=-1)\n"
      ],
      "execution_count": null,
      "outputs": []
    },
    {
      "cell_type": "code",
      "metadata": {
        "id": "afxxCUo_E2Ip"
      },
      "source": [
        "y_proba = model.predict(x_val)"
      ],
      "execution_count": null,
      "outputs": []
    },
    {
      "cell_type": "code",
      "metadata": {
        "id": "t_8-Rr2XMzOL"
      },
      "source": [
        "y_proba = y_proba[:, 0]"
      ],
      "execution_count": null,
      "outputs": []
    },
    {
      "cell_type": "code",
      "metadata": {
        "colab": {
          "base_uri": "https://localhost:8080/"
        },
        "id": "sqtlzXSEItTD",
        "outputId": "2782a528-abb7-4ce6-b136-2d9d0fb7e984"
      },
      "source": [
        "y_proba"
      ],
      "execution_count": null,
      "outputs": [
        {
          "output_type": "execute_result",
          "data": {
            "text/plain": [
              "array([9.9655837e-01, 4.1803364e-03, 9.5483847e-02, ..., 3.2115945e-01,\n",
              "       9.9762732e-01, 2.9092067e-04], dtype=float32)"
            ]
          },
          "metadata": {
            "tags": []
          },
          "execution_count": 117
        }
      ]
    },
    {
      "cell_type": "code",
      "metadata": {
        "colab": {
          "base_uri": "https://localhost:8080/"
        },
        "id": "zfIwb735Iv3V",
        "outputId": "214adf23-56c2-4908-9707-916e18b7554b"
      },
      "source": [
        "y_classes"
      ],
      "execution_count": null,
      "outputs": [
        {
          "output_type": "execute_result",
          "data": {
            "text/plain": [
              "array([0, 0, 0])"
            ]
          },
          "metadata": {
            "tags": []
          },
          "execution_count": 88
        }
      ]
    },
    {
      "cell_type": "code",
      "metadata": {
        "colab": {
          "base_uri": "https://localhost:8080/"
        },
        "id": "KqH2V4jwHYTi",
        "outputId": "22daec70-b1e0-42a8-f785-a5886140f8e8"
      },
      "source": [
        "y_classes = (y_proba > 0.5).astype(np.int)\n",
        "y_classes\n"
      ],
      "execution_count": null,
      "outputs": [
        {
          "output_type": "execute_result",
          "data": {
            "text/plain": [
              "array([1, 0, 0, ..., 0, 1, 0])"
            ]
          },
          "metadata": {
            "tags": []
          },
          "execution_count": 119
        }
      ]
    },
    {
      "cell_type": "code",
      "metadata": {
        "colab": {
          "base_uri": "https://localhost:8080/"
        },
        "id": "laDLBKNaLGnV",
        "outputId": "cfadf68b-47b8-4508-fadf-ad66f1f7a1f1"
      },
      "source": [
        "np.sum(y_val ==y_classes)"
      ],
      "execution_count": null,
      "outputs": [
        {
          "output_type": "execute_result",
          "data": {
            "text/plain": [
              "922"
            ]
          },
          "metadata": {
            "tags": []
          },
          "execution_count": 112
        }
      ]
    },
    {
      "cell_type": "code",
      "metadata": {
        "colab": {
          "base_uri": "https://localhost:8080/"
        },
        "id": "-AkY54TUFNrG",
        "outputId": "d659589e-5afd-47e5-8b72-d1ff744ecf4f"
      },
      "source": [
        "y_classes"
      ],
      "execution_count": null,
      "outputs": [
        {
          "output_type": "execute_result",
          "data": {
            "text/plain": [
              "array([0, 0, 0])"
            ]
          },
          "metadata": {
            "tags": []
          },
          "execution_count": 78
        }
      ]
    },
    {
      "cell_type": "code",
      "metadata": {
        "colab": {
          "base_uri": "https://localhost:8080/"
        },
        "id": "AZkn9lKnDIxP",
        "outputId": "080f5b74-1517-444c-9b07-8595753fed7a"
      },
      "source": [
        "model.evaluate(x_test[:3],  y_test[:3])"
      ],
      "execution_count": null,
      "outputs": [
        {
          "output_type": "stream",
          "text": [
            "1/1 [==============================] - 0s 19ms/step - loss: 7.0844 - acc: 0.3333\n"
          ],
          "name": "stdout"
        },
        {
          "output_type": "execute_result",
          "data": {
            "text/plain": [
              "[7.084360122680664, 0.3333333432674408]"
            ]
          },
          "metadata": {
            "tags": []
          },
          "execution_count": 71
        }
      ]
    },
    {
      "cell_type": "code",
      "metadata": {
        "colab": {
          "base_uri": "https://localhost:8080/"
        },
        "id": "FlyGUIBYC3g1",
        "outputId": "bbc7fbcd-362a-4313-bd70-f69c2ce212a7"
      },
      "source": [
        "y_classes"
      ],
      "execution_count": null,
      "outputs": [
        {
          "output_type": "execute_result",
          "data": {
            "text/plain": [
              "array([0, 0, 0])"
            ]
          },
          "metadata": {
            "tags": []
          },
          "execution_count": 75
        }
      ]
    },
    {
      "cell_type": "code",
      "metadata": {
        "id": "nkO65tsCAOXu"
      },
      "source": [
        "yhat_probs= np.argmax(yhat_probs, axis=1)"
      ],
      "execution_count": null,
      "outputs": []
    },
    {
      "cell_type": "code",
      "metadata": {
        "colab": {
          "base_uri": "https://localhost:8080/"
        },
        "id": "qHhZmAWK_swG",
        "outputId": "b9bf0185-0541-4e5a-cc69-55b4820ce60c"
      },
      "source": [
        "yhat_probs [:100]"
      ],
      "execution_count": null,
      "outputs": [
        {
          "output_type": "execute_result",
          "data": {
            "text/plain": [
              "array([0, 0, 0, 0, 0, 0, 0, 0, 0, 0, 0, 0, 0, 0, 0, 0, 0, 0, 0, 0, 0, 0,\n",
              "       0, 0, 0, 0, 0, 0, 0, 0, 0, 0, 0, 0, 0, 0, 0, 0, 0, 0, 0, 0, 0, 0,\n",
              "       0, 0, 0, 0, 0, 0, 0, 0, 0, 0, 0, 0, 0, 0, 0, 0, 0, 0, 0, 0, 0, 0,\n",
              "       0, 0, 0, 0, 0, 0, 0, 0, 0, 0, 0, 0, 0, 0, 0, 0, 0, 0, 0, 0, 0, 0,\n",
              "       0, 0, 0, 0, 0, 0, 0, 0, 0, 0, 0, 0])"
            ]
          },
          "metadata": {
            "tags": []
          },
          "execution_count": 44
        }
      ]
    },
    {
      "cell_type": "code",
      "metadata": {
        "id": "jaGW9CF0FthS"
      },
      "source": [
        "special = np.load(\"/content/drive/MyDrive/thesis2/special.npy\")\n",
        "special_label = np.load(\"/content/drive/MyDrive/thesis2/special_label.npy\")"
      ],
      "execution_count": null,
      "outputs": []
    },
    {
      "cell_type": "code",
      "metadata": {
        "colab": {
          "base_uri": "https://localhost:8080/"
        },
        "id": "7vLHjzuJGvua",
        "outputId": "3bca5fbb-c4f0-4b21-b177-a35387a4a845"
      },
      "source": [
        "special.shape"
      ],
      "execution_count": null,
      "outputs": [
        {
          "output_type": "execute_result",
          "data": {
            "text/plain": [
              "(150, 64, 64, 33)"
            ]
          },
          "metadata": {
            "tags": []
          },
          "execution_count": 48
        }
      ]
    },
    {
      "cell_type": "code",
      "metadata": {
        "colab": {
          "base_uri": "https://localhost:8080/"
        },
        "id": "rBzhcL0p0l0X",
        "outputId": "951e269a-2be6-4c91-9d25-97ac0a81f7da"
      },
      "source": [
        "y_prob= model.predict(x_test3, verbose=0)\n",
        "y_prob = y_prob[:, 0]\n",
        "\n",
        "y_classes = (y_prob > 0.5).astype(np.int)\n",
        "\n",
        "\n",
        "# accuracy: (tp + tn) / (p + n)\n",
        "accuracy = accuracy_score(y_test3, y_classes)\n",
        "print('Accuracy: %f' % accuracy)\n",
        "# precision tp / (tp + fp)\n",
        "precision = precision_score(y_test3, y_classes)\n",
        "print('Precision: %f' % precision)\n",
        "# recall: tp / (tp + fn)\n",
        "recall = recall_score(y_test3, y_classes)\n",
        "print('Recall: %f' % recall)\n",
        "# f1: 2 tp / (2 tp + fp + fn)\n",
        "f1 = f1_score(y_test3, y_classes)\n",
        "print('F1 score: %f' % f1)\n",
        " \n",
        "# kappa\n",
        "kappa = cohen_kappa_score(y_test3, y_classes)\n",
        "print('Cohens kappa: %f' % kappa)\n",
        "# ROC AUC\n",
        "auc = roc_auc_score(y_test3, y_prob)\n",
        "print('ROC AUC: %f' % auc)\n",
        "# confusion matrix\n",
        "print(\"Confusion matrix:\")\n",
        "matrix = confusion_matrix(y_test3, y_classes,labels=(1,0))\n",
        "print(matrix)\n",
        "# disp = ConfusionMatrixDisplay(confusion_matrix=matrix,display_labels=None)\n",
        "# disp.plot() "
      ],
      "execution_count": null,
      "outputs": [
        {
          "output_type": "stream",
          "text": [
            "Accuracy: 0.833333\n",
            "Precision: 1.000000\n",
            "Recall: 0.666667\n",
            "F1 score: 0.800000\n",
            "Cohens kappa: 0.666667\n",
            "ROC AUC: 0.833333\n",
            "Confusion matrix:\n",
            "[[300 150]\n",
            " [  0 450]]\n"
          ],
          "name": "stdout"
        }
      ]
    },
    {
      "cell_type": "code",
      "metadata": {
        "colab": {
          "base_uri": "https://localhost:8080/"
        },
        "id": "PNE3SSRHG5iI",
        "outputId": "6c5b340c-0f41-42e2-fa40-e943a0ef4609"
      },
      "source": [
        "y_classes[:10]"
      ],
      "execution_count": null,
      "outputs": [
        {
          "output_type": "execute_result",
          "data": {
            "text/plain": [
              "array([1, 0, 0, 1, 0, 1, 1, 1, 1, 0])"
            ]
          },
          "metadata": {
            "tags": []
          },
          "execution_count": 52
        }
      ]
    },
    {
      "cell_type": "code",
      "metadata": {
        "colab": {
          "base_uri": "https://localhost:8080/"
        },
        "id": "fSTFBV14Do-F",
        "outputId": "6716dde2-e051-4bfc-ac54-95ca1d79c339"
      },
      "source": [
        "y_test4[:10]"
      ],
      "execution_count": null,
      "outputs": [
        {
          "output_type": "execute_result",
          "data": {
            "text/plain": [
              "array([1, 0, 0, 1, 0, 1, 1, 1, 1, 0])"
            ]
          },
          "metadata": {
            "tags": []
          },
          "execution_count": 41
        }
      ]
    },
    {
      "cell_type": "code",
      "metadata": {
        "colab": {
          "base_uri": "https://localhost:8080/"
        },
        "id": "ELWasYpIDr9f",
        "outputId": "de967adf-16bb-43a3-d02b-440599c13416"
      },
      "source": [
        "y_classes[:10]"
      ],
      "execution_count": null,
      "outputs": [
        {
          "output_type": "execute_result",
          "data": {
            "text/plain": [
              "array([1, 0, 0, 1, 0, 1, 1, 1, 1, 0])"
            ]
          },
          "metadata": {
            "tags": []
          },
          "execution_count": 42
        }
      ]
    },
    {
      "cell_type": "code",
      "metadata": {
        "colab": {
          "base_uri": "https://localhost:8080/"
        },
        "id": "Fm3ADk_sD35Z",
        "outputId": "1289e628-4288-4346-afdd-7e4dfdb6febf"
      },
      "source": [
        "y_classes.shape"
      ],
      "execution_count": null,
      "outputs": [
        {
          "output_type": "execute_result",
          "data": {
            "text/plain": [
              "(600,)"
            ]
          },
          "metadata": {
            "tags": []
          },
          "execution_count": 43
        }
      ]
    },
    {
      "cell_type": "code",
      "metadata": {
        "colab": {
          "base_uri": "https://localhost:8080/"
        },
        "id": "1ojqKbsntVb-",
        "outputId": "f3881a83-2889-40dc-fe73-ec5307e256e0"
      },
      "source": [
        "np.sum(y_classes==1)"
      ],
      "execution_count": null,
      "outputs": [
        {
          "output_type": "execute_result",
          "data": {
            "text/plain": [
              "450"
            ]
          },
          "metadata": {
            "tags": []
          },
          "execution_count": 39
        }
      ]
    },
    {
      "cell_type": "code",
      "metadata": {
        "colab": {
          "base_uri": "https://localhost:8080/"
        },
        "id": "fWF5kaL9t2WJ",
        "outputId": "37ca8e97-5544-4cfb-9c2b-e67611540301"
      },
      "source": [
        "np.sum(y_val==1)"
      ],
      "execution_count": null,
      "outputs": [
        {
          "output_type": "execute_result",
          "data": {
            "text/plain": [
              "1050"
            ]
          },
          "metadata": {
            "tags": []
          },
          "execution_count": 42
        }
      ]
    },
    {
      "cell_type": "code",
      "metadata": {
        "colab": {
          "base_uri": "https://localhost:8080/"
        },
        "id": "uWsnXMkiQY0P",
        "outputId": "7529e775-5fe4-47b0-e99b-7d521b5111ee"
      },
      "source": [
        "y_classes[:10]"
      ],
      "execution_count": null,
      "outputs": [
        {
          "output_type": "execute_result",
          "data": {
            "text/plain": [
              "array([1, 0, 0, 0, 1, 1, 0, 0, 0, 0])"
            ]
          },
          "metadata": {
            "tags": []
          },
          "execution_count": 46
        }
      ]
    },
    {
      "cell_type": "code",
      "metadata": {
        "colab": {
          "base_uri": "https://localhost:8080/"
        },
        "id": "9-ESlRfaNXMI",
        "outputId": "d372609a-a409-45ad-ef78-4261eae945d0"
      },
      "source": [
        "sensitivity = matrix[0,0]/(matrix[0,0]+matrix[0,1])\n",
        "print('Sensitivity : ', sensitivity )\n",
        "\n",
        "specificity = matrix[1,1]/(matrix[1,0]+matrix[1,1])\n",
        "print('Specificity : ', specificity)"
      ],
      "execution_count": null,
      "outputs": [
        {
          "output_type": "stream",
          "text": [
            "Sensitivity :  0.6577777777777778\n",
            "Specificity :  1.0\n"
          ],
          "name": "stdout"
        }
      ]
    },
    {
      "cell_type": "code",
      "metadata": {
        "colab": {
          "base_uri": "https://localhost:8080/",
          "height": 279
        },
        "id": "LXUjmuX2QuBt",
        "outputId": "c556102f-e71c-49e3-f0e0-35e561c8809b"
      },
      "source": [
        "from sklearn.metrics import roc_auc_score\n",
        "from matplotlib import pyplot\n",
        "# calculate roc curves\n",
        "y_prob= model1.predict(x_test3, verbose=0)\n",
        "y_prob = y_prob[:, 0]\n",
        "\n",
        "\n",
        "ns_fpr, ns_tpr, _ = roc_curve(y_test3, y_prob)\n",
        "# lr_fpr, lr_tpr, _ = roc_curve(testy, lr_probs)\n",
        "# plot the roc curve for the model\n",
        "pyplot.plot(ns_fpr, ns_tpr, linestyle='--', label='Our CNN')\n",
        "# pyplot.plot(lr_fpr, lr_tpr, marker='.', label='Logistic')\n",
        "# axis labels\n",
        "pyplot.xlabel('False Positive Rate')\n",
        "pyplot.ylabel('True Positive Rate')\n",
        "# show the legend\n",
        "pyplot.legend()\n",
        "# show the plot\n",
        "pyplot.show()"
      ],
      "execution_count": null,
      "outputs": [
        {
          "output_type": "display_data",
          "data": {
            "image/png": "[encoded data removed]",
            "text/plain": [
              "<Figure size 432x288 with 1 Axes>"
            ]
          },
          "metadata": {
            "tags": [],
            "needs_background": "light"
          }
        }
      ]
    },
    {
      "cell_type": "code",
      "metadata": {
        "id": "_d4TSOeYatdP"
      },
      "source": [
        "y_prob= model1.predict(x_test3, verbose=0)"
      ],
      "execution_count": null,
      "outputs": []
    },
    {
      "cell_type": "code",
      "metadata": {
        "id": "6q4l_hgeb17l"
      },
      "source": [
        "y_prob = y_prob[:, 0]\n",
        "\n",
        "y_classes = (y_prob > 0.5).astype(np.int)"
      ],
      "execution_count": null,
      "outputs": []
    },
    {
      "cell_type": "code",
      "metadata": {
        "colab": {
          "base_uri": "https://localhost:8080/"
        },
        "id": "UD_b92zob6lE",
        "outputId": "37ce74e8-a731-48b3-d509-8e395586e1e5"
      },
      "source": [
        "y_classes[:10]"
      ],
      "execution_count": null,
      "outputs": [
        {
          "output_type": "execute_result",
          "data": {
            "text/plain": [
              "array([1, 0, 0, 0, 1, 1, 0, 0, 0, 0])"
            ]
          },
          "metadata": {
            "tags": []
          },
          "execution_count": 77
        }
      ]
    },
    {
      "cell_type": "code",
      "metadata": {
        "colab": {
          "base_uri": "https://localhost:8080/"
        },
        "id": "g2TqiYLNavbE",
        "outputId": "8e246478-b862-4f52-e92f-9ef3c5c3a34d"
      },
      "source": [
        "y_prob[:10]"
      ],
      "execution_count": null,
      "outputs": [
        {
          "output_type": "execute_result",
          "data": {
            "text/plain": [
              "array([1., 0., 0., 0., 1., 1., 0., 0., 0., 0.], dtype=float32)"
            ]
          },
          "metadata": {
            "tags": []
          },
          "execution_count": 78
        }
      ]
    },
    {
      "cell_type": "code",
      "metadata": {
        "colab": {
          "base_uri": "https://localhost:8080/"
        },
        "id": "6I489egDHq1d",
        "outputId": "54b9004b-f538-4ac1-eaed-6b5e4ecccd8f"
      },
      "source": [
        "y_test[:10]"
      ],
      "execution_count": null,
      "outputs": [
        {
          "output_type": "execute_result",
          "data": {
            "text/plain": [
              "array([1, 0, 1, 0, 1, 1, 1, 0, 0, 1])"
            ]
          },
          "metadata": {
            "tags": []
          },
          "execution_count": 18
        }
      ]
    },
    {
      "cell_type": "code",
      "metadata": {
        "colab": {
          "base_uri": "https://localhost:8080/"
        },
        "id": "qL09qGpjH1ZM",
        "outputId": "fee8f0b3-5b12-4d89-8489-099d4887e688"
      },
      "source": [
        "y_val[:10]"
      ],
      "execution_count": null,
      "outputs": [
        {
          "output_type": "execute_result",
          "data": {
            "text/plain": [
              "array([1, 0, 1, 0, 1, 1, 1, 0, 0, 1])"
            ]
          },
          "metadata": {
            "tags": []
          },
          "execution_count": 19
        }
      ]
    },
    {
      "cell_type": "code",
      "metadata": {
        "colab": {
          "base_uri": "https://localhost:8080/"
        },
        "id": "4T8Vnn3aH3cx",
        "outputId": "1e611032-5fa2-4624-adab-f969be4714bd"
      },
      "source": [
        "y_train[:10]"
      ],
      "execution_count": null,
      "outputs": [
        {
          "output_type": "execute_result",
          "data": {
            "text/plain": [
              "array([1, 0, 1, 0, 0, 0, 1, 1, 0, 0])"
            ]
          },
          "metadata": {
            "tags": []
          },
          "execution_count": 20
        }
      ]
    },
    {
      "cell_type": "code",
      "metadata": {
        "id": "SpWdJeLiq2hc",
        "colab": {
          "base_uri": "https://localhost:8080/"
        },
        "outputId": "4bfcb67a-71aa-46ad-b5b5-5a916a148c66"
      },
      "source": [
        "cd /"
      ],
      "execution_count": null,
      "outputs": [
        {
          "output_type": "stream",
          "text": [
            "/\n"
          ],
          "name": "stdout"
        }
      ]
    },
    {
      "cell_type": "code",
      "metadata": {
        "colab": {
          "base_uri": "https://localhost:8080/"
        },
        "id": "vdyMOkOHIAvn",
        "outputId": "46034a31-0478-4ac4-d74d-a3c51656dcd5"
      },
      "source": [
        "!wget --load-cookies /tmp/cookies.txt \"https://docs.google.com/uc?export=download&confirm=$(wget --quiet --save-cookies /tmp/cookies.txt --keep-session-cookies --no-check-certificate 'https://docs.google.com/uc?export=download&id=1Orm2tbk5gljhnRrZ56onxRdmIUWvYt-X' -O- | sed -rn 's/.*confirm=([0-9A-Za-z_]+).*/\\1\\n/p')&id=1Orm2tbk5gljhnRrZ56onxRdmIUWvYt-X\" -O finaltest.zip && rm -rf /tmp/cookies.txt\n"
      ],
      "execution_count": null,
      "outputs": [
        {
          "output_type": "stream",
          "text": [
            "--2021-05-17 23:55:38--  https://docs.google.com/uc?export=download&confirm=izR9&id=1Orm2tbk5gljhnRrZ56onxRdmIUWvYt-X\n",
            "Resolving docs.google.com (docs.google.com)... 173.194.79.139, 173.194.79.113, 173.194.79.138, ...\n",
            "Connecting to docs.google.com (docs.google.com)|173.194.79.139|:443... connected.\n",
            "HTTP request sent, awaiting response... 302 Moved Temporarily\n",
            "Location: https://doc-0g-5s-docs.googleusercontent.com/docs/securesc/pb60cjjjvvv0db43il8v6oc0sfpt158u/4ckpc0tinl79lva7pnt8h6ma8e6vot83/1621295700000/10681116013986523016/02639302157970986819Z/1Orm2tbk5gljhnRrZ56onxRdmIUWvYt-X?e=download [following]\n",
            "--2021-05-17 23:55:38--  https://doc-0g-5s-docs.googleusercontent.com/docs/securesc/pb60cjjjvvv0db43il8v6oc0sfpt158u/4ckpc0tinl79lva7pnt8h6ma8e6vot83/1621295700000/10681116013986523016/02639302157970986819Z/1Orm2tbk5gljhnRrZ56onxRdmIUWvYt-X?e=download\n",
            "Resolving doc-0g-5s-docs.googleusercontent.com (doc-0g-5s-docs.googleusercontent.com)... 172.217.218.132, 2a00:1450:4013:c01::84\n",
            "Connecting to doc-0g-5s-docs.googleusercontent.com (doc-0g-5s-docs.googleusercontent.com)|172.217.218.132|:443... connected.\n",
            "HTTP request sent, awaiting response... 302 Found\n",
            "Location: https://docs.google.com/nonceSigner?nonce=h09414rp4tu52&continue=https://doc-0g-5s-docs.googleusercontent.com/docs/securesc/pb60cjjjvvv0db43il8v6oc0sfpt158u/4ckpc0tinl79lva7pnt8h6ma8e6vot83/1621295700000/10681116013986523016/02639302157970986819Z/1Orm2tbk5gljhnRrZ56onxRdmIUWvYt-X?e%3Ddownload&hash=drk2ld4n2mrl2f4sh5clav3q5efsrbr3 [following]\n",
            "--2021-05-17 23:55:39--  https://docs.google.com/nonceSigner?nonce=h09414rp4tu52&continue=https://doc-0g-5s-docs.googleusercontent.com/docs/securesc/pb60cjjjvvv0db43il8v6oc0sfpt158u/4ckpc0tinl79lva7pnt8h6ma8e6vot83/1621295700000/10681116013986523016/02639302157970986819Z/1Orm2tbk5gljhnRrZ56onxRdmIUWvYt-X?e%3Ddownload&hash=drk2ld4n2mrl2f4sh5clav3q5efsrbr3\n",
            "Connecting to docs.google.com (docs.google.com)|173.194.79.139|:443... connected.\n",
            "HTTP request sent, awaiting response... 302 Found\n",
            "Location: https://doc-0g-5s-docs.googleusercontent.com/docs/securesc/pb60cjjjvvv0db43il8v6oc0sfpt158u/4ckpc0tinl79lva7pnt8h6ma8e6vot83/1621295700000/10681116013986523016/02639302157970986819Z/1Orm2tbk5gljhnRrZ56onxRdmIUWvYt-X?e=download&nonce=h09414rp4tu52&user=02639302157970986819Z&hash=bndjvdsh5l3fjpr1monvurmu8eti2u87 [following]\n",
            "--2021-05-17 23:55:39--  https://doc-0g-5s-docs.googleusercontent.com/docs/securesc/pb60cjjjvvv0db43il8v6oc0sfpt158u/4ckpc0tinl79lva7pnt8h6ma8e6vot83/1621295700000/10681116013986523016/02639302157970986819Z/1Orm2tbk5gljhnRrZ56onxRdmIUWvYt-X?e=download&nonce=h09414rp4tu52&user=02639302157970986819Z&hash=bndjvdsh5l3fjpr1monvurmu8eti2u87\n",
            "Connecting to doc-0g-5s-docs.googleusercontent.com (doc-0g-5s-docs.googleusercontent.com)|172.217.218.132|:443... connected.\n",
            "HTTP request sent, awaiting response... 200 OK\n",
            "Length: unspecified [application/x-zip-compressed]\n",
            "Saving to: ‘finaltest.zip’\n",
            "\n",
            "finaltest.zip           [            <=>     ] 413.90M  68.2MB/s    in 6.2s    \n",
            "\n",
            "2021-05-17 23:55:46 (66.4 MB/s) - ‘finaltest.zip’ saved [434007592]\n",
            "\n"
          ],
          "name": "stdout"
        }
      ]
    },
    {
      "cell_type": "code",
      "metadata": {
        "colab": {
          "base_uri": "https://localhost:8080/"
        },
        "id": "tf3XmfBkIS_W",
        "outputId": "22d01cda-d598-4619-8ce1-ee2ffcc862d9"
      },
      "source": [
        "# from google.colab import files\n",
        "# files.download('example.txt') \n",
        "!unzip /finaltest.zip -d /\n",
        "print('done')"
      ],
      "execution_count": null,
      "outputs": [
        {
          "output_type": "stream",
          "text": [
            "Archive:  /finaltest.zip\n",
            "   creating: /scz_test/\n",
            "  inflating: /scz_test/18.nii.gz     \n",
            "  inflating: /scz_test/19.nii.gz     \n",
            "  inflating: /scz_test/20.nii.gz     \n",
            "  inflating: /scz_test/21.nii.gz     \n",
            "  inflating: /scz_test/22.nii.gz     \n",
            "  inflating: /scz_test/23.nii.gz     \n",
            "  inflating: /scz_test/24.nii.gz     \n",
            "  inflating: /scz_test/25.nii.gz     \n",
            "  inflating: /scz_test/26.nii.gz     \n",
            "  inflating: /scz_test/27.nii.gz     \n",
            "  inflating: /scz_test/28.nii.gz     \n",
            "  inflating: /scz_test/29.nii.gz     \n",
            "  inflating: /scz_test/30.nii.gz     \n",
            "  inflating: /scz_test/31.nii.gz     \n",
            "   creating: /normal_test/\n",
            "  inflating: /normal_test/18.nii.gz  \n",
            "  inflating: /normal_test/19.nii.gz  \n",
            "  inflating: /normal_test/20.nii.gz  \n",
            "  inflating: /normal_test/21.nii.gz  \n",
            "  inflating: /normal_test/22.nii.gz  \n",
            "  inflating: /normal_test/23.nii.gz  \n",
            "  inflating: /normal_test/24.nii.gz  \n",
            "  inflating: /normal_test/25.nii.gz  \n",
            "  inflating: /normal_test/26.nii.gz  \n",
            "done\n"
          ],
          "name": "stdout"
        }
      ]
    },
    {
      "cell_type": "code",
      "metadata": {
        "id": "9W9HlE2HITav"
      },
      "source": [
        "normaltest = []\n",
        "scztest = []"
      ],
      "execution_count": null,
      "outputs": []
    },
    {
      "cell_type": "code",
      "metadata": {
        "colab": {
          "base_uri": "https://localhost:8080/"
        },
        "id": "GCEN9VaXIVVL",
        "outputId": "5a730be9-e5b7-49db-c313-10b48cdde8a8"
      },
      "source": [
        "flag = 0\n",
        "count = 0\n",
        "for file in glob.glob('/normal_test/*'):\n",
        "  count= count+1\n",
        "  print(file)\n",
        "  img4d = nib.load(file)\n",
        "  img3d_list = nib.funcs.four_to_three(img4d)\n",
        "  for i in img3d_list:\n",
        "    data = i.get_fdata()\n",
        "    normaltest.append(data)\n",
        "    \n",
        "  #   if (len(scz)==2500):\n",
        "  #     flag = 1\n",
        "  #     if(flag == 1):\n",
        "  #       break\n",
        "  # if(flag == 1):\n",
        "  #   break\n",
        "print(\"done\")\n",
        "print(count)"
      ],
      "execution_count": null,
      "outputs": [
        {
          "output_type": "stream",
          "text": [
            "/normal_test/19.nii.gz\n",
            "/normal_test/21.nii.gz\n",
            "/normal_test/25.nii.gz\n",
            "/normal_test/23.nii.gz\n",
            "/normal_test/20.nii.gz\n",
            "/normal_test/22.nii.gz\n",
            "/normal_test/24.nii.gz\n",
            "/normal_test/18.nii.gz\n",
            "/normal_test/26.nii.gz\n",
            "done\n",
            "9\n"
          ],
          "name": "stdout"
        }
      ]
    },
    {
      "cell_type": "code",
      "metadata": {
        "colab": {
          "base_uri": "https://localhost:8080/"
        },
        "id": "UkCERmGaIYfo",
        "outputId": "686cc5c5-130b-4e54-d649-b74d538e5c45"
      },
      "source": [
        "flag = 0\n",
        "count = 0\n",
        "for file in glob.glob('/scz_test/*'):\n",
        "  count= count+1\n",
        "  print(file)\n",
        "  img4d = nib.load(file)\n",
        "  img3d_list = nib.funcs.four_to_three(img4d)\n",
        "  for i in img3d_list:\n",
        "    data = i.get_fdata()\n",
        "    scztest.append(data)\n",
        "    \n",
        "  #   if (len(scz)==2500):\n",
        "  #     flag = 1\n",
        "  #     if(flag == 1):\n",
        "  #       break\n",
        "  # if(flag == 1):\n",
        "  #   break\n",
        "print(\"done\")\n",
        "print(count)"
      ],
      "execution_count": null,
      "outputs": [
        {
          "output_type": "stream",
          "text": [
            "/scz_test/29.nii.gz\n",
            "/scz_test/19.nii.gz\n",
            "/scz_test/21.nii.gz\n",
            "/scz_test/25.nii.gz\n",
            "/scz_test/28.nii.gz\n",
            "/scz_test/23.nii.gz\n",
            "/scz_test/30.nii.gz\n",
            "/scz_test/31.nii.gz\n",
            "/scz_test/20.nii.gz\n",
            "/scz_test/22.nii.gz\n",
            "/scz_test/24.nii.gz\n",
            "/scz_test/18.nii.gz\n",
            "/scz_test/27.nii.gz\n",
            "/scz_test/26.nii.gz\n",
            "done\n",
            "14\n"
          ],
          "name": "stdout"
        }
      ]
    },
    {
      "cell_type": "code",
      "metadata": {
        "id": "FKU81qD8Iai8"
      },
      "source": [
        "normaltest_labels = np.array([0 for _ in range(len(normaltest))])\n",
        "scztest_labels = np.array([1 for _ in range(len(scztest))])\n",
        "\n",
        "\n",
        "y = np.concatenate((normaltest_labels[:], scztest_labels[:]), axis=0)"
      ],
      "execution_count": null,
      "outputs": []
    },
    {
      "cell_type": "code",
      "metadata": {
        "id": "q9BsZbm1IctL"
      },
      "source": [
        "normaltest_array = np.asarray(normaltest)\n",
        "normaltest_array =(normaltest_array- x_mean)/x_std\n",
        "scztest_array = np.asarray(scztest)\n",
        "scztest_array =(scztest_array- x_mean)/x_std\n",
        "\n",
        "\n",
        "x_test = np.concatenate((normaltest_array[:], scztest_array[:]), axis=0)"
      ],
      "execution_count": null,
      "outputs": []
    },
    {
      "cell_type": "code",
      "metadata": {
        "colab": {
          "base_uri": "https://localhost:8080/"
        },
        "id": "TExXUTsYL7hQ",
        "outputId": "6081c242-2451-41c6-92d0-72b011231aa0"
      },
      "source": [
        "y.shape"
      ],
      "execution_count": null,
      "outputs": [
        {
          "output_type": "execute_result",
          "data": {
            "text/plain": [
              "(3450,)"
            ]
          },
          "metadata": {
            "tags": []
          },
          "execution_count": 36
        }
      ]
    },
    {
      "cell_type": "code",
      "metadata": {
        "colab": {
          "base_uri": "https://localhost:8080/"
        },
        "id": "ooeUXwctIrS3",
        "outputId": "07a228ae-fa59-4ed8-fe76-1872c1be3c3b"
      },
      "source": [
        "score = model.evaluate(x = x_test,y = y)"
      ],
      "execution_count": null,
      "outputs": [
        {
          "output_type": "stream",
          "text": [
            "108/108 [==============================] - 5s 45ms/step - loss: 98312.4609 - acc: 0.8157\n"
          ],
          "name": "stdout"
        }
      ]
    },
    {
      "cell_type": "code",
      "metadata": {
        "id": "5j_pNYjTNDSd"
      },
      "source": [
        "model.save('model1.h5')"
      ],
      "execution_count": null,
      "outputs": []
    },
    {
      "cell_type": "code",
      "metadata": {
        "id": "sLB0Q0-JNoHC"
      },
      "source": [
        "model = load_model('model1.h5')"
      ],
      "execution_count": null,
      "outputs": []
    },
    {
      "cell_type": "code",
      "metadata": {
        "colab": {
          "base_uri": "https://localhost:8080/"
        },
        "id": "OJU7vzuaPrHO",
        "outputId": "129d23d2-1e46-44ad-c81b-0e334c549966"
      },
      "source": [
        "print(\"%s: %.2f%%\" % (model.metrics_names[1], score[1]*100))"
      ],
      "execution_count": null,
      "outputs": [
        {
          "output_type": "stream",
          "text": [
            "acc: 100.00%\n"
          ],
          "name": "stdout"
        }
      ]
    },
    {
      "cell_type": "code",
      "metadata": {
        "id": "edVwoosWRlM6"
      },
      "source": [
        "def plot_loss_accu(history):\n",
        "    loss = history.history['loss']\n",
        "    val_loss = history.history['val_loss']\n",
        "    epochs = range(len(loss))\n",
        "    plt.plot(epochs, loss, 'g')\n",
        "    plt.plot(epochs, val_loss, 'y')\n",
        "    plt.title('Training loss')\n",
        "    plt.legend(['train', 'val'], loc='upper right')\n",
        "    plt.grid()\n",
        "    plt.show()\n",
        "    loss = history.history['acc']\n",
        "    val_loss = history.history['val_acc']\n",
        "    epochs = range(len(loss))\n",
        "    plt.plot(epochs, loss, 'r')\n",
        "    plt.plot(epochs, val_loss, 'b')\n",
        "    plt.title('Training accuracy')\n",
        "    plt.legend(['train', 'val'], loc='lower right')\n",
        "    plt.grid()\n",
        "    plt.show()"
      ],
      "execution_count": null,
      "outputs": []
    },
    {
      "cell_type": "code",
      "metadata": {
        "colab": {
          "base_uri": "https://localhost:8080/",
          "height": 545
        },
        "id": "eciWbo3YSGt3",
        "outputId": "993d7181-f519-495d-b09b-a2fb64824ea9"
      },
      "source": [
        "plot_loss_accu(history) "
      ],
      "execution_count": null,
      "outputs": [
        {
          "output_type": "display_data",
          "data": {
            "image/png": "[encoded data removed]",
            "text/plain": [
              "<Figure size 432x288 with 1 Axes>"
            ]
          },
          "metadata": {
            "tags": [],
            "needs_background": "light"
          }
        },
        {
          "output_type": "display_data",
          "data": {
            "image/png": "[encoded data removed]",
            "text/plain": [
              "<Figure size 432x288 with 1 Axes>"
            ]
          },
          "metadata": {
            "tags": [],
            "needs_background": "light"
          }
        }
      ]
    }
  ]
}