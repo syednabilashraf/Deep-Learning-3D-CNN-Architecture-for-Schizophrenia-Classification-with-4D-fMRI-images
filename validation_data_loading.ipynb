{
  "nbformat": 4,
  "nbformat_minor": 0,
  "metadata": {
    "colab": {
      "name": "validation_data loading.ipynb",
      "provenance": []
    },
    "kernelspec": {
      "name": "python3",
      "display_name": "Python 3"
    },
    "language_info": {
      "name": "python"
    }
  },
  "cells": [
    {
      "cell_type": "code",
      "metadata": {
        "id": "YN6xvW4RQELx"
      },
      "source": [
        "from keras.utils import np_utils\n",
        "from keras.layers import Conv3D, MaxPool3D, Flatten, Dense\n",
        "from keras.layers import Dropout, Input, BatchNormalization\n",
        "from sklearn.metrics import confusion_matrix, accuracy_score\n",
        "from keras.losses import binary_crossentropy\n",
        "from keras.optimizers import Adadelta, SGD\n",
        "from matplotlib.pyplot import cm\n",
        "import matplotlib.pyplot as plt\n",
        "from keras.models import Model\n",
        "import cv2\n",
        "import os\n",
        "import numpy as np\n",
        "import keras\n",
        "import h5py\n",
        "import numpy as np\n",
        "from keras import regularizers\n",
        "import os\n",
        "import glob\n",
        "import cv2\n",
        "import random\n",
        "import matplotlib.pyplot as plt\n",
        "from sklearn.utils import shuffle\n",
        "from sklearn.model_selection import train_test_split\n",
        "from sklearn.model_selection import StratifiedKFold\n",
        "from sklearn.metrics import roc_curve, roc_auc_score\n",
        "\n",
        "from keras.models import Sequential\n",
        "from keras.optimizers import RMSprop\n",
        "from keras.layers import Conv2D, MaxPooling2D\n",
        "from keras.layers import Activation, Dropout, Flatten, Dense\n",
        "from sklearn.utils import shuffle\n",
        "from sklearn.model_selection import train_test_split\n",
        "from keras import optimizers\n",
        "# from keras.utils import to_categorical, plot_model\n",
        "from keras.layers import Dense, Input, Conv2D, Flatten, MaxPooling2D, Activation\n",
        "from keras.models import Model, Sequential\n",
        "from keras.layers import Activation, Dropout, Flatten, Dense\n",
        "from keras.callbacks import ModelCheckpoint\n",
        "from keras.optimizers import Adam\n",
        "from keras.applications.vgg16 import VGG16\n",
        "from keras.models import load_model\n",
        "from keras.utils import np_utils\n",
        "from keras import backend as K\n",
        "from keras.models import load_model\n",
        "import keras"
      ],
      "execution_count": null,
      "outputs": []
    },
    {
      "cell_type": "code",
      "metadata": {
        "id": "miPzGg_eVGUo"
      },
      "source": [
        "from google.colab import files\n",
        "import matplotlib.pyplot as plt\n",
        "import numpy as np\n",
        "import scipy.io as sio\n",
        "import os\n",
        "import tensorflow as tf\n",
        "import zipfile\n",
        "from tensorflow import keras\n",
        "from tensorflow.keras import layers\n",
        "import nibabel as nib\n",
        "import glob\n",
        "from sklearn.utils import shuffle\n",
        "import sys\n"
      ],
      "execution_count": null,
      "outputs": []
    },
    {
      "cell_type": "code",
      "metadata": {
        "colab": {
          "base_uri": "https://localhost:8080/"
        },
        "id": "EbJD67yOeiKt",
        "outputId": "57923277-a778-4105-fec0-5f294f98b527"
      },
      "source": [
        "ls"
      ],
      "execution_count": null,
      "outputs": [
        {
          "output_type": "stream",
          "text": [
            "\u001b[0m\u001b[01;34mdrive\u001b[0m/  \u001b[01;34msample_data\u001b[0m/\n"
          ],
          "name": "stdout"
        }
      ]
    },
    {
      "cell_type": "code",
      "metadata": {
        "colab": {
          "base_uri": "https://localhost:8080/"
        },
        "id": "uFJxlJlTVGSK",
        "outputId": "59ff7340-8eee-4b8d-f05f-9af2b0001ba5"
      },
      "source": [
        "!wget --load-cookies /tmp/cookies.txt \"https://docs.google.com/uc?export=download&confirm=$(wget --quiet --save-cookies /tmp/cookies.txt --keep-session-cookies --no-check-certificate 'https://docs.google.com/uc?export=download&id=1TEwqtWnjNkInvZROYoaPq0VmaIqPOM-P' -O- | sed -rn 's/.*confirm=([0-9A-Za-z_]+).*/\\1\\n/p')&id=1TEwqtWnjNkInvZROYoaPq0VmaIqPOM-P\" -O validation_data.zip && rm -rf /tmp/cookies.txt"
      ],
      "execution_count": null,
      "outputs": [
        {
          "output_type": "stream",
          "text": [
            "--2021-05-26 20:18:11--  https://docs.google.com/uc?export=download&confirm=ALD0&id=1TEwqtWnjNkInvZROYoaPq0VmaIqPOM-P\n",
            "Resolving docs.google.com (docs.google.com)... 172.217.203.138, 172.217.203.102, 172.217.203.100, ...\n",
            "Connecting to docs.google.com (docs.google.com)|172.217.203.138|:443... connected.\n",
            "HTTP request sent, awaiting response... 302 Moved Temporarily\n",
            "Location: https://doc-0o-9s-docs.googleusercontent.com/docs/securesc/dbl35v464ea6v6pncvbniacj23671u2p/nab46l1o6egpn6dk53kj4ca1sfrfh3if/1622060250000/10681116013986523016/12381248399290371513Z/1TEwqtWnjNkInvZROYoaPq0VmaIqPOM-P?e=download [following]\n",
            "--2021-05-26 20:18:11--  https://doc-0o-9s-docs.googleusercontent.com/docs/securesc/dbl35v464ea6v6pncvbniacj23671u2p/nab46l1o6egpn6dk53kj4ca1sfrfh3if/1622060250000/10681116013986523016/12381248399290371513Z/1TEwqtWnjNkInvZROYoaPq0VmaIqPOM-P?e=download\n",
            "Resolving doc-0o-9s-docs.googleusercontent.com (doc-0o-9s-docs.googleusercontent.com)... 172.217.204.132, 2607:f8b0:400c:c15::84\n",
            "Connecting to doc-0o-9s-docs.googleusercontent.com (doc-0o-9s-docs.googleusercontent.com)|172.217.204.132|:443... connected.\n",
            "HTTP request sent, awaiting response... 302 Found\n",
            "Location: https://docs.google.com/nonceSigner?nonce=4c9prppmgrq1q&continue=https://doc-0o-9s-docs.googleusercontent.com/docs/securesc/dbl35v464ea6v6pncvbniacj23671u2p/nab46l1o6egpn6dk53kj4ca1sfrfh3if/1622060250000/10681116013986523016/12381248399290371513Z/1TEwqtWnjNkInvZROYoaPq0VmaIqPOM-P?e%3Ddownload&hash=362i64id6trf70inrnjdv3kc9n63sk4p [following]\n",
            "--2021-05-26 20:18:11--  https://docs.google.com/nonceSigner?nonce=4c9prppmgrq1q&continue=https://doc-0o-9s-docs.googleusercontent.com/docs/securesc/dbl35v464ea6v6pncvbniacj23671u2p/nab46l1o6egpn6dk53kj4ca1sfrfh3if/1622060250000/10681116013986523016/12381248399290371513Z/1TEwqtWnjNkInvZROYoaPq0VmaIqPOM-P?e%3Ddownload&hash=362i64id6trf70inrnjdv3kc9n63sk4p\n",
            "Connecting to docs.google.com (docs.google.com)|172.217.203.138|:443... connected.\n",
            "HTTP request sent, awaiting response... 302 Found\n",
            "Location: https://doc-0o-9s-docs.googleusercontent.com/docs/securesc/dbl35v464ea6v6pncvbniacj23671u2p/nab46l1o6egpn6dk53kj4ca1sfrfh3if/1622060250000/10681116013986523016/12381248399290371513Z/1TEwqtWnjNkInvZROYoaPq0VmaIqPOM-P?e=download&nonce=4c9prppmgrq1q&user=12381248399290371513Z&hash=j7huq0hs7ki48f341o0eog6um12j90jm [following]\n",
            "--2021-05-26 20:18:11--  https://doc-0o-9s-docs.googleusercontent.com/docs/securesc/dbl35v464ea6v6pncvbniacj23671u2p/nab46l1o6egpn6dk53kj4ca1sfrfh3if/1622060250000/10681116013986523016/12381248399290371513Z/1TEwqtWnjNkInvZROYoaPq0VmaIqPOM-P?e=download&nonce=4c9prppmgrq1q&user=12381248399290371513Z&hash=j7huq0hs7ki48f341o0eog6um12j90jm\n",
            "Connecting to doc-0o-9s-docs.googleusercontent.com (doc-0o-9s-docs.googleusercontent.com)|172.217.204.132|:443... connected.\n",
            "HTTP request sent, awaiting response... 200 OK\n",
            "Length: unspecified [application/x-zip-compressed]\n",
            "Saving to: ‘validation_data.zip’\n",
            "\n",
            "validation_data.zip     [           <=>      ] 166.68M  46.7MB/s    in 3.6s    \n",
            "\n",
            "2021-05-26 20:18:16 (46.7 MB/s) - ‘validation_data.zip’ saved [174780772]\n",
            "\n"
          ],
          "name": "stdout"
        }
      ]
    },
    {
      "cell_type": "code",
      "metadata": {
        "colab": {
          "base_uri": "https://localhost:8080/"
        },
        "id": "uu2tZD9DWMYP",
        "outputId": "4b14d8cf-81f6-4c1e-ebe8-91259d777f71"
      },
      "source": [
        "!unzip validation_data.zip -d /\n",
        "print('done')"
      ],
      "execution_count": null,
      "outputs": [
        {
          "output_type": "stream",
          "text": [
            "Archive:  validation_data.zip\n",
            "   creating: /scz_validation/\n",
            "  inflating: /scz_validation/18.nii.gz  \n",
            "  inflating: /scz_validation/19.nii.gz  \n",
            "  inflating: /scz_validation/20.nii.gz  \n",
            "  inflating: /scz_validation/21.nii.gz  \n",
            "  inflating: /scz_validation/22.nii.gz  \n",
            "  inflating: /scz_validation/23.nii.gz  \n",
            "  inflating: /scz_validation/24.nii.gz  \n",
            "   creating: /normal_validation/\n",
            "  inflating: /normal_validation/21.nii.gz  \n",
            "  inflating: /normal_validation/22.nii.gz  \n",
            "  inflating: /normal_validation/23.nii.gz  \n",
            "done\n"
          ],
          "name": "stdout"
        }
      ]
    },
    {
      "cell_type": "code",
      "metadata": {
        "colab": {
          "base_uri": "https://localhost:8080/"
        },
        "id": "m1jCXR0fVGQK",
        "outputId": "093a6b1d-5e5b-41eb-f242-470cecdafb10"
      },
      "source": [
        "cd /"
      ],
      "execution_count": null,
      "outputs": [
        {
          "output_type": "stream",
          "text": [
            "/\n"
          ],
          "name": "stdout"
        }
      ]
    },
    {
      "cell_type": "code",
      "metadata": {
        "id": "T0zVZbYMVGOK"
      },
      "source": [
        "images = []\n",
        "label = []"
      ],
      "execution_count": null,
      "outputs": []
    },
    {
      "cell_type": "code",
      "metadata": {
        "colab": {
          "base_uri": "https://localhost:8080/"
        },
        "id": "kDD0-qk-VGMF",
        "outputId": "45fe1b43-afa9-4fc0-9d64-5dd02906c17e"
      },
      "source": [
        "flag = 0\n",
        "count = 0\n",
        "for file in glob.glob('normal_validation/*'):\n",
        "  count= count+1\n",
        "  print(file)\n",
        "  img4d = nib.load(file)\n",
        "  img3d_list = nib.funcs.four_to_three(img4d)\n",
        "  for i in img3d_list:\n",
        "    data = i.get_fdata()\n",
        "    images.append(data)\n",
        "    label.append(0)\n",
        "    \n",
        "print(\"done\")\n",
        "print(count)"
      ],
      "execution_count": null,
      "outputs": [
        {
          "output_type": "stream",
          "text": [
            "normal_validation/22.nii.gz\n",
            "normal_validation/21.nii.gz\n",
            "normal_validation/23.nii.gz\n",
            "done\n",
            "3\n"
          ],
          "name": "stdout"
        }
      ]
    },
    {
      "cell_type": "code",
      "metadata": {
        "colab": {
          "base_uri": "https://localhost:8080/"
        },
        "id": "1puFIdQoVGKC",
        "outputId": "22de017d-1030-4a62-b3d6-0f96b63f6d6a"
      },
      "source": [
        "flag = 0\n",
        "count = 0\n",
        "for file in glob.glob('/scz_validation/*'):\n",
        "  if(count==3):\n",
        "    break\n",
        "  count= count+1\n",
        "  print(file)\n",
        "  img4d = nib.load(file)\n",
        "  img3d_list = nib.funcs.four_to_three(img4d)\n",
        "  for i in img3d_list:\n",
        "    data = i.get_fdata()\n",
        "    images.append(data)\n",
        "    label.append(1)\n",
        "    \n",
        "print(\"done\")\n",
        "print(count)"
      ],
      "execution_count": null,
      "outputs": [
        {
          "output_type": "stream",
          "text": [
            "/scz_validation/22.nii.gz\n",
            "/scz_validation/21.nii.gz\n",
            "/scz_validation/20.nii.gz\n",
            "done\n",
            "3\n"
          ],
          "name": "stdout"
        }
      ]
    },
    {
      "cell_type": "code",
      "metadata": {
        "colab": {
          "base_uri": "https://localhost:8080/"
        },
        "id": "Qfkh6hIjVGH1",
        "outputId": "746b708d-7687-4c1c-de13-68c2c8b462df"
      },
      "source": [
        "len(images),len(label)"
      ],
      "execution_count": null,
      "outputs": [
        {
          "output_type": "execute_result",
          "data": {
            "text/plain": [
              "(900, 900)"
            ]
          },
          "metadata": {
            "tags": []
          },
          "execution_count": 9
        }
      ]
    },
    {
      "cell_type": "code",
      "metadata": {
        "id": "QZ_sqZVpVGFq"
      },
      "source": [
        "images_array = np.asarray(images)"
      ],
      "execution_count": null,
      "outputs": []
    },
    {
      "cell_type": "code",
      "metadata": {
        "id": "cgl4Ec_WVGDl"
      },
      "source": [
        "label_array = np.asarray(label)"
      ],
      "execution_count": null,
      "outputs": []
    },
    {
      "cell_type": "code",
      "metadata": {
        "id": "3V0CT2ooVGBZ"
      },
      "source": [
        "x_validation, y_validation = shuffle(images_array,label_array,random_state = 1)"
      ],
      "execution_count": null,
      "outputs": []
    },
    {
      "cell_type": "code",
      "metadata": {
        "colab": {
          "base_uri": "https://localhost:8080/"
        },
        "id": "W1ovuPEhVF-8",
        "outputId": "710efc8a-10b3-4586-c4ad-2c876081d14a"
      },
      "source": [
        "y_validation[:10]"
      ],
      "execution_count": null,
      "outputs": [
        {
          "output_type": "execute_result",
          "data": {
            "text/plain": [
              "array([1, 1, 1, 1, 1, 0, 1, 0, 1, 0])"
            ]
          },
          "metadata": {
            "tags": []
          },
          "execution_count": 13
        }
      ]
    },
    {
      "cell_type": "code",
      "metadata": {
        "colab": {
          "base_uri": "https://localhost:8080/"
        },
        "id": "I_JKjaVxWqdB",
        "outputId": "c5e99fbe-b596-4403-db2a-42ac8dc6c488"
      },
      "source": [
        "cd content/drive/MyDrive/thesis2"
      ],
      "execution_count": null,
      "outputs": [
        {
          "output_type": "stream",
          "text": [
            "/content/drive/MyDrive/thesis2\n"
          ],
          "name": "stdout"
        }
      ]
    },
    {
      "cell_type": "code",
      "metadata": {
        "id": "jam-dUkvWsE4"
      },
      "source": [
        "np.save('x_validation2',x_validation)\n",
        "np.save('y_validation2',y_validation)"
      ],
      "execution_count": null,
      "outputs": []
    }
  ]
}