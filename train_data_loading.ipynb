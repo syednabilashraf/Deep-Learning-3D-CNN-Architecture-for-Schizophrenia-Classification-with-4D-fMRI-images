{
  "nbformat": 4,
  "nbformat_minor": 0,
  "metadata": {
    "colab": {
      "name": "train_data loading.ipynb",
      "provenance": [],
      "machine_shape": "hm"
    },
    "kernelspec": {
      "display_name": "Python 3",
      "name": "python3"
    },
    "language_info": {
      "name": "python"
    }
  },
  "cells": [
    {
      "cell_type": "code",
      "metadata": {
        "id": "XvcrePdZPZh_"
      },
      "source": [
        "from keras.utils import np_utils\n",
        "from keras.layers import Conv3D, MaxPool3D, Flatten, Dense\n",
        "from keras.layers import Dropout, Input, BatchNormalization\n",
        "from sklearn.metrics import confusion_matrix, accuracy_score\n",
        "from keras.losses import binary_crossentropy\n",
        "from keras.optimizers import Adadelta, SGD\n",
        "from matplotlib.pyplot import cm\n",
        "import matplotlib.pyplot as plt\n",
        "from keras.models import Model\n",
        "import cv2\n",
        "import os\n",
        "import numpy as np\n",
        "import keras\n",
        "import h5py\n",
        "import numpy as np\n",
        "from keras import regularizers\n",
        "import os\n",
        "import glob\n",
        "import cv2\n",
        "import random\n",
        "import matplotlib.pyplot as plt\n",
        "from sklearn.utils import shuffle\n",
        "from sklearn.model_selection import train_test_split\n",
        "from sklearn.model_selection import StratifiedKFold\n",
        "from sklearn.metrics import roc_curve, roc_auc_score\n",
        "\n",
        "from keras.models import Sequential\n",
        "from keras.optimizers import RMSprop\n",
        "from keras.layers import Conv2D, MaxPooling2D\n",
        "from keras.layers import Activation, Dropout, Flatten, Dense\n",
        "from sklearn.utils import shuffle\n",
        "from sklearn.model_selection import train_test_split\n",
        "from keras import optimizers\n",
        "# from keras.utils import to_categorical, plot_model\n",
        "from keras.layers import Dense, Input, Conv2D, Flatten, MaxPooling2D, Activation\n",
        "from keras.models import Model, Sequential\n",
        "from keras.layers import Activation, Dropout, Flatten, Dense\n",
        "from keras.callbacks import ModelCheckpoint\n",
        "from keras.optimizers import Adam\n",
        "from keras.applications.vgg16 import VGG16\n",
        "from keras.models import load_model\n",
        "from keras.utils import np_utils\n",
        "from keras import backend as K\n",
        "from keras.models import load_model\n",
        "import keras"
      ],
      "execution_count": null,
      "outputs": []
    },
    {
      "cell_type": "code",
      "metadata": {
        "id": "9-vjEEmlPqWm"
      },
      "source": [
        "from google.colab import files\n",
        "import matplotlib.pyplot as plt\n",
        "import numpy as np\n",
        "import scipy.io as sio\n",
        "import os\n",
        "import tensorflow as tf\n",
        "import zipfile\n",
        "from tensorflow import keras\n",
        "from tensorflow.keras import layers\n",
        "import nibabel as nib\n",
        "import glob\n",
        "from sklearn.utils import shuffle\n",
        "import sys\n"
      ],
      "execution_count": null,
      "outputs": []
    },
    {
      "cell_type": "code",
      "metadata": {
        "colab": {
          "base_uri": "https://localhost:8080/"
        },
        "id": "o_82Lx_FPqUb",
        "outputId": "c7412026-e44b-473f-e09d-d7a0b4ee450d"
      },
      "source": [
        "!wget --load-cookies /tmp/cookies.txt \"https://docs.google.com/uc?export=download&confirm=$(wget --quiet --save-cookies /tmp/cookies.txt --keep-session-cookies --no-check-certificate 'https://docs.google.com/uc?export=download&id=1rMrpKgXx9TwxrKw1Sv_0uqy5-xGQlVkL' -O- | sed -rn 's/.*confirm=([0-9A-Za-z_]+).*/\\1\\n/p')&id=1rMrpKgXx9TwxrKw1Sv_0uqy5-xGQlVkL\" -O training_data.zip && rm -rf /tmp/cookies.txt"
      ],
      "execution_count": null,
      "outputs": [
        {
          "output_type": "stream",
          "text": [
            "--2021-05-26 18:31:25--  https://docs.google.com/uc?export=download&confirm=AyeV&id=1rMrpKgXx9TwxrKw1Sv_0uqy5-xGQlVkL\n",
            "Resolving docs.google.com (docs.google.com)... 172.217.218.101, 172.217.218.138, 172.217.218.102, ...\n",
            "Connecting to docs.google.com (docs.google.com)|172.217.218.101|:443... connected.\n",
            "HTTP request sent, awaiting response... 302 Moved Temporarily\n",
            "Location: https://doc-0o-9g-docs.googleusercontent.com/docs/securesc/696p6rs25ldo01n3cbkht340tgs0o27l/uh45gs61uppb3c7g7st3cit482qbnql7/1622053875000/15392232212151382975/05415073639581863474Z/1rMrpKgXx9TwxrKw1Sv_0uqy5-xGQlVkL?e=download [following]\n",
            "--2021-05-26 18:31:25--  https://doc-0o-9g-docs.googleusercontent.com/docs/securesc/696p6rs25ldo01n3cbkht340tgs0o27l/uh45gs61uppb3c7g7st3cit482qbnql7/1622053875000/15392232212151382975/05415073639581863474Z/1rMrpKgXx9TwxrKw1Sv_0uqy5-xGQlVkL?e=download\n",
            "Resolving doc-0o-9g-docs.googleusercontent.com (doc-0o-9g-docs.googleusercontent.com)... 173.194.79.132, 2a00:1450:4013:c05::84\n",
            "Connecting to doc-0o-9g-docs.googleusercontent.com (doc-0o-9g-docs.googleusercontent.com)|173.194.79.132|:443... connected.\n",
            "HTTP request sent, awaiting response... 302 Found\n",
            "Location: https://docs.google.com/nonceSigner?nonce=hrbhbofmfisks&continue=https://doc-0o-9g-docs.googleusercontent.com/docs/securesc/696p6rs25ldo01n3cbkht340tgs0o27l/uh45gs61uppb3c7g7st3cit482qbnql7/1622053875000/15392232212151382975/05415073639581863474Z/1rMrpKgXx9TwxrKw1Sv_0uqy5-xGQlVkL?e%3Ddownload&hash=oa4645bl89kqimo9f3hm9i3vf92he5ui [following]\n",
            "--2021-05-26 18:31:25--  https://docs.google.com/nonceSigner?nonce=hrbhbofmfisks&continue=https://doc-0o-9g-docs.googleusercontent.com/docs/securesc/696p6rs25ldo01n3cbkht340tgs0o27l/uh45gs61uppb3c7g7st3cit482qbnql7/1622053875000/15392232212151382975/05415073639581863474Z/1rMrpKgXx9TwxrKw1Sv_0uqy5-xGQlVkL?e%3Ddownload&hash=oa4645bl89kqimo9f3hm9i3vf92he5ui\n",
            "Connecting to docs.google.com (docs.google.com)|172.217.218.101|:443... connected.\n",
            "HTTP request sent, awaiting response... 302 Found\n",
            "Location: https://doc-0o-9g-docs.googleusercontent.com/docs/securesc/696p6rs25ldo01n3cbkht340tgs0o27l/uh45gs61uppb3c7g7st3cit482qbnql7/1622053875000/15392232212151382975/05415073639581863474Z/1rMrpKgXx9TwxrKw1Sv_0uqy5-xGQlVkL?e=download&nonce=hrbhbofmfisks&user=05415073639581863474Z&hash=vvr6ge2qm0lg2ghl65rqnil3br0ug9k7 [following]\n",
            "--2021-05-26 18:31:26--  https://doc-0o-9g-docs.googleusercontent.com/docs/securesc/696p6rs25ldo01n3cbkht340tgs0o27l/uh45gs61uppb3c7g7st3cit482qbnql7/1622053875000/15392232212151382975/05415073639581863474Z/1rMrpKgXx9TwxrKw1Sv_0uqy5-xGQlVkL?e=download&nonce=hrbhbofmfisks&user=05415073639581863474Z&hash=vvr6ge2qm0lg2ghl65rqnil3br0ug9k7\n",
            "Connecting to doc-0o-9g-docs.googleusercontent.com (doc-0o-9g-docs.googleusercontent.com)|173.194.79.132|:443... connected.\n",
            "HTTP request sent, awaiting response... 200 OK\n",
            "Length: unspecified [application/x-zip-compressed]\n",
            "Saving to: ‘training_data.zip’\n",
            "\n",
            "training_data.zip       [     <=>            ]   1.16G  64.7MB/s    in 17s     \n",
            "\n",
            "2021-05-26 18:31:43 (71.9 MB/s) - ‘training_data.zip’ saved [1249335984]\n",
            "\n"
          ],
          "name": "stdout"
        }
      ]
    },
    {
      "cell_type": "code",
      "metadata": {
        "colab": {
          "base_uri": "https://localhost:8080/"
        },
        "id": "5X3h-RQiPqSX",
        "outputId": "1dd35c44-4d8e-4537-f8e2-d2cd330cd48f"
      },
      "source": [
        "!unzip training_data.zip -d /\n",
        "print('done')"
      ],
      "execution_count": null,
      "outputs": [
        {
          "output_type": "stream",
          "text": [
            "Archive:  training_data.zip\n",
            "   creating: /Data not preprocessed/\n",
            "   creating: /Data not preprocessed/normal_test/\n",
            "  inflating: /Data not preprocessed/normal_test/sub-A00024160_ses-20090101_task-rest_bold.nii.gz  \n",
            "  inflating: /Data not preprocessed/normal_test/sub-A00024301_ses-20090101_task-rest_bold.nii.gz  \n",
            "  inflating: /Data not preprocessed/normal_test/sub-A00024372_ses-20090101_task-rest_bold.nii.gz  \n",
            "   creating: /Data not preprocessed/normal_training/\n",
            "  inflating: /Data not preprocessed/normal_training/sub-A00011265_ses-20110101_task-rest_bold.nii.gz  \n",
            "  inflating: /Data not preprocessed/normal_training/sub-A00013816_ses-20110101_task-rest_bold.nii.gz  \n",
            "  inflating: /Data not preprocessed/normal_training/sub-A00014898_ses-20090101_task-rest_bold.nii.gz  \n",
            "  inflating: /Data not preprocessed/normal_training/sub-A00015826_ses-20110101_task-rest_bold.nii.gz  \n",
            "  inflating: /Data not preprocessed/normal_training/sub-A00020805_ses-20100101_task-rest_bold.nii.gz  \n",
            "  inflating: /Data not preprocessed/normal_training/sub-A00020968_ses-20100101_task-rest_bold.nii.gz  \n",
            "  inflating: /Data not preprocessed/normal_training/sub-A00021081_ses-20100101_task-rest_bold.nii.gz  \n",
            "  inflating: /Data not preprocessed/normal_training/sub-A00021085_ses-20100101_task-rest_bold.nii.gz  \n",
            "  inflating: /Data not preprocessed/normal_training/sub-A00022400_ses-20100101_task-rest_bold.nii.gz  \n",
            "  inflating: /Data not preprocessed/normal_training/sub-A00022490_ses-20090101_task-rest_bold.nii.gz  \n",
            "  inflating: /Data not preprocessed/normal_training/sub-A00022509_ses-20090101_task-rest_bold.nii.gz  \n",
            "  inflating: /Data not preprocessed/normal_training/sub-A00022653_ses-20090101_task-rest_bold.nii.gz  \n",
            "  inflating: /Data not preprocessed/normal_training/sub-A00022687_ses-20090101_task-rest_bold.nii.gz  \n",
            "  inflating: /Data not preprocessed/normal_training/sub-A00022835_ses-20090101_task-rest_bold.nii.gz  \n",
            "  inflating: /Data not preprocessed/normal_training/sub-A00022837_ses-20090101_task-rest_bold.nii.gz  \n",
            "  inflating: /Data not preprocessed/normal_training/sub-A00023095_ses-20090101_task-rest_bold.nii.gz  \n",
            "  inflating: /Data not preprocessed/normal_training/sub-A00023143_ses-20090101_task-rest_bold.nii.gz  \n",
            "  inflating: /Data not preprocessed/normal_training/sub-A00023330_ses-20090101_task-rest_bold.nii.gz  \n",
            "  inflating: /Data not preprocessed/normal_training/sub-A00023337_ses-20100101_task-rest_bold.nii.gz  \n",
            "  inflating: /Data not preprocessed/normal_training/sub-A00023866_ses-20090101_task-rest_bold.nii.gz  \n",
            "   creating: /Data not preprocessed/normal_validation/\n",
            "  inflating: /Data not preprocessed/normal_validation/sub-A00024535_ses-20090101_task-rest_bold.nii.gz  \n",
            "  inflating: /Data not preprocessed/normal_validation/sub-A00024546_ses-20090101_task-rest_bold.nii.gz  \n",
            "  inflating: /Data not preprocessed/normal_validation/sub-A00024932_ses-20090101_task-rest_bold.nii.gz  \n",
            "   creating: /Data not preprocessed/scz_test/\n",
            "  inflating: /Data not preprocessed/scz_test/sub-A00028303_ses-20120101_task-rest_bold.nii.gz  \n",
            "  inflating: /Data not preprocessed/scz_test/sub-A00028404_ses-20110101_task-rest_bold.nii.gz  \n",
            "  inflating: /Data not preprocessed/scz_test/sub-A00028408_ses-20120101_task-rest_bold.nii.gz  \n",
            "  inflating: /Data not preprocessed/scz_test/sub-A00028805_ses-20120101_task-rest_bold.nii.gz  \n",
            "  inflating: /Data not preprocessed/scz_test/sub-A00028806_ses-20120101_task-rest_bold.nii.gz  \n",
            "   creating: /Data not preprocessed/scz_training/\n",
            "  inflating: /Data not preprocessed/scz_training/sub-A00000838_ses-20100101_task-rest_bold.nii.gz  \n",
            "  inflating: /Data not preprocessed/scz_training/sub-A00000909_ses-20110101_task-rest_run-01_bold.nii.gz  \n",
            "  inflating: /Data not preprocessed/scz_training/sub-A00001243_ses-20110101_task-rest_bold.nii.gz  \n",
            "  inflating: /Data not preprocessed/scz_training/sub-A00006754_ses-20110101_task-rest_run-01_bold.nii.gz  \n",
            "  inflating: /Data not preprocessed/scz_training/sub-A00009280_ses-20110101_task-rest_run-01_bold.nii.gz  \n",
            "  inflating: /Data not preprocessed/scz_training/sub-A00014607_ses-20100101_task-rest_bold.nii.gz  \n",
            "  inflating: /Data not preprocessed/scz_training/sub-A00014804_ses-20090101_task-rest_bold.nii.gz  \n",
            "  inflating: /Data not preprocessed/scz_training/sub-A00015201_ses-20110101_task-rest_bold.nii.gz  \n",
            "  inflating: /Data not preprocessed/scz_training/sub-A00016197_ses-20090101_task-rest_bold.nii.gz  \n",
            "  inflating: /Data not preprocessed/scz_training/sub-A00018403_ses-20110101_task-rest_run-01_bold.nii.gz  \n",
            "  inflating: /Data not preprocessed/scz_training/sub-A00020602_ses-20100101_task-rest_bold.nii.gz  \n",
            "  inflating: /Data not preprocessed/scz_training/sub-A00020787_ses-20100101_task-rest_bold.nii.gz  \n",
            "  inflating: /Data not preprocessed/scz_training/sub-A00021591_ses-20110101_task-rest_bold.nii.gz  \n",
            "  inflating: /Data not preprocessed/scz_training/sub-A00021598_ses-20110101_task-rest_run-01_bold.nii.gz  \n",
            "  inflating: /Data not preprocessed/scz_training/sub-A00023158_ses-20090101_task-rest_bold.nii.gz  \n",
            "  inflating: /Data not preprocessed/scz_training/sub-A00023246_ses-20110101_task-rest_bold.nii.gz  \n",
            "  inflating: /Data not preprocessed/scz_training/sub-A00023590_ses-20100101_task-rest_bold.nii.gz  \n",
            "  inflating: /Data not preprocessed/scz_training/sub-A00024568_ses-20090101_task-rest_bold.nii.gz  \n",
            "  inflating: /Data not preprocessed/scz_training/sub-A00027410_ses-20120101_task-rest_bold.nii.gz  \n",
            "  inflating: /Data not preprocessed/scz_training/sub-A00027537_ses-20110101_task-rest_bold.nii.gz  \n",
            "   creating: /Data not preprocessed/scz_validation/\n",
            "  inflating: /Data not preprocessed/scz_validation/sub-A00031186_ses-20120101_task-rest_bold.nii.gz  \n",
            "  inflating: /Data not preprocessed/scz_validation/sub-A00034273_ses-20120101_task-rest_bold.nii.gz  \n",
            "  inflating: /Data not preprocessed/scz_validation/sub-A00035003_ses-20120101_task-rest_bold.nii.gz  \n",
            "  inflating: /Data not preprocessed/scz_validation/sub-A00037034_ses-20130101_task-rest_bold.nii.gz  \n",
            "  inflating: /Data not preprocessed/scz_validation/sub-A00037854_ses-20130101_task-rest_bold.nii.gz  \n",
            "done\n"
          ],
          "name": "stdout"
        }
      ]
    },
    {
      "cell_type": "code",
      "metadata": {
        "colab": {
          "base_uri": "https://localhost:8080/"
        },
        "id": "EywO0WGdPqQK",
        "outputId": "ead50ca1-1c6e-418f-c9f1-98a2a6164574"
      },
      "source": [
        "cd /"
      ],
      "execution_count": null,
      "outputs": [
        {
          "output_type": "stream",
          "text": [
            "/\n"
          ],
          "name": "stdout"
        }
      ]
    },
    {
      "cell_type": "code",
      "metadata": {
        "id": "9lEP9zvBPqNs"
      },
      "source": [
        "images = []\n",
        "label = []"
      ],
      "execution_count": null,
      "outputs": []
    },
    {
      "cell_type": "code",
      "metadata": {
        "id": "61yDLcy1bE7v"
      },
      "source": [
        "normal = []\n",
        "scz = []"
      ],
      "execution_count": null,
      "outputs": []
    },
    {
      "cell_type": "code",
      "metadata": {
        "colab": {
          "base_uri": "https://localhost:8080/"
        },
        "id": "POXQXQNmPqLU",
        "outputId": "2a09678a-a1a8-4f59-e1d4-ebd455b8842e"
      },
      "source": [
        "flag = 0\n",
        "count = 0\n",
        "for file in glob.glob('Data not preprocessed/normal_training/*'):\n",
        "  count= count+1\n",
        "  print(file)\n",
        "  img4d = nib.load(file)\n",
        "  img3d_list = nib.funcs.four_to_three(img4d)\n",
        "  for i in img3d_list:\n",
        "    data = i.get_fdata()\n",
        "    images.append(data)\n",
        "    label.append(0)\n",
        "    \n",
        "print(\"done\")\n",
        "print(count)"
      ],
      "execution_count": null,
      "outputs": [
        {
          "output_type": "stream",
          "text": [
            "Data not preprocessed/normal_training/sub-A00022835_ses-20090101_task-rest_bold.nii.gz\n",
            "Data not preprocessed/normal_training/sub-A00023143_ses-20090101_task-rest_bold.nii.gz\n",
            "Data not preprocessed/normal_training/sub-A00020968_ses-20100101_task-rest_bold.nii.gz\n",
            "Data not preprocessed/normal_training/sub-A00021085_ses-20100101_task-rest_bold.nii.gz\n",
            "Data not preprocessed/normal_training/sub-A00022490_ses-20090101_task-rest_bold.nii.gz\n",
            "Data not preprocessed/normal_training/sub-A00022653_ses-20090101_task-rest_bold.nii.gz\n",
            "Data not preprocessed/normal_training/sub-A00021081_ses-20100101_task-rest_bold.nii.gz\n",
            "Data not preprocessed/normal_training/sub-A00023866_ses-20090101_task-rest_bold.nii.gz\n",
            "Data not preprocessed/normal_training/sub-A00014898_ses-20090101_task-rest_bold.nii.gz\n",
            "Data not preprocessed/normal_training/sub-A00022687_ses-20090101_task-rest_bold.nii.gz\n",
            "Data not preprocessed/normal_training/sub-A00022509_ses-20090101_task-rest_bold.nii.gz\n",
            "Data not preprocessed/normal_training/sub-A00011265_ses-20110101_task-rest_bold.nii.gz\n",
            "Data not preprocessed/normal_training/sub-A00013816_ses-20110101_task-rest_bold.nii.gz\n",
            "Data not preprocessed/normal_training/sub-A00015826_ses-20110101_task-rest_bold.nii.gz\n",
            "Data not preprocessed/normal_training/sub-A00022400_ses-20100101_task-rest_bold.nii.gz\n",
            "Data not preprocessed/normal_training/sub-A00023330_ses-20090101_task-rest_bold.nii.gz\n",
            "Data not preprocessed/normal_training/sub-A00023337_ses-20100101_task-rest_bold.nii.gz\n",
            "Data not preprocessed/normal_training/sub-A00022837_ses-20090101_task-rest_bold.nii.gz\n",
            "Data not preprocessed/normal_training/sub-A00023095_ses-20090101_task-rest_bold.nii.gz\n",
            "Data not preprocessed/normal_training/sub-A00020805_ses-20100101_task-rest_bold.nii.gz\n",
            "done\n",
            "20\n"
          ],
          "name": "stdout"
        }
      ]
    },
    {
      "cell_type": "code",
      "metadata": {
        "id": "bdUynPSkbhrY"
      },
      "source": [
        "# normal_array = np.asarray(normal)"
      ],
      "execution_count": null,
      "outputs": []
    },
    {
      "cell_type": "code",
      "metadata": {
        "colab": {
          "base_uri": "https://localhost:8080/"
        },
        "id": "TSjXoLn-bsfR",
        "outputId": "f0897c22-fc20-4826-da64-7e0d64049634"
      },
      "source": [
        "# np.max(normal_array), np.min(normal_array)"
      ],
      "execution_count": null,
      "outputs": [
        {
          "output_type": "execute_result",
          "data": {
            "text/plain": [
              "(26860.234375, -3669.443603515625)"
            ]
          },
          "metadata": {
            "tags": []
          },
          "execution_count": 12
        }
      ]
    },
    {
      "cell_type": "code",
      "metadata": {
        "id": "VE0cTp5ZcE_l"
      },
      "source": [
        "# (26860.234375, -3669.443603515625)"
      ],
      "execution_count": null,
      "outputs": []
    },
    {
      "cell_type": "code",
      "metadata": {
        "colab": {
          "base_uri": "https://localhost:8080/"
        },
        "id": "W4B5iWrYPqI6",
        "outputId": "aca500f4-6ada-4b53-99eb-6372eea93773"
      },
      "source": [
        "flag = 0\n",
        "count = 0\n",
        "for file in glob.glob('Data not preprocessed/scz_training/*'):\n",
        "  count= count+1\n",
        "  print(file)\n",
        "  img4d = nib.load(file)\n",
        "  img3d_list = nib.funcs.four_to_three(img4d)\n",
        "  for i in img3d_list:\n",
        "    data = i.get_fdata()\n",
        "    images.append(data)\n",
        "    label.append(1)\n",
        "    \n",
        "print(\"done\")\n",
        "print(count)"
      ],
      "execution_count": null,
      "outputs": [
        {
          "output_type": "stream",
          "text": [
            "Data not preprocessed/scz_training/sub-A00001243_ses-20110101_task-rest_bold.nii.gz\n",
            "Data not preprocessed/scz_training/sub-A00006754_ses-20110101_task-rest_run-01_bold.nii.gz\n",
            "Data not preprocessed/scz_training/sub-A00023246_ses-20110101_task-rest_bold.nii.gz\n",
            "Data not preprocessed/scz_training/sub-A00020602_ses-20100101_task-rest_bold.nii.gz\n",
            "Data not preprocessed/scz_training/sub-A00021591_ses-20110101_task-rest_bold.nii.gz\n",
            "Data not preprocessed/scz_training/sub-A00021598_ses-20110101_task-rest_run-01_bold.nii.gz\n",
            "Data not preprocessed/scz_training/sub-A00009280_ses-20110101_task-rest_run-01_bold.nii.gz\n",
            "Data not preprocessed/scz_training/sub-A00015201_ses-20110101_task-rest_bold.nii.gz\n",
            "Data not preprocessed/scz_training/sub-A00023158_ses-20090101_task-rest_bold.nii.gz\n",
            "Data not preprocessed/scz_training/sub-A00016197_ses-20090101_task-rest_bold.nii.gz\n",
            "Data not preprocessed/scz_training/sub-A00014804_ses-20090101_task-rest_bold.nii.gz\n",
            "Data not preprocessed/scz_training/sub-A00000909_ses-20110101_task-rest_run-01_bold.nii.gz\n",
            "Data not preprocessed/scz_training/sub-A00024568_ses-20090101_task-rest_bold.nii.gz\n",
            "Data not preprocessed/scz_training/sub-A00014607_ses-20100101_task-rest_bold.nii.gz\n",
            "Data not preprocessed/scz_training/sub-A00020787_ses-20100101_task-rest_bold.nii.gz\n",
            "Data not preprocessed/scz_training/sub-A00018403_ses-20110101_task-rest_run-01_bold.nii.gz\n",
            "Data not preprocessed/scz_training/sub-A00023590_ses-20100101_task-rest_bold.nii.gz\n",
            "Data not preprocessed/scz_training/sub-A00000838_ses-20100101_task-rest_bold.nii.gz\n",
            "Data not preprocessed/scz_training/sub-A00027410_ses-20120101_task-rest_bold.nii.gz\n",
            "Data not preprocessed/scz_training/sub-A00027537_ses-20110101_task-rest_bold.nii.gz\n",
            "done\n",
            "20\n"
          ],
          "name": "stdout"
        }
      ]
    },
    {
      "cell_type": "code",
      "metadata": {
        "id": "96YwFqeWcUEp"
      },
      "source": [
        "# scz_array = np.asarray(scz)"
      ],
      "execution_count": null,
      "outputs": []
    },
    {
      "cell_type": "code",
      "metadata": {
        "colab": {
          "base_uri": "https://localhost:8080/"
        },
        "id": "O06aB3d3dTBl",
        "outputId": "783c103f-b389-4fd2-adf1-22b3631d5b1e"
      },
      "source": [
        "# np.max(scz_array), np.min(scz_array)"
      ],
      "execution_count": null,
      "outputs": [
        {
          "output_type": "execute_result",
          "data": {
            "text/plain": [
              "(28822.50390625, -6477.419921875)"
            ]
          },
          "metadata": {
            "tags": []
          },
          "execution_count": 9
        }
      ]
    },
    {
      "cell_type": "code",
      "metadata": {
        "id": "wXhSNtfcdW7W"
      },
      "source": [
        "# (28822.50390625, -6477.419921875)"
      ],
      "execution_count": null,
      "outputs": []
    },
    {
      "cell_type": "code",
      "metadata": {
        "colab": {
          "base_uri": "https://localhost:8080/"
        },
        "id": "sKCDor2EPqCo",
        "outputId": "36631337-bb65-4044-dcea-c098e7bd9282"
      },
      "source": [
        "len(images),len(label)"
      ],
      "execution_count": null,
      "outputs": [
        {
          "output_type": "execute_result",
          "data": {
            "text/plain": [
              "(6000, 6000)"
            ]
          },
          "metadata": {
            "tags": []
          },
          "execution_count": 16
        }
      ]
    },
    {
      "cell_type": "code",
      "metadata": {
        "id": "SR4SN8MbPqAA"
      },
      "source": [
        "images_array = np.asarray(images)"
      ],
      "execution_count": null,
      "outputs": []
    },
    {
      "cell_type": "code",
      "metadata": {
        "id": "EMFpljHNPp9i"
      },
      "source": [
        "label_array = np.asarray(label)"
      ],
      "execution_count": null,
      "outputs": []
    },
    {
      "cell_type": "code",
      "metadata": {
        "id": "b7AGwr-YPp3W"
      },
      "source": [
        "x_training, y_training = shuffle(images_array,label_array,random_state = 0)"
      ],
      "execution_count": null,
      "outputs": []
    },
    {
      "cell_type": "code",
      "metadata": {
        "id": "DL-ql-60Pp1J",
        "colab": {
          "base_uri": "https://localhost:8080/"
        },
        "outputId": "37ba414d-3ea6-4a01-f538-94458cb71f31"
      },
      "source": [
        "y_training[:10]"
      ],
      "execution_count": null,
      "outputs": [
        {
          "output_type": "execute_result",
          "data": {
            "text/plain": [
              "array([1, 0, 1, 0, 0, 0, 1, 1, 0, 0])"
            ]
          },
          "metadata": {
            "tags": []
          },
          "execution_count": 20
        }
      ]
    },
    {
      "cell_type": "code",
      "metadata": {
        "colab": {
          "base_uri": "https://localhost:8080/"
        },
        "id": "4w10VB7PevFM",
        "outputId": "ad664d0f-6c76-4486-a9ef-51c136b43965"
      },
      "source": [
        "x_training.shape, y_training.shape"
      ],
      "execution_count": null,
      "outputs": [
        {
          "output_type": "execute_result",
          "data": {
            "text/plain": [
              "((6000, 64, 64, 33), (6000,))"
            ]
          },
          "metadata": {
            "tags": []
          },
          "execution_count": 21
        }
      ]
    },
    {
      "cell_type": "code",
      "metadata": {
        "colab": {
          "base_uri": "https://localhost:8080/"
        },
        "id": "mo812MbUfMeW",
        "outputId": "4a264d31-68c2-4f1d-a1e5-c8de00762a21"
      },
      "source": [
        "ls"
      ],
      "execution_count": null,
      "outputs": [
        {
          "output_type": "stream",
          "text": [
            " \u001b[0m\u001b[01;34mbin\u001b[0m/                      \u001b[01;34mdev\u001b[0m/     \u001b[01;34mlib64\u001b[0m/   \u001b[01;34mroot\u001b[0m/   \u001b[01;34mtensorflow-1.15.2\u001b[0m/\n",
            " \u001b[01;34mboot\u001b[0m/                     \u001b[01;34metc\u001b[0m/     \u001b[01;34mmedia\u001b[0m/   \u001b[01;34mrun\u001b[0m/    \u001b[30;42mtmp\u001b[0m/\n",
            " \u001b[01;34mcontent\u001b[0m/                  \u001b[01;34mhome\u001b[0m/    \u001b[01;34mmnt\u001b[0m/     \u001b[01;34msbin\u001b[0m/   \u001b[01;34mtools\u001b[0m/\n",
            " \u001b[01;34mdatalab\u001b[0m/                  \u001b[01;34mlib\u001b[0m/     \u001b[01;34mopt\u001b[0m/     \u001b[01;34msrv\u001b[0m/    \u001b[01;34musr\u001b[0m/\n",
            "\u001b[01;34m'Data not preprocessed'\u001b[0m/   \u001b[01;34mlib32\u001b[0m/   \u001b[01;34mproc\u001b[0m/    \u001b[01;34msys\u001b[0m/    \u001b[01;34mvar\u001b[0m/\n"
          ],
          "name": "stdout"
        }
      ]
    },
    {
      "cell_type": "code",
      "metadata": {
        "id": "DLvQ7uMeXLLW",
        "colab": {
          "base_uri": "https://localhost:8080/"
        },
        "outputId": "0271fd31-ee00-4f6f-d0b8-9b7ded7d13fd"
      },
      "source": [
        "cd content/drive/MyDrive/thesis3"
      ],
      "execution_count": null,
      "outputs": [
        {
          "output_type": "stream",
          "text": [
            "/content/drive/MyDrive/thesis3\n"
          ],
          "name": "stdout"
        }
      ]
    },
    {
      "cell_type": "code",
      "metadata": {
        "id": "Gc8kiQLdXLJL"
      },
      "source": [
        "np.save('x_training',x_training)\n",
        "np.save('y_training',y_training)"
      ],
      "execution_count": null,
      "outputs": []
    },
    {
      "cell_type": "code",
      "metadata": {
        "colab": {
          "base_uri": "https://localhost:8080/"
        },
        "id": "7hrvl6Znfm-d",
        "outputId": "4fed37f7-8017-4fd6-8548-ef1df169a80c"
      },
      "source": [
        "np.max(x_training),np.min(x_training)"
      ],
      "execution_count": null,
      "outputs": [
        {
          "output_type": "execute_result",
          "data": {
            "text/plain": [
              "(2521.0, 0.0)"
            ]
          },
          "metadata": {
            "tags": []
          },
          "execution_count": 27
        }
      ]
    },
    {
      "cell_type": "code",
      "metadata": {
        "id": "Lm1gX7_Of7O0"
      },
      "source": [
        "# max , min = 28822.50390625, -6477.419921875\n",
        "# (2521.0, 0.0)"
      ],
      "execution_count": null,
      "outputs": []
    },
    {
      "cell_type": "code",
      "metadata": {
        "id": "Rhp6Qo7bgcZG"
      },
      "source": [
        "x_train = np.load('x_training.npy')"
      ],
      "execution_count": null,
      "outputs": []
    },
    {
      "cell_type": "code",
      "metadata": {
        "colab": {
          "base_uri": "https://localhost:8080/"
        },
        "id": "C4GWUiKbg75L",
        "outputId": "7c127d55-43db-4f8d-c578-602418448f35"
      },
      "source": [
        "x_train.nbytes"
      ],
      "execution_count": null,
      "outputs": [
        {
          "output_type": "execute_result",
          "data": {
            "text/plain": [
              "6488064000"
            ]
          },
          "metadata": {
            "tags": []
          },
          "execution_count": 17
        }
      ]
    },
    {
      "cell_type": "code",
      "metadata": {
        "id": "WXyZllC8gAvU"
      },
      "source": [
        "x_mean = np.mean(x_training)\n",
        "x_std = np.std(x_training)"
      ],
      "execution_count": null,
      "outputs": []
    },
    {
      "cell_type": "code",
      "metadata": {
        "colab": {
          "base_uri": "https://localhost:8080/"
        },
        "id": "VWrvAfCUhNYQ",
        "outputId": "f019f50d-8f51-44a9-8c8d-64d1f91a375e"
      },
      "source": [
        "x_mean , x_std"
      ],
      "execution_count": null,
      "outputs": [
        {
          "output_type": "execute_result",
          "data": {
            "text/plain": [
              "(1622.2154185767342, 3653.3944971648752)"
            ]
          },
          "metadata": {
            "tags": []
          },
          "execution_count": 19
        }
      ]
    },
    {
      "cell_type": "code",
      "metadata": {
        "id": "-PQPtvDshQQ8"
      },
      "source": [
        "# x_mean, x_std =1622.2154185767342, 3653.3944971648752"
      ],
      "execution_count": null,
      "outputs": []
    },
    {
      "cell_type": "code",
      "metadata": {
        "id": "1is0FpLXhfCs"
      },
      "source": [
        "x_train_zscore_normalized = (x_train - x_mean)/x_std"
      ],
      "execution_count": null,
      "outputs": []
    },
    {
      "cell_type": "code",
      "metadata": {
        "id": "tR4oGytzhytW"
      },
      "source": [
        "np.save('x_train_zscore_normalized',x_train_zscore_normalized)"
      ],
      "execution_count": null,
      "outputs": []
    },
    {
      "cell_type": "code",
      "metadata": {
        "id": "4QJQO-nHi4fw"
      },
      "source": [
        "m , mi = np.max(x_train),np.min(x_train)"
      ],
      "execution_count": null,
      "outputs": []
    },
    {
      "cell_type": "code",
      "metadata": {
        "colab": {
          "base_uri": "https://localhost:8080/"
        },
        "id": "ifPkrIIpi9yO",
        "outputId": "7e41a064-9dce-4249-f756-74f0cc3fb8e3"
      },
      "source": [
        "m,mi"
      ],
      "execution_count": null,
      "outputs": [
        {
          "output_type": "execute_result",
          "data": {
            "text/plain": [
              "(28822.50390625, -6477.419921875)"
            ]
          },
          "metadata": {
            "tags": []
          },
          "execution_count": 22
        }
      ]
    },
    {
      "cell_type": "code",
      "metadata": {
        "id": "HcMoLJgZiEU7"
      },
      "source": [
        "x_train_minmax_normalized = (x_train - mi) / (m - mi)"
      ],
      "execution_count": null,
      "outputs": []
    },
    {
      "cell_type": "code",
      "metadata": {
        "id": "e8rWTaNMjGXq"
      },
      "source": [
        "np.save('x_train_minmax_normalized',x_train_minmax_normalized)"
      ],
      "execution_count": null,
      "outputs": []
    },
    {
      "cell_type": "code",
      "metadata": {
        "colab": {
          "base_uri": "https://localhost:8080/"
        },
        "id": "yKgel6X7jXmo",
        "outputId": "166a5a60-17d9-4896-d18b-2fe6e577058e"
      },
      "source": [
        "np.max(x_train_minmax_normalized) , np.min(x_train_minmax_normalized)"
      ],
      "execution_count": null,
      "outputs": [
        {
          "output_type": "execute_result",
          "data": {
            "text/plain": [
              "(1.0, 0.0)"
            ]
          },
          "metadata": {
            "tags": []
          },
          "execution_count": 25
        }
      ]
    }
  ]
}