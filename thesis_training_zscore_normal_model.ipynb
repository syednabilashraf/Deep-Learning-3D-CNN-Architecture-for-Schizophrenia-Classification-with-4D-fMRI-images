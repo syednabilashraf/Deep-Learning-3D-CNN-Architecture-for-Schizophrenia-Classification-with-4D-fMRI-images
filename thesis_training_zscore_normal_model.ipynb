{
  "nbformat": 4,
  "nbformat_minor": 0,
  "metadata": {
    "colab": {
      "name": "thesis-training-zscore-normal model.ipynb",
      "provenance": [],
      "collapsed_sections": [],
      "machine_shape": "hm"
    },
    "kernelspec": {
      "name": "python3",
      "display_name": "Python 3"
    },
    "language_info": {
      "name": "python"
    },
    "accelerator": "GPU"
  },
  "cells": [
    {
      "cell_type": "code",
      "metadata": {
        "id": "zecpHZBqA5ju"
      },
      "source": [
        "from google.colab import files\n",
        "import matplotlib.pyplot as plt\n",
        "import numpy as np\n",
        "import scipy.io as sio\n",
        "import os\n",
        "import tensorflow as tf\n",
        "import zipfile\n",
        "from tensorflow import keras\n",
        "from tensorflow.keras import layers\n",
        "import nibabel as nib\n",
        "import glob\n",
        "from sklearn.utils import shuffle\n",
        "import sys\n"
      ],
      "execution_count": null,
      "outputs": []
    },
    {
      "cell_type": "code",
      "metadata": {
        "id": "wCQDwxx-BQXv"
      },
      "source": [
        "from keras.utils import np_utils\n",
        "from keras.layers import Conv3D, MaxPool3D, Flatten, Dense\n",
        "from keras.layers import Dropout, Input, BatchNormalization\n",
        "from sklearn.metrics import confusion_matrix, accuracy_score\n",
        "from keras.losses import binary_crossentropy\n",
        "from keras.optimizers import Adadelta, SGD\n",
        "from matplotlib.pyplot import cm\n",
        "import matplotlib.pyplot as plt\n",
        "from keras.models import Model\n",
        "import cv2\n",
        "import os\n",
        "import numpy as np\n",
        "import keras\n",
        "import h5py\n",
        "import numpy as np\n",
        "from keras import regularizers\n",
        "import os\n",
        "import glob\n",
        "import cv2\n",
        "import random\n",
        "import matplotlib.pyplot as plt\n",
        "from sklearn.utils import shuffle\n",
        "from sklearn.model_selection import train_test_split\n",
        "from sklearn.model_selection import StratifiedKFold\n",
        "from sklearn.metrics import roc_curve, roc_auc_score\n",
        "\n",
        "from keras.models import Sequential\n",
        "from keras.optimizers import RMSprop\n",
        "from keras.layers import Conv2D, MaxPooling2D\n",
        "from keras.layers import Activation, Dropout, Flatten, Dense\n",
        "from sklearn.utils import shuffle\n",
        "from sklearn.model_selection import train_test_split\n",
        "from keras import optimizers\n",
        "from keras.utils import to_categorical, plot_model\n",
        "from keras.layers import Dense, Input, Conv2D, Flatten, MaxPooling2D, Activation\n",
        "from keras.models import Model, Sequential\n",
        "from keras.layers import Activation, Dropout, Flatten, Dense\n",
        "from keras.callbacks import ModelCheckpoint\n",
        "from keras.optimizers import Adam\n",
        "from keras.applications.vgg16 import VGG16\n",
        "from keras.models import load_model\n",
        "from keras.utils import np_utils\n",
        "from keras import backend as K\n",
        "from keras.models import load_model\n",
        "import keras"
      ],
      "execution_count": null,
      "outputs": []
    },
    {
      "cell_type": "code",
      "metadata": {
        "id": "UCUpcL9EBUSV"
      },
      "source": [
        "x_train = np.load(\"/content/drive/MyDrive/thesis2/x_train_zscore_normalized.npy\")\n",
        "y_train = np.load(\"/content/drive/MyDrive/thesis2/y_training.npy\")"
      ],
      "execution_count": null,
      "outputs": []
    },
    {
      "cell_type": "code",
      "metadata": {
        "colab": {
          "base_uri": "https://localhost:8080/"
        },
        "id": "4dHWbQtjCwV5",
        "outputId": "aa303a3b-f4e6-49ba-d7f5-4b5b76bd106d"
      },
      "source": [
        "x_train.shape,y_train.shape"
      ],
      "execution_count": null,
      "outputs": [
        {
          "output_type": "execute_result",
          "data": {
            "text/plain": [
              "((6000, 64, 64, 33), (6000,))"
            ]
          },
          "metadata": {
            "tags": []
          },
          "execution_count": 5
        }
      ]
    },
    {
      "cell_type": "code",
      "metadata": {
        "colab": {
          "base_uri": "https://localhost:8080/"
        },
        "id": "cNVglHlbCPXy",
        "outputId": "34923c56-f05a-404c-e755-cca3d7b958f8"
      },
      "source": [
        "# x_mean = np.mean(x_train)\n",
        "# x_std = np.std(x_train)\n",
        "# x_mean,x_std\n",
        "# # (1553.0166624964165, 3575.5203140146095)"
      ],
      "execution_count": null,
      "outputs": [
        {
          "output_type": "execute_result",
          "data": {
            "text/plain": [
              "(-2.1325590003211479e-16, 1.0000000000002145)"
            ]
          },
          "metadata": {
            "tags": []
          },
          "execution_count": 6
        }
      ]
    },
    {
      "cell_type": "code",
      "metadata": {
        "id": "YfUjSwAiKxge"
      },
      "source": [
        "x_mean, x_std =1622.2154185767342, 3653.3944971648752"
      ],
      "execution_count": null,
      "outputs": []
    },
    {
      "cell_type": "code",
      "metadata": {
        "id": "v4zqMF9JCXPv"
      },
      "source": [
        "# x_train = (x_train- x_mean)/x_std"
      ],
      "execution_count": null,
      "outputs": []
    },
    {
      "cell_type": "code",
      "metadata": {
        "id": "0NqBkdf0Cgho"
      },
      "source": [
        "x_test = np.load(\"/content/drive/MyDrive/thesis2/x_test.npy\")\n",
        "y_test = np.load(\"/content/drive/MyDrive/thesis2/y_test.npy\")"
      ],
      "execution_count": null,
      "outputs": []
    },
    {
      "cell_type": "code",
      "metadata": {
        "colab": {
          "base_uri": "https://localhost:8080/"
        },
        "id": "H5GCMEhOCtWR",
        "outputId": "becf2b29-2a64-4730-c008-2254caa5e5d6"
      },
      "source": [
        "x_test.shape,y_test.shape"
      ],
      "execution_count": null,
      "outputs": [
        {
          "output_type": "execute_result",
          "data": {
            "text/plain": [
              "((1500, 64, 64, 33), (1500,))"
            ]
          },
          "metadata": {
            "tags": []
          },
          "execution_count": 9
        }
      ]
    },
    {
      "cell_type": "code",
      "metadata": {
        "id": "0EPVVPJDC4DZ"
      },
      "source": [
        "x_test = (x_test- x_mean)/x_std"
      ],
      "execution_count": null,
      "outputs": []
    },
    {
      "cell_type": "code",
      "metadata": {
        "id": "jD-Sr2TIC-4g"
      },
      "source": [
        "x_val = np.load(\"/content/drive/MyDrive/thesis2/x_validation.npy\")\n",
        "y_val = np.load(\"/content/drive/MyDrive/thesis2/y_validation.npy\")"
      ],
      "execution_count": null,
      "outputs": []
    },
    {
      "cell_type": "code",
      "metadata": {
        "colab": {
          "base_uri": "https://localhost:8080/"
        },
        "id": "lBIk8xHHDI30",
        "outputId": "434b7aa4-d0d7-43d9-e01b-87500c4942cb"
      },
      "source": [
        "x_val.shape,y_val.shape"
      ],
      "execution_count": null,
      "outputs": [
        {
          "output_type": "execute_result",
          "data": {
            "text/plain": [
              "((1500, 64, 64, 33), (1500,))"
            ]
          },
          "metadata": {
            "tags": []
          },
          "execution_count": 12
        }
      ]
    },
    {
      "cell_type": "code",
      "metadata": {
        "id": "IAbisxmFDRgn"
      },
      "source": [
        "x_val = (x_val- x_mean)/x_std"
      ],
      "execution_count": null,
      "outputs": []
    },
    {
      "cell_type": "code",
      "metadata": {
        "colab": {
          "base_uri": "https://localhost:8080/"
        },
        "id": "WWBGw7NnDakh",
        "outputId": "b38aa6c2-3bf0-41b0-c17e-8fd402ab2639"
      },
      "source": [
        "def get_model(width=128, height=128, depth=64):\n",
        "    \"\"\"Build a 3D convolutional neural network model.\"\"\"\n",
        "\n",
        "    inputs = keras.Input((width, height, depth, 1))\n",
        "\n",
        "    x = layers.Conv3D(filters=64, kernel_size=3,padding='same', activation=\"relu\")(inputs)\n",
        "    x = layers.MaxPool3D(pool_size=2,padding='same')(x)\n",
        "    x = layers.BatchNormalization()(x)\n",
        "\n",
        "    x = layers.Conv3D(filters=64, kernel_size=3, padding='same',activation=\"relu\")(x)\n",
        "    x = layers.MaxPool3D(pool_size=2,padding='same')(x)\n",
        "    x = layers.BatchNormalization()(x)\n",
        "\n",
        "    x = layers.Conv3D(filters=128, kernel_size=3,padding='same', activation=\"relu\")(x)\n",
        "    x = layers.MaxPool3D(pool_size=2,padding='same')(x)\n",
        "    x = layers.BatchNormalization()(x)\n",
        "\n",
        "    x = layers.Conv3D(filters=256, kernel_size=3,padding='same', activation=\"relu\")(x)\n",
        "    x = layers.MaxPool3D(pool_size=2,padding='same')(x)\n",
        "    x = layers.BatchNormalization()(x)\n",
        "\n",
        "    x = layers.GlobalAveragePooling3D()(x)\n",
        "    x = layers.Dense(units=512, activation=\"relu\")(x)\n",
        "    x = layers.Dropout(0.3)(x)\n",
        "\n",
        "    outputs = layers.Dense(units=1, activation=\"sigmoid\")(x)\n",
        "\n",
        "    # Define the model.\n",
        "    model = keras.Model(inputs, outputs, name=\"3dcnn\")\n",
        "    return model\n",
        "\n",
        "\n",
        "# Build model.\n",
        "model = get_model(width=64, height=64, depth=33)\n",
        "model.summary()\n"
      ],
      "execution_count": null,
      "outputs": [
        {
          "output_type": "stream",
          "text": [
            "Model: \"3dcnn\"\n",
            "_________________________________________________________________\n",
            "Layer (type)                 Output Shape              Param #   \n",
            "=================================================================\n",
            "input_1 (InputLayer)         [(None, 64, 64, 33, 1)]   0         \n",
            "_________________________________________________________________\n",
            "conv3d (Conv3D)              (None, 64, 64, 33, 64)    1792      \n",
            "_________________________________________________________________\n",
            "max_pooling3d (MaxPooling3D) (None, 32, 32, 17, 64)    0         \n",
            "_________________________________________________________________\n",
            "batch_normalization (BatchNo (None, 32, 32, 17, 64)    256       \n",
            "_________________________________________________________________\n",
            "conv3d_1 (Conv3D)            (None, 32, 32, 17, 64)    110656    \n",
            "_________________________________________________________________\n",
            "max_pooling3d_1 (MaxPooling3 (None, 16, 16, 9, 64)     0         \n",
            "_________________________________________________________________\n",
            "batch_normalization_1 (Batch (None, 16, 16, 9, 64)     256       \n",
            "_________________________________________________________________\n",
            "conv3d_2 (Conv3D)            (None, 16, 16, 9, 128)    221312    \n",
            "_________________________________________________________________\n",
            "max_pooling3d_2 (MaxPooling3 (None, 8, 8, 5, 128)      0         \n",
            "_________________________________________________________________\n",
            "batch_normalization_2 (Batch (None, 8, 8, 5, 128)      512       \n",
            "_________________________________________________________________\n",
            "conv3d_3 (Conv3D)            (None, 8, 8, 5, 256)      884992    \n",
            "_________________________________________________________________\n",
            "max_pooling3d_3 (MaxPooling3 (None, 4, 4, 3, 256)      0         \n",
            "_________________________________________________________________\n",
            "batch_normalization_3 (Batch (None, 4, 4, 3, 256)      1024      \n",
            "_________________________________________________________________\n",
            "global_average_pooling3d (Gl (None, 256)               0         \n",
            "_________________________________________________________________\n",
            "dense (Dense)                (None, 512)               131584    \n",
            "_________________________________________________________________\n",
            "dropout (Dropout)            (None, 512)               0         \n",
            "_________________________________________________________________\n",
            "dense_1 (Dense)              (None, 1)                 513       \n",
            "=================================================================\n",
            "Total params: 1,352,897\n",
            "Trainable params: 1,351,873\n",
            "Non-trainable params: 1,024\n",
            "_________________________________________________________________\n"
          ],
          "name": "stdout"
        }
      ]
    },
    {
      "cell_type": "code",
      "metadata": {
        "colab": {
          "base_uri": "https://localhost:8080/"
        },
        "id": "4WI_vT5LDnXu",
        "outputId": "ae20afba-9979-4f8a-d8f2-2438199f2038"
      },
      "source": [
        "initial_learning_rate = 0.0001\n",
        "lr_schedule = keras.optimizers.schedules.ExponentialDecay(\n",
        "    initial_learning_rate, decay_steps=100000, decay_rate=0.96, staircase=True\n",
        ")\n",
        "model.compile(\n",
        "    loss=\"binary_crossentropy\",\n",
        "    optimizer=keras.optimizers.Adam(learning_rate=lr_schedule),\n",
        "    metrics=[\"acc\"],\n",
        ")\n",
        "\n",
        "# Define callbacks.\n",
        "checkpoint_cb = keras.callbacks.ModelCheckpoint(\n",
        "    \"3d_image_classification.h5\", save_best_only=True\n",
        ")\n",
        "early_stopping_cb = keras.callbacks.EarlyStopping(monitor=\"val_acc\", patience=15)\n",
        "\n",
        "# Train the model, doing validation at the end of each epoch\n",
        "epochs = 100\n",
        "history = model.fit(\n",
        "    x = x_train,y = y_train,\n",
        "    validation_data=(x_val,y_val),\n",
        "    epochs=epochs,\n",
        "    shuffle=True,\n",
        "    verbose=2,\n",
        "    callbacks=[checkpoint_cb, early_stopping_cb],\n",
        ")"
      ],
      "execution_count": null,
      "outputs": [
        {
          "output_type": "stream",
          "text": [
            "Epoch 1/100\n",
            "188/188 - 62s - loss: 0.0830 - acc: 0.9805 - val_loss: 1.8124 - val_acc: 0.7000\n",
            "Epoch 2/100\n",
            "188/188 - 43s - loss: 6.8963e-04 - acc: 1.0000 - val_loss: 2.7114 - val_acc: 0.7000\n",
            "Epoch 3/100\n",
            "188/188 - 43s - loss: 2.3005e-04 - acc: 1.0000 - val_loss: 1.9380 - val_acc: 0.7000\n",
            "Epoch 4/100\n",
            "188/188 - 43s - loss: 8.0856e-04 - acc: 1.0000 - val_loss: 0.8028 - val_acc: 0.6993\n",
            "Epoch 5/100\n",
            "188/188 - 43s - loss: 8.6721e-05 - acc: 1.0000 - val_loss: 0.8537 - val_acc: 0.6967\n",
            "Epoch 6/100\n",
            "188/188 - 43s - loss: 6.4121e-05 - acc: 1.0000 - val_loss: 0.9850 - val_acc: 0.7000\n",
            "Epoch 7/100\n",
            "188/188 - 43s - loss: 3.2955e-05 - acc: 1.0000 - val_loss: 0.9807 - val_acc: 0.6993\n",
            "Epoch 8/100\n",
            "188/188 - 43s - loss: 2.0247e-05 - acc: 1.0000 - val_loss: 0.9944 - val_acc: 0.7000\n",
            "Epoch 9/100\n",
            "188/188 - 43s - loss: 1.8418e-05 - acc: 1.0000 - val_loss: 1.0471 - val_acc: 0.7000\n",
            "Epoch 10/100\n",
            "188/188 - 43s - loss: 1.5337e-05 - acc: 1.0000 - val_loss: 1.0322 - val_acc: 0.7000\n",
            "Epoch 11/100\n",
            "188/188 - 43s - loss: 1.5139e-05 - acc: 1.0000 - val_loss: 0.9942 - val_acc: 0.7000\n",
            "Epoch 12/100\n",
            "188/188 - 43s - loss: 1.0248e-05 - acc: 1.0000 - val_loss: 1.1599 - val_acc: 0.6993\n",
            "Epoch 13/100\n",
            "188/188 - 43s - loss: 1.7043e-05 - acc: 1.0000 - val_loss: 1.2351 - val_acc: 0.6993\n",
            "Epoch 14/100\n",
            "188/188 - 43s - loss: 1.2345e-05 - acc: 1.0000 - val_loss: 1.2059 - val_acc: 0.6993\n",
            "Epoch 15/100\n",
            "188/188 - 43s - loss: 6.8157e-06 - acc: 1.0000 - val_loss: 1.1000 - val_acc: 0.7000\n",
            "Epoch 16/100\n",
            "188/188 - 43s - loss: 1.2346e-05 - acc: 1.0000 - val_loss: 1.2490 - val_acc: 0.6993\n"
          ],
          "name": "stdout"
        }
      ]
    },
    {
      "cell_type": "code",
      "metadata": {
        "id": "eOD-p7kyRSHA",
        "colab": {
          "base_uri": "https://localhost:8080/",
          "height": 190
        },
        "outputId": "60c226e4-0a6f-487c-9bcb-2be8483cd8d1"
      },
      "source": [
        "fig, ax = plt.subplots(1, 2, figsize=(20, 3))\n",
        "ax = ax.ravel()\n",
        "\n",
        "for i, metric in enumerate([\"acc\", \"loss\"]):\n",
        "    ax[i].plot(model.history.history[metric])\n",
        "    ax[i].plot(model.history.history[\"val_\" + metric])\n",
        "    ax[i].set_title(\"Model {}\".format(metric))\n",
        "    ax[i].set_xlabel(\"epochs\")\n",
        "    ax[i].set_ylabel(metric)\n",
        "    ax[i].legend([\"train\", \"val\"])"
      ],
      "execution_count": null,
      "outputs": [
        {
          "output_type": "display_data",
          "data": {
            "image/png": "[encoded data removed]",
            "text/plain": [
              "<Figure size 1440x216 with 2 Axes>"
            ]
          },
          "metadata": {
            "tags": [],
            "needs_background": "light"
          }
        }
      ]
    },
    {
      "cell_type": "code",
      "metadata": {
        "colab": {
          "base_uri": "https://localhost:8080/"
        },
        "id": "p1M9WDE-pqeN",
        "outputId": "bf6e056c-0b01-4997-adb9-492ef7c1edfe"
      },
      "source": [
        "y_train[:10]"
      ],
      "execution_count": null,
      "outputs": [
        {
          "output_type": "execute_result",
          "data": {
            "text/plain": [
              "array([1, 0, 1, 0, 0, 0, 1, 1, 0, 0])"
            ]
          },
          "metadata": {
            "tags": []
          },
          "execution_count": 21
        }
      ]
    },
    {
      "cell_type": "code",
      "metadata": {
        "colab": {
          "base_uri": "https://localhost:8080/"
        },
        "id": "W0G2Yy_BGw1K",
        "outputId": "7c3c50ec-50c1-4d57-d5d6-9583639526e2"
      },
      "source": [
        "model.evaluate(x = x_test,y = y_test)"
      ],
      "execution_count": null,
      "outputs": [
        {
          "output_type": "stream",
          "text": [
            "47/47 [==============================] - 3s 71ms/step - loss: 1.6745 - acc: 0.7033\n"
          ],
          "name": "stdout"
        },
        {
          "output_type": "execute_result",
          "data": {
            "text/plain": [
              "[1.6745129823684692, 0.70333331823349]"
            ]
          },
          "metadata": {
            "tags": []
          },
          "execution_count": 17
        }
      ]
    },
    {
      "cell_type": "code",
      "metadata": {
        "id": "M-qR_QbWqIrX"
      },
      "source": [
        "x_test2, y_test2= shuffle(x_test,y_test,random_state = 4)"
      ],
      "execution_count": null,
      "outputs": []
    },
    {
      "cell_type": "code",
      "metadata": {
        "colab": {
          "base_uri": "https://localhost:8080/"
        },
        "id": "8XrAXTtSqQdx",
        "outputId": "e2018446-b3ca-409d-f5c6-55b15b00fbb8"
      },
      "source": [
        "model.evaluate(x = x_test2,y = y_test2)"
      ],
      "execution_count": null,
      "outputs": [
        {
          "output_type": "stream",
          "text": [
            "47/47 [==============================] - 3s 71ms/step - loss: 1.6745 - acc: 0.7033\n"
          ],
          "name": "stdout"
        },
        {
          "output_type": "execute_result",
          "data": {
            "text/plain": [
              "[1.6745129823684692, 0.70333331823349]"
            ]
          },
          "metadata": {
            "tags": []
          },
          "execution_count": 23
        }
      ]
    },
    {
      "cell_type": "code",
      "metadata": {
        "id": "nb0odvKNJdox"
      },
      "source": [
        "model = load_model('3d_image_classification.h5')"
      ],
      "execution_count": null,
      "outputs": []
    },
    {
      "cell_type": "code",
      "metadata": {
        "colab": {
          "base_uri": "https://localhost:8080/"
        },
        "id": "6I489egDHq1d",
        "outputId": "54b9004b-f538-4ac1-eaed-6b5e4ecccd8f"
      },
      "source": [
        "y_test[:10]"
      ],
      "execution_count": null,
      "outputs": [
        {
          "output_type": "execute_result",
          "data": {
            "text/plain": [
              "array([1, 0, 1, 0, 1, 1, 1, 0, 0, 1])"
            ]
          },
          "metadata": {
            "tags": []
          },
          "execution_count": 18
        }
      ]
    },
    {
      "cell_type": "code",
      "metadata": {
        "colab": {
          "base_uri": "https://localhost:8080/"
        },
        "id": "qL09qGpjH1ZM",
        "outputId": "fee8f0b3-5b12-4d89-8489-099d4887e688"
      },
      "source": [
        "y_val[:10]"
      ],
      "execution_count": null,
      "outputs": [
        {
          "output_type": "execute_result",
          "data": {
            "text/plain": [
              "array([1, 0, 1, 0, 1, 1, 1, 0, 0, 1])"
            ]
          },
          "metadata": {
            "tags": []
          },
          "execution_count": 19
        }
      ]
    },
    {
      "cell_type": "code",
      "metadata": {
        "colab": {
          "base_uri": "https://localhost:8080/"
        },
        "id": "4T8Vnn3aH3cx",
        "outputId": "1e611032-5fa2-4624-adab-f969be4714bd"
      },
      "source": [
        "y_train[:10]"
      ],
      "execution_count": null,
      "outputs": [
        {
          "output_type": "execute_result",
          "data": {
            "text/plain": [
              "array([1, 0, 1, 0, 0, 0, 1, 1, 0, 0])"
            ]
          },
          "metadata": {
            "tags": []
          },
          "execution_count": 20
        }
      ]
    },
    {
      "cell_type": "code",
      "metadata": {
        "id": "SpWdJeLiq2hc"
      },
      "source": [
        "cd /"
      ],
      "execution_count": null,
      "outputs": []
    },
    {
      "cell_type": "code",
      "metadata": {
        "colab": {
          "base_uri": "https://localhost:8080/"
        },
        "id": "vdyMOkOHIAvn",
        "outputId": "48ed3599-49c7-47f9-8755-424e2a8267fd"
      },
      "source": [
        "!wget --load-cookies /tmp/cookies.txt \"https://docs.google.com/uc?export=download&confirm=$(wget --quiet --save-cookies /tmp/cookies.txt --keep-session-cookies --no-check-certificate 'https://docs.google.com/uc?export=download&id=1Orm2tbk5gljhnRrZ56onxRdmIUWvYt-X' -O- | sed -rn 's/.*confirm=([0-9A-Za-z_]+).*/\\1\\n/p')&id=1Orm2tbk5gljhnRrZ56onxRdmIUWvYt-X\" -O finaltest.zip && rm -rf /tmp/cookies.txt\n"
      ],
      "execution_count": null,
      "outputs": [
        {
          "output_type": "stream",
          "text": [
            "--2021-05-17 23:31:12--  https://docs.google.com/uc?export=download&confirm=1gG7&id=1Orm2tbk5gljhnRrZ56onxRdmIUWvYt-X\n",
            "Resolving docs.google.com (docs.google.com)... 108.177.119.138, 108.177.119.139, 108.177.119.101, ...\n",
            "Connecting to docs.google.com (docs.google.com)|108.177.119.138|:443... connected.\n",
            "HTTP request sent, awaiting response... 302 Moved Temporarily\n",
            "Location: https://doc-0o-b0-docs.googleusercontent.com/docs/securesc/etvfpgtoagnnmre969r7mn75oe0d1ng9/68c013fqa4lauqtia1hc08su6rg16vdo/1621294200000/10681116013986523016/15008852260200472835Z/1Orm2tbk5gljhnRrZ56onxRdmIUWvYt-X?e=download [following]\n",
            "--2021-05-17 23:31:12--  https://doc-0o-b0-docs.googleusercontent.com/docs/securesc/etvfpgtoagnnmre969r7mn75oe0d1ng9/68c013fqa4lauqtia1hc08su6rg16vdo/1621294200000/10681116013986523016/15008852260200472835Z/1Orm2tbk5gljhnRrZ56onxRdmIUWvYt-X?e=download\n",
            "Resolving doc-0o-b0-docs.googleusercontent.com (doc-0o-b0-docs.googleusercontent.com)... 74.125.128.132, 2a00:1450:4013:c01::84\n",
            "Connecting to doc-0o-b0-docs.googleusercontent.com (doc-0o-b0-docs.googleusercontent.com)|74.125.128.132|:443... connected.\n",
            "HTTP request sent, awaiting response... 302 Found\n",
            "Location: https://docs.google.com/nonceSigner?nonce=gialok7castrm&continue=https://doc-0o-b0-docs.googleusercontent.com/docs/securesc/etvfpgtoagnnmre969r7mn75oe0d1ng9/68c013fqa4lauqtia1hc08su6rg16vdo/1621294200000/10681116013986523016/15008852260200472835Z/1Orm2tbk5gljhnRrZ56onxRdmIUWvYt-X?e%3Ddownload&hash=0tmsb9n8t7u7ves2q5n2okf3kmhpup5f [following]\n",
            "--2021-05-17 23:31:12--  https://docs.google.com/nonceSigner?nonce=gialok7castrm&continue=https://doc-0o-b0-docs.googleusercontent.com/docs/securesc/etvfpgtoagnnmre969r7mn75oe0d1ng9/68c013fqa4lauqtia1hc08su6rg16vdo/1621294200000/10681116013986523016/15008852260200472835Z/1Orm2tbk5gljhnRrZ56onxRdmIUWvYt-X?e%3Ddownload&hash=0tmsb9n8t7u7ves2q5n2okf3kmhpup5f\n",
            "Connecting to docs.google.com (docs.google.com)|108.177.119.138|:443... connected.\n",
            "HTTP request sent, awaiting response... 302 Found\n",
            "Location: https://doc-0o-b0-docs.googleusercontent.com/docs/securesc/etvfpgtoagnnmre969r7mn75oe0d1ng9/68c013fqa4lauqtia1hc08su6rg16vdo/1621294200000/10681116013986523016/15008852260200472835Z/1Orm2tbk5gljhnRrZ56onxRdmIUWvYt-X?e=download&nonce=gialok7castrm&user=15008852260200472835Z&hash=44u4tvs3a8blqblmtte4pamsrnlo9lir [following]\n",
            "--2021-05-17 23:31:13--  https://doc-0o-b0-docs.googleusercontent.com/docs/securesc/etvfpgtoagnnmre969r7mn75oe0d1ng9/68c013fqa4lauqtia1hc08su6rg16vdo/1621294200000/10681116013986523016/15008852260200472835Z/1Orm2tbk5gljhnRrZ56onxRdmIUWvYt-X?e=download&nonce=gialok7castrm&user=15008852260200472835Z&hash=44u4tvs3a8blqblmtte4pamsrnlo9lir\n",
            "Connecting to doc-0o-b0-docs.googleusercontent.com (doc-0o-b0-docs.googleusercontent.com)|74.125.128.132|:443... connected.\n",
            "HTTP request sent, awaiting response... 200 OK\n",
            "Length: unspecified [application/x-zip-compressed]\n",
            "Saving to: ‘finaltest.zip’\n",
            "\n",
            "finaltest.zip           [           <=>      ] 413.90M   180MB/s    in 2.3s    \n",
            "\n",
            "2021-05-17 23:31:15 (180 MB/s) - ‘finaltest.zip’ saved [434007592]\n",
            "\n"
          ],
          "name": "stdout"
        }
      ]
    },
    {
      "cell_type": "code",
      "metadata": {
        "colab": {
          "base_uri": "https://localhost:8080/"
        },
        "id": "tf3XmfBkIS_W",
        "outputId": "347257d6-f3e1-4fc6-8410-5658fb335a0f"
      },
      "source": [
        "# from google.colab import files\n",
        "# files.download('example.txt') \n",
        "!unzip /finaltest.zip -d /\n",
        "print('done')"
      ],
      "execution_count": null,
      "outputs": [
        {
          "output_type": "stream",
          "text": [
            "Archive:  /finaltest.zip\n",
            "   creating: /scz_test/\n",
            "  inflating: /scz_test/18.nii.gz     \n",
            "  inflating: /scz_test/19.nii.gz     \n",
            "  inflating: /scz_test/20.nii.gz     \n",
            "  inflating: /scz_test/21.nii.gz     \n",
            "  inflating: /scz_test/22.nii.gz     \n",
            "  inflating: /scz_test/23.nii.gz     \n",
            "  inflating: /scz_test/24.nii.gz     \n",
            "  inflating: /scz_test/25.nii.gz     \n",
            "  inflating: /scz_test/26.nii.gz     \n",
            "  inflating: /scz_test/27.nii.gz     \n",
            "  inflating: /scz_test/28.nii.gz     \n",
            "  inflating: /scz_test/29.nii.gz     \n",
            "  inflating: /scz_test/30.nii.gz     \n",
            "  inflating: /scz_test/31.nii.gz     \n",
            "   creating: /normal_test/\n",
            "  inflating: /normal_test/18.nii.gz  \n",
            "  inflating: /normal_test/19.nii.gz  \n",
            "  inflating: /normal_test/20.nii.gz  \n",
            "  inflating: /normal_test/21.nii.gz  \n",
            "  inflating: /normal_test/22.nii.gz  \n",
            "  inflating: /normal_test/23.nii.gz  \n",
            "  inflating: /normal_test/24.nii.gz  \n",
            "  inflating: /normal_test/25.nii.gz  \n",
            "  inflating: /normal_test/26.nii.gz  \n",
            "done\n"
          ],
          "name": "stdout"
        }
      ]
    },
    {
      "cell_type": "code",
      "metadata": {
        "id": "9W9HlE2HITav"
      },
      "source": [
        "normaltest = []\n",
        "scztest = []"
      ],
      "execution_count": null,
      "outputs": []
    },
    {
      "cell_type": "code",
      "metadata": {
        "colab": {
          "base_uri": "https://localhost:8080/"
        },
        "id": "GCEN9VaXIVVL",
        "outputId": "5fad0799-9e06-47fb-8fd7-b29679b38aac"
      },
      "source": [
        "flag = 0\n",
        "count = 0\n",
        "for file in glob.glob('/normal_test/*'):\n",
        "  count= count+1\n",
        "  print(file)\n",
        "  img4d = nib.load(file)\n",
        "  img3d_list = nib.funcs.four_to_three(img4d)\n",
        "  for i in img3d_list:\n",
        "    data = i.get_fdata()\n",
        "    normaltest.append(data)\n",
        "    \n",
        "  #   if (len(scz)==2500):\n",
        "  #     flag = 1\n",
        "  #     if(flag == 1):\n",
        "  #       break\n",
        "  # if(flag == 1):\n",
        "  #   break\n",
        "print(\"done\")\n",
        "print(count)"
      ],
      "execution_count": null,
      "outputs": [
        {
          "output_type": "stream",
          "text": [
            "/normal_test/19.nii.gz\n",
            "/normal_test/21.nii.gz\n",
            "/normal_test/25.nii.gz\n",
            "/normal_test/23.nii.gz\n",
            "/normal_test/20.nii.gz\n",
            "/normal_test/22.nii.gz\n",
            "/normal_test/24.nii.gz\n",
            "/normal_test/18.nii.gz\n",
            "/normal_test/26.nii.gz\n",
            "done\n",
            "9\n"
          ],
          "name": "stdout"
        }
      ]
    },
    {
      "cell_type": "code",
      "metadata": {
        "colab": {
          "base_uri": "https://localhost:8080/"
        },
        "id": "UkCERmGaIYfo",
        "outputId": "a78d1a88-5c3e-4ec0-edd4-70b402227f9b"
      },
      "source": [
        "flag = 0\n",
        "count = 0\n",
        "for file in glob.glob('/scz_test/*'):\n",
        "  count= count+1\n",
        "  print(file)\n",
        "  img4d = nib.load(file)\n",
        "  img3d_list = nib.funcs.four_to_three(img4d)\n",
        "  for i in img3d_list:\n",
        "    data = i.get_fdata()\n",
        "    scztest.append(data)\n",
        "    \n",
        "  #   if (len(scz)==2500):\n",
        "  #     flag = 1\n",
        "  #     if(flag == 1):\n",
        "  #       break\n",
        "  # if(flag == 1):\n",
        "  #   break\n",
        "print(\"done\")\n",
        "print(count)"
      ],
      "execution_count": null,
      "outputs": [
        {
          "output_type": "stream",
          "text": [
            "/scz_test/29.nii.gz\n",
            "/scz_test/19.nii.gz\n",
            "/scz_test/21.nii.gz\n",
            "/scz_test/25.nii.gz\n",
            "/scz_test/28.nii.gz\n",
            "/scz_test/23.nii.gz\n",
            "/scz_test/30.nii.gz\n",
            "/scz_test/31.nii.gz\n",
            "/scz_test/20.nii.gz\n",
            "/scz_test/22.nii.gz\n",
            "/scz_test/24.nii.gz\n",
            "/scz_test/18.nii.gz\n",
            "/scz_test/27.nii.gz\n",
            "/scz_test/26.nii.gz\n",
            "done\n",
            "14\n"
          ],
          "name": "stdout"
        }
      ]
    },
    {
      "cell_type": "code",
      "metadata": {
        "id": "FKU81qD8Iai8"
      },
      "source": [
        "normaltest_labels = np.array([0 for _ in range(len(normaltest))])\n",
        "scztest_labels = np.array([1 for _ in range(len(scztest))])\n",
        "\n",
        "\n",
        "y = np.concatenate((normaltest_labels[:], scztest_labels[:]), axis=0)"
      ],
      "execution_count": null,
      "outputs": []
    },
    {
      "cell_type": "code",
      "metadata": {
        "id": "q9BsZbm1IctL"
      },
      "source": [
        "normaltest_array = np.asarray(normaltest)\n",
        "normaltest_array =(normaltest_array- x_mean)/x_std\n",
        "scztest_array = np.asarray(scztest)\n",
        "scztest_array =(scztest_array- x_mean)/x_std\n",
        "\n",
        "\n",
        "x_test = np.concatenate((normaltest_array[:], scztest_array[:]), axis=0)"
      ],
      "execution_count": null,
      "outputs": []
    },
    {
      "cell_type": "code",
      "metadata": {
        "colab": {
          "base_uri": "https://localhost:8080/"
        },
        "id": "TExXUTsYL7hQ",
        "outputId": "ea9a457d-1b8c-450e-a99c-196627b84dd9"
      },
      "source": [
        "y.shape"
      ],
      "execution_count": null,
      "outputs": [
        {
          "output_type": "execute_result",
          "data": {
            "text/plain": [
              "(3450,)"
            ]
          },
          "metadata": {
            "tags": []
          },
          "execution_count": 37
        }
      ]
    },
    {
      "cell_type": "code",
      "metadata": {
        "colab": {
          "base_uri": "https://localhost:8080/"
        },
        "id": "ooeUXwctIrS3",
        "outputId": "6eeb2aad-8489-44d4-9e12-00532da61167"
      },
      "source": [
        "score = model.evaluate(x = x_test,y = y)"
      ],
      "execution_count": null,
      "outputs": [
        {
          "output_type": "stream",
          "text": [
            "108/108 [==============================] - 8s 73ms/step - loss: 1.2711 - acc: 0.7403\n"
          ],
          "name": "stdout"
        }
      ]
    },
    {
      "cell_type": "code",
      "metadata": {
        "id": "5j_pNYjTNDSd"
      },
      "source": [
        "model.save('model1.h5')"
      ],
      "execution_count": null,
      "outputs": []
    },
    {
      "cell_type": "code",
      "metadata": {
        "id": "sLB0Q0-JNoHC"
      },
      "source": [
        "model = load_model('model1.h5')"
      ],
      "execution_count": null,
      "outputs": []
    },
    {
      "cell_type": "code",
      "metadata": {
        "colab": {
          "base_uri": "https://localhost:8080/"
        },
        "id": "OJU7vzuaPrHO",
        "outputId": "129d23d2-1e46-44ad-c81b-0e334c549966"
      },
      "source": [
        "print(\"%s: %.2f%%\" % (model.metrics_names[1], score[1]*100))"
      ],
      "execution_count": null,
      "outputs": [
        {
          "output_type": "stream",
          "text": [
            "acc: 100.00%\n"
          ],
          "name": "stdout"
        }
      ]
    },
    {
      "cell_type": "code",
      "metadata": {
        "id": "edVwoosWRlM6"
      },
      "source": [
        "def plot_loss_accu(history):\n",
        "    loss = history.history['loss']\n",
        "    val_loss = history.history['val_loss']\n",
        "    epochs = range(len(loss))\n",
        "    plt.plot(epochs, loss, 'g')\n",
        "    plt.plot(epochs, val_loss, 'y')\n",
        "    plt.title('Training loss')\n",
        "    plt.legend(['train', 'val'], loc='upper right')\n",
        "    plt.grid()\n",
        "    plt.show()\n",
        "    loss = history.history['acc']\n",
        "    val_loss = history.history['val_acc']\n",
        "    epochs = range(len(loss))\n",
        "    plt.plot(epochs, loss, 'r')\n",
        "    plt.plot(epochs, val_loss, 'b')\n",
        "    plt.title('Training accuracy')\n",
        "    plt.legend(['train', 'val'], loc='lower right')\n",
        "    plt.grid()\n",
        "    plt.show()"
      ],
      "execution_count": null,
      "outputs": []
    },
    {
      "cell_type": "code",
      "metadata": {
        "colab": {
          "base_uri": "https://localhost:8080/",
          "height": 356
        },
        "id": "eciWbo3YSGt3",
        "outputId": "9022921f-1da9-4441-af39-c20ad2a3ff2a"
      },
      "source": [
        "plot_loss_accu(model.history) "
      ],
      "execution_count": null,
      "outputs": [
        {
          "output_type": "error",
          "ename": "KeyError",
          "evalue": "ignored",
          "traceback": [
            "\u001b[0;31m---------------------------------------------------------------------------\u001b[0m",
            "\u001b[0;31mKeyError\u001b[0m                                  Traceback (most recent call last)",
            "\u001b[0;32m<ipython-input-52-83c049bcd9e2>\u001b[0m in \u001b[0;36m<module>\u001b[0;34m()\u001b[0m\n\u001b[0;32m----> 1\u001b[0;31m \u001b[0mplot_loss_accu\u001b[0m\u001b[0;34m(\u001b[0m\u001b[0mmodel\u001b[0m\u001b[0;34m.\u001b[0m\u001b[0mhistory\u001b[0m\u001b[0;34m)\u001b[0m\u001b[0;34m\u001b[0m\u001b[0;34m\u001b[0m\u001b[0m\n\u001b[0m",
            "\u001b[0;32m<ipython-input-50-4f96a8012c7d>\u001b[0m in \u001b[0;36mplot_loss_accu\u001b[0;34m(history)\u001b[0m\n\u001b[1;32m      1\u001b[0m \u001b[0;32mdef\u001b[0m \u001b[0mplot_loss_accu\u001b[0m\u001b[0;34m(\u001b[0m\u001b[0mhistory\u001b[0m\u001b[0;34m)\u001b[0m\u001b[0;34m:\u001b[0m\u001b[0;34m\u001b[0m\u001b[0;34m\u001b[0m\u001b[0m\n\u001b[0;32m----> 2\u001b[0;31m     \u001b[0mloss\u001b[0m \u001b[0;34m=\u001b[0m \u001b[0mhistory\u001b[0m\u001b[0;34m.\u001b[0m\u001b[0mhistory\u001b[0m\u001b[0;34m[\u001b[0m\u001b[0;34m'loss'\u001b[0m\u001b[0;34m]\u001b[0m\u001b[0;34m\u001b[0m\u001b[0;34m\u001b[0m\u001b[0m\n\u001b[0m\u001b[1;32m      3\u001b[0m     \u001b[0mval_loss\u001b[0m \u001b[0;34m=\u001b[0m \u001b[0mhistory\u001b[0m\u001b[0;34m.\u001b[0m\u001b[0mhistory\u001b[0m\u001b[0;34m[\u001b[0m\u001b[0;34m'val_loss'\u001b[0m\u001b[0;34m]\u001b[0m\u001b[0;34m\u001b[0m\u001b[0;34m\u001b[0m\u001b[0m\n\u001b[1;32m      4\u001b[0m     \u001b[0mepochs\u001b[0m \u001b[0;34m=\u001b[0m \u001b[0mrange\u001b[0m\u001b[0;34m(\u001b[0m\u001b[0mlen\u001b[0m\u001b[0;34m(\u001b[0m\u001b[0mloss\u001b[0m\u001b[0;34m)\u001b[0m\u001b[0;34m)\u001b[0m\u001b[0;34m\u001b[0m\u001b[0;34m\u001b[0m\u001b[0m\n\u001b[1;32m      5\u001b[0m     \u001b[0mplt\u001b[0m\u001b[0;34m.\u001b[0m\u001b[0mplot\u001b[0m\u001b[0;34m(\u001b[0m\u001b[0mepochs\u001b[0m\u001b[0;34m,\u001b[0m \u001b[0mloss\u001b[0m\u001b[0;34m,\u001b[0m \u001b[0;34m'g'\u001b[0m\u001b[0;34m)\u001b[0m\u001b[0;34m\u001b[0m\u001b[0;34m\u001b[0m\u001b[0m\n",
            "\u001b[0;31mKeyError\u001b[0m: 'loss'"
          ]
        }
      ]
    }
  ]
}