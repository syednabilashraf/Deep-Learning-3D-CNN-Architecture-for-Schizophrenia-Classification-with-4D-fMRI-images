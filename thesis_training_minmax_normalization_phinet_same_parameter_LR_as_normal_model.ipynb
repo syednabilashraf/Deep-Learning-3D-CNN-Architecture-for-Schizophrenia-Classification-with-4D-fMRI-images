{
  "nbformat": 4,
  "nbformat_minor": 0,
  "metadata": {
    "colab": {
      "name": "thesis-training-minmax normalization-phinet-same parameter/LR as normal model.ipynb",
      "provenance": [],
      "collapsed_sections": [],
      "machine_shape": "hm"
    },
    "kernelspec": {
      "name": "python3",
      "display_name": "Python 3"
    },
    "language_info": {
      "name": "python"
    },
    "accelerator": "GPU"
  },
  "cells": [
    {
      "cell_type": "code",
      "metadata": {
        "id": "zecpHZBqA5ju"
      },
      "source": [
        "from google.colab import files\n",
        "import matplotlib.pyplot as plt\n",
        "import numpy as np\n",
        "import scipy.io as sio\n",
        "import os\n",
        "import tensorflow as tf\n",
        "import zipfile\n",
        "from tensorflow import keras\n",
        "from tensorflow.keras import layers\n",
        "import nibabel as nib\n",
        "import glob\n",
        "from sklearn.utils import shuffle\n",
        "import sys\n"
      ],
      "execution_count": null,
      "outputs": []
    },
    {
      "cell_type": "code",
      "metadata": {
        "id": "wCQDwxx-BQXv"
      },
      "source": [
        "from keras.utils import np_utils\n",
        "from keras.layers import Conv3D, MaxPool3D, Flatten, Dense\n",
        "from keras.layers import Dropout, Input, BatchNormalization\n",
        "from sklearn.metrics import confusion_matrix, accuracy_score\n",
        "from keras.losses import binary_crossentropy\n",
        "from keras.optimizers import Adadelta, SGD\n",
        "from matplotlib.pyplot import cm\n",
        "import matplotlib.pyplot as plt\n",
        "from keras.models import Model\n",
        "import cv2\n",
        "import os\n",
        "import numpy as np\n",
        "import keras\n",
        "import h5py\n",
        "import numpy as np\n",
        "from keras import regularizers\n",
        "import os\n",
        "import glob\n",
        "import cv2\n",
        "import random\n",
        "import matplotlib.pyplot as plt\n",
        "from sklearn.utils import shuffle\n",
        "from sklearn.model_selection import train_test_split\n",
        "from sklearn.model_selection import StratifiedKFold\n",
        "from sklearn.metrics import roc_curve, roc_auc_score\n",
        "\n",
        "from keras.models import Sequential\n",
        "from keras.optimizers import RMSprop\n",
        "from keras.layers import Conv2D, MaxPooling2D\n",
        "from keras.layers import Activation, Dropout, Flatten, Dense\n",
        "from sklearn.utils import shuffle\n",
        "from sklearn.model_selection import train_test_split\n",
        "from keras import optimizers\n",
        "from keras.utils import to_categorical, plot_model\n",
        "from keras.layers import Dense, Input, Conv2D, Flatten, MaxPooling2D, Activation\n",
        "from keras.models import Model, Sequential\n",
        "from keras.layers import Activation, Dropout, Flatten, Dense\n",
        "from keras.callbacks import ModelCheckpoint\n",
        "from keras.optimizers import Adam\n",
        "from keras.applications.vgg16 import VGG16\n",
        "from keras.models import load_model\n",
        "from keras.utils import np_utils\n",
        "from keras import backend as K\n",
        "from keras.models import load_model\n",
        "import keras"
      ],
      "execution_count": null,
      "outputs": []
    },
    {
      "cell_type": "code",
      "metadata": {
        "id": "V1PY27wbyv70"
      },
      "source": [
        "from keras.engine import Input, Model\n",
        "from keras.layers import Conv3D, MaxPooling3D, GlobalAveragePooling3D,\\\n",
        "                         GlobalMaxPooling3D, AveragePooling3D, Dense, Flatten,\\\n",
        "                         Conv1D\n",
        "from keras.layers.normalization import BatchNormalization\n",
        "from keras.layers.core import Reshape, Activation\n",
        "from keras.layers.merge import Concatenate, add\n",
        "from keras.layers.advanced_activations import LeakyReLU\n",
        "from keras.optimizers import Adam\n",
        "import keras.backend as K\n",
        "from keras.callbacks import ModelCheckpoint, TensorBoard, ReduceLROnPlateau, EarlyStopping\n"
      ],
      "execution_count": null,
      "outputs": []
    },
    {
      "cell_type": "code",
      "metadata": {
        "id": "UCUpcL9EBUSV"
      },
      "source": [
        "x_train = np.load(\"/content/drive/MyDrive/thesis2/x_train_minmax_normalized.npy\")\n",
        "y_train = np.load(\"/content/drive/MyDrive/thesis2/y_training.npy\")"
      ],
      "execution_count": null,
      "outputs": []
    },
    {
      "cell_type": "code",
      "metadata": {
        "colab": {
          "base_uri": "https://localhost:8080/"
        },
        "id": "4dHWbQtjCwV5",
        "outputId": "22b206aa-e1ea-4494-b799-cb2f5a1234d0"
      },
      "source": [
        "x_train.shape,y_train.shape"
      ],
      "execution_count": null,
      "outputs": [
        {
          "output_type": "execute_result",
          "data": {
            "text/plain": [
              "((6000, 64, 64, 33), (6000,))"
            ]
          },
          "metadata": {
            "tags": []
          },
          "execution_count": 6
        }
      ]
    },
    {
      "cell_type": "code",
      "metadata": {
        "colab": {
          "base_uri": "https://localhost:8080/"
        },
        "id": "cNVglHlbCPXy",
        "outputId": "f11c8dd8-8a41-4f32-8e8e-558b1f94ff13"
      },
      "source": [
        "# x_mean = np.mean(x_train)\n",
        "# x_std = np.std(x_train)\n",
        "# x_mean,x_std\n",
        "# # (1553.0166624964165, 3575.5203140146095)"
      ],
      "execution_count": null,
      "outputs": [
        {
          "output_type": "execute_result",
          "data": {
            "text/plain": [
              "(0.22945192119659386, 0.10349581814834698)"
            ]
          },
          "metadata": {
            "tags": []
          },
          "execution_count": 5
        }
      ]
    },
    {
      "cell_type": "code",
      "metadata": {
        "id": "YfUjSwAiKxge",
        "colab": {
          "base_uri": "https://localhost:8080/"
        },
        "outputId": "8bcd034a-2e22-4f12-dbb7-1fd47d1a153e"
      },
      "source": [
        "np.max(x_train),np.min(x_train)"
      ],
      "execution_count": null,
      "outputs": [
        {
          "output_type": "execute_result",
          "data": {
            "text/plain": [
              "(1.0, 0.0)"
            ]
          },
          "metadata": {
            "tags": []
          },
          "execution_count": 7
        }
      ]
    },
    {
      "cell_type": "code",
      "metadata": {
        "id": "1MH36NTPtUad"
      },
      "source": [
        "m , mi = 28822.50390625, -6477.419921875"
      ],
      "execution_count": null,
      "outputs": []
    },
    {
      "cell_type": "code",
      "metadata": {
        "id": "v4zqMF9JCXPv"
      },
      "source": [
        "# x_train = (x_train- x_mean)/x_std"
      ],
      "execution_count": null,
      "outputs": []
    },
    {
      "cell_type": "code",
      "metadata": {
        "id": "0NqBkdf0Cgho"
      },
      "source": [
        "x_test = np.load(\"/content/drive/MyDrive/thesis2/x_test.npy\")\n",
        "y_test = np.load(\"/content/drive/MyDrive/thesis2/y_test.npy\")"
      ],
      "execution_count": null,
      "outputs": []
    },
    {
      "cell_type": "code",
      "metadata": {
        "colab": {
          "base_uri": "https://localhost:8080/"
        },
        "id": "H5GCMEhOCtWR",
        "outputId": "c755124c-853c-4770-b456-630c26a983a6"
      },
      "source": [
        "x_test.shape,y_test.shape"
      ],
      "execution_count": null,
      "outputs": [
        {
          "output_type": "execute_result",
          "data": {
            "text/plain": [
              "((1500, 64, 64, 33), (1500,))"
            ]
          },
          "metadata": {
            "tags": []
          },
          "execution_count": 10
        }
      ]
    },
    {
      "cell_type": "code",
      "metadata": {
        "id": "0EPVVPJDC4DZ"
      },
      "source": [
        "x_test = (x_test - mi) / (m - mi)"
      ],
      "execution_count": null,
      "outputs": []
    },
    {
      "cell_type": "code",
      "metadata": {
        "id": "jD-Sr2TIC-4g"
      },
      "source": [
        "x_val = np.load(\"/content/drive/MyDrive/thesis2/x_validation.npy\")\n",
        "y_val = np.load(\"/content/drive/MyDrive/thesis2/y_validation.npy\")"
      ],
      "execution_count": null,
      "outputs": []
    },
    {
      "cell_type": "code",
      "metadata": {
        "colab": {
          "base_uri": "https://localhost:8080/"
        },
        "id": "lBIk8xHHDI30",
        "outputId": "dac56e95-15b9-4e68-f789-8cfb6cbb4e44"
      },
      "source": [
        "x_val.shape,y_val.shape"
      ],
      "execution_count": null,
      "outputs": [
        {
          "output_type": "execute_result",
          "data": {
            "text/plain": [
              "((1500, 64, 64, 33), (1500,))"
            ]
          },
          "metadata": {
            "tags": []
          },
          "execution_count": 15
        }
      ]
    },
    {
      "cell_type": "code",
      "metadata": {
        "id": "IAbisxmFDRgn"
      },
      "source": [
        "x_val = (x_val - mi) / (m - mi)"
      ],
      "execution_count": null,
      "outputs": []
    },
    {
      "cell_type": "code",
      "metadata": {
        "id": "WWBGw7NnDakh"
      },
      "source": [
        "def phinet(n_classes, n_channels=1, learning_rate=1e-3):\n",
        "\n",
        "    inputs = keras.Input((64, 64, 33, 1))\n",
        "\n",
        "    x = Conv3D(8, (3,3,3), strides=(2,2,2), padding='same')(inputs)\n",
        "    x = MaxPooling3D(pool_size=(3,3,3), strides=(1,1,1), padding='same')(x)\n",
        "\n",
        "    x = Conv3D(16, (3,3,3), strides=(2,2,2), padding='same')(x)\n",
        "    x = BatchNormalization()(x)\n",
        "    y = Activation('relu')(x)\n",
        "    x = Conv3D(16, (3,3,3), strides=(1,1,1), padding='same')(y)\n",
        "    x = BatchNormalization()(x)\n",
        "    x = add([x, y])\n",
        "    x = Activation('relu')(x)\n",
        "\n",
        "    # this block will pool a handful of times to get the \"big picture\" \n",
        "    y = MaxPooling3D(pool_size=(5,5,5), strides=(2,2,2), padding='same')(inputs)\n",
        "    y = AveragePooling3D(pool_size=(3,3,3), strides=(2,2,2), padding='same')(y)\n",
        "    y = Conv3D(16, (3,3,3), strides=(1,1,1), padding='same')(y)\n",
        "\n",
        "    # this layer will preserve original signal\n",
        "    z = Conv3D(8, (3,3,3), strides=(2,2,2), padding='same')(inputs)\n",
        "    z = Conv3D(12, (3,3,3), strides=(2,2,2), padding='same')(z)\n",
        "    z = Conv3D(16, (3,3,3), strides=(1,1,1), padding='same')(z)\n",
        "\n",
        "    x = Concatenate(axis=4)([x, y, z])\n",
        "\n",
        "    # global avg pooling before FC\n",
        "    x = GlobalAveragePooling3D()(x)\n",
        "    x = Dense(1)(x)\n",
        "\n",
        "    pred = Activation('sigmoid')(x)\n",
        "\n",
        "\n",
        "    initial_learning_rate = 0.0001\n",
        "    lr_schedule = keras.optimizers.schedules.ExponentialDecay(\n",
        "    initial_learning_rate, decay_steps=100000, decay_rate=0.96, staircase=True\n",
        ")\n",
        "\n",
        "    model = Model(inputs=inputs, outputs=pred)\n",
        "\n",
        "    model.compile(\n",
        "    loss=\"binary_crossentropy\",\n",
        "    optimizer=keras.optimizers.Adam(learning_rate=lr_schedule),\n",
        "    metrics=[\"acc\"],\n",
        ")\n",
        "\n",
        "    print(model.summary())\n",
        "\n",
        "    return model"
      ],
      "execution_count": null,
      "outputs": []
    },
    {
      "cell_type": "code",
      "metadata": {
        "id": "4WI_vT5LDnXu"
      },
      "source": [
        "callbacks_list = []\n",
        "checkpoint = ModelCheckpoint(\"3d_image_classification.h5\",\n",
        "                                 monitor='val_acc',\n",
        "                                 verbose=1,\n",
        "                                 save_best_only=True,\n",
        "                                 mode='max',\n",
        "                                 save_weights_only=False)\n",
        "callbacks_list.append(checkpoint)\n",
        "\n",
        "# Dynamic Learning Rate\n",
        "dlr = ReduceLROnPlateau(monitor=\"val_acc\", factor=0.5, patience=5,\n",
        "                            mode='max', verbose=1, cooldown=5, min_lr=1e-8)\n",
        "callbacks_list.append(dlr)"
      ],
      "execution_count": null,
      "outputs": []
    },
    {
      "cell_type": "code",
      "metadata": {
        "colab": {
          "base_uri": "https://localhost:8080/"
        },
        "id": "_lOzKddZ1eLV",
        "outputId": "0c362e8e-789b-4013-cc36-de3bd6abda20"
      },
      "source": [
        "model = phinet(n_classes=2, learning_rate=1e-3)"
      ],
      "execution_count": null,
      "outputs": [
        {
          "output_type": "stream",
          "text": [
            "Model: \"model\"\n",
            "__________________________________________________________________________________________________\n",
            "Layer (type)                    Output Shape         Param #     Connected to                     \n",
            "==================================================================================================\n",
            "input_1 (InputLayer)            [(None, 64, 64, 33,  0                                            \n",
            "__________________________________________________________________________________________________\n",
            "conv3d (Conv3D)                 (None, 32, 32, 17, 8 224         input_1[0][0]                    \n",
            "__________________________________________________________________________________________________\n",
            "max_pooling3d (MaxPooling3D)    (None, 32, 32, 17, 8 0           conv3d[0][0]                     \n",
            "__________________________________________________________________________________________________\n",
            "conv3d_1 (Conv3D)               (None, 16, 16, 9, 16 3472        max_pooling3d[0][0]              \n",
            "__________________________________________________________________________________________________\n",
            "batch_normalization (BatchNorma (None, 16, 16, 9, 16 64          conv3d_1[0][0]                   \n",
            "__________________________________________________________________________________________________\n",
            "activation (Activation)         (None, 16, 16, 9, 16 0           batch_normalization[0][0]        \n",
            "__________________________________________________________________________________________________\n",
            "conv3d_2 (Conv3D)               (None, 16, 16, 9, 16 6928        activation[0][0]                 \n",
            "__________________________________________________________________________________________________\n",
            "batch_normalization_1 (BatchNor (None, 16, 16, 9, 16 64          conv3d_2[0][0]                   \n",
            "__________________________________________________________________________________________________\n",
            "max_pooling3d_1 (MaxPooling3D)  (None, 32, 32, 17, 1 0           input_1[0][0]                    \n",
            "__________________________________________________________________________________________________\n",
            "conv3d_4 (Conv3D)               (None, 32, 32, 17, 8 224         input_1[0][0]                    \n",
            "__________________________________________________________________________________________________\n",
            "add (Add)                       (None, 16, 16, 9, 16 0           batch_normalization_1[0][0]      \n",
            "                                                                 activation[0][0]                 \n",
            "__________________________________________________________________________________________________\n",
            "average_pooling3d (AveragePooli (None, 16, 16, 9, 1) 0           max_pooling3d_1[0][0]            \n",
            "__________________________________________________________________________________________________\n",
            "conv3d_5 (Conv3D)               (None, 16, 16, 9, 12 2604        conv3d_4[0][0]                   \n",
            "__________________________________________________________________________________________________\n",
            "activation_1 (Activation)       (None, 16, 16, 9, 16 0           add[0][0]                        \n",
            "__________________________________________________________________________________________________\n",
            "conv3d_3 (Conv3D)               (None, 16, 16, 9, 16 448         average_pooling3d[0][0]          \n",
            "__________________________________________________________________________________________________\n",
            "conv3d_6 (Conv3D)               (None, 16, 16, 9, 16 5200        conv3d_5[0][0]                   \n",
            "__________________________________________________________________________________________________\n",
            "concatenate (Concatenate)       (None, 16, 16, 9, 48 0           activation_1[0][0]               \n",
            "                                                                 conv3d_3[0][0]                   \n",
            "                                                                 conv3d_6[0][0]                   \n",
            "__________________________________________________________________________________________________\n",
            "global_average_pooling3d (Globa (None, 48)           0           concatenate[0][0]                \n",
            "__________________________________________________________________________________________________\n",
            "dense (Dense)                   (None, 1)            49          global_average_pooling3d[0][0]   \n",
            "__________________________________________________________________________________________________\n",
            "activation_2 (Activation)       (None, 1)            0           dense[0][0]                      \n",
            "==================================================================================================\n",
            "Total params: 19,277\n",
            "Trainable params: 19,213\n",
            "Non-trainable params: 64\n",
            "__________________________________________________________________________________________________\n",
            "None\n"
          ],
          "name": "stdout"
        }
      ]
    },
    {
      "cell_type": "code",
      "metadata": {
        "colab": {
          "base_uri": "https://localhost:8080/"
        },
        "id": "24N5rLXq153O",
        "outputId": "977d67da-7eda-4845-cb11-915a1330346e"
      },
      "source": [
        "checkpoint_cb = keras.callbacks.ModelCheckpoint(\n",
        "    \"3d_image_classification.h5\", save_best_only=True\n",
        ")\n",
        "early_stopping_cb = keras.callbacks.EarlyStopping(monitor=\"val_acc\", patience=15)\n",
        "\n",
        "# Train the model, doing validation at the end of each epoch\n",
        "epochs = 100\n",
        "history = model.fit(\n",
        "    x = x_train,y = y_train,\n",
        "    validation_data=(x_val,y_val),\n",
        "    epochs=epochs,\n",
        "    shuffle=True,\n",
        "    verbose=2,\n",
        "    callbacks=[checkpoint_cb, early_stopping_cb],\n",
        ")"
      ],
      "execution_count": null,
      "outputs": [
        {
          "output_type": "stream",
          "text": [
            "Epoch 1/100\n",
            "188/188 - 23s - loss: 0.6631 - acc: 0.5277 - val_loss: 0.6289 - val_acc: 0.7000\n",
            "Epoch 2/100\n",
            "188/188 - 6s - loss: 0.6448 - acc: 0.5447 - val_loss: 0.6428 - val_acc: 0.7000\n",
            "Epoch 3/100\n",
            "188/188 - 6s - loss: 0.6294 - acc: 0.5957 - val_loss: 0.5924 - val_acc: 0.7000\n",
            "Epoch 4/100\n",
            "188/188 - 6s - loss: 0.6011 - acc: 0.6997 - val_loss: 0.5719 - val_acc: 0.7000\n",
            "Epoch 5/100\n",
            "188/188 - 6s - loss: 0.5647 - acc: 0.7823 - val_loss: 0.5464 - val_acc: 0.7000\n",
            "Epoch 6/100\n",
            "188/188 - 6s - loss: 0.5351 - acc: 0.8122 - val_loss: 0.5320 - val_acc: 0.7000\n",
            "Epoch 7/100\n",
            "188/188 - 6s - loss: 0.5092 - acc: 0.8475 - val_loss: 0.7696 - val_acc: 0.3873\n",
            "Epoch 8/100\n",
            "188/188 - 6s - loss: 0.4819 - acc: 0.8698 - val_loss: 0.5498 - val_acc: 0.8953\n",
            "Epoch 9/100\n",
            "188/188 - 6s - loss: 0.4587 - acc: 0.8932 - val_loss: 0.5049 - val_acc: 0.7000\n",
            "Epoch 10/100\n",
            "188/188 - 6s - loss: 0.4347 - acc: 0.9120 - val_loss: 0.5197 - val_acc: 0.7000\n",
            "Epoch 11/100\n",
            "188/188 - 6s - loss: 0.4118 - acc: 0.9343 - val_loss: 0.6117 - val_acc: 0.7000\n",
            "Epoch 12/100\n",
            "188/188 - 6s - loss: 0.3944 - acc: 0.9405 - val_loss: 0.4794 - val_acc: 0.7000\n",
            "Epoch 13/100\n",
            "188/188 - 6s - loss: 0.3675 - acc: 0.9620 - val_loss: 0.5470 - val_acc: 0.7253\n",
            "Epoch 14/100\n",
            "188/188 - 6s - loss: 0.3521 - acc: 0.9677 - val_loss: 0.4790 - val_acc: 0.8000\n",
            "Epoch 15/100\n",
            "188/188 - 6s - loss: 0.3271 - acc: 0.9847 - val_loss: 0.6100 - val_acc: 0.7000\n",
            "Epoch 16/100\n",
            "188/188 - 6s - loss: 0.3176 - acc: 0.9788 - val_loss: 0.5321 - val_acc: 0.7000\n",
            "Epoch 17/100\n",
            "188/188 - 6s - loss: 0.2962 - acc: 0.9888 - val_loss: 0.4747 - val_acc: 0.8173\n",
            "Epoch 18/100\n",
            "188/188 - 6s - loss: 0.2781 - acc: 0.9902 - val_loss: 2.0477 - val_acc: 0.3000\n",
            "Epoch 19/100\n",
            "188/188 - 6s - loss: 0.2696 - acc: 0.9923 - val_loss: 2.0563 - val_acc: 0.3000\n",
            "Epoch 20/100\n",
            "188/188 - 6s - loss: 0.2468 - acc: 0.9970 - val_loss: 0.4852 - val_acc: 0.7000\n",
            "Epoch 21/100\n",
            "188/188 - 6s - loss: 0.2333 - acc: 0.9983 - val_loss: 1.7978 - val_acc: 0.3000\n",
            "Epoch 22/100\n",
            "188/188 - 6s - loss: 0.2201 - acc: 0.9977 - val_loss: 0.4543 - val_acc: 0.7927\n",
            "Epoch 23/100\n",
            "188/188 - 6s - loss: 0.2077 - acc: 0.9972 - val_loss: 0.5621 - val_acc: 0.7000\n"
          ],
          "name": "stdout"
        }
      ]
    },
    {
      "cell_type": "code",
      "metadata": {
        "id": "eOD-p7kyRSHA",
        "colab": {
          "base_uri": "https://localhost:8080/",
          "height": 444
        },
        "outputId": "d7e5fe70-9b40-49d4-ccfd-7ddb2a84710f"
      },
      "source": [
        "fig, ax = plt.subplots(1, 2, figsize=(20, 3))\n",
        "ax = ax.ravel()\n",
        "\n",
        "for i, metric in enumerate([\"acc\", \"loss\"]):\n",
        "    ax[i].plot(model.history.history[metric])\n",
        "    ax[i].plot(model.history.history[\"val_\" + metric])\n",
        "    ax[i].set_title(\"Model {}\".format(metric))\n",
        "    ax[i].set_xlabel(\"epochs\")\n",
        "    ax[i].set_ylabel(metric)\n",
        "    ax[i].legend([\"train\", \"val\"])"
      ],
      "execution_count": null,
      "outputs": [
        {
          "output_type": "error",
          "ename": "NameError",
          "evalue": "ignored",
          "traceback": [
            "\u001b[0;31m---------------------------------------------------------------------------\u001b[0m",
            "\u001b[0;31mNameError\u001b[0m                                 Traceback (most recent call last)",
            "\u001b[0;32m<ipython-input-29-2ed8cc56abd5>\u001b[0m in \u001b[0;36m<module>\u001b[0;34m()\u001b[0m\n\u001b[1;32m      3\u001b[0m \u001b[0;34m\u001b[0m\u001b[0m\n\u001b[1;32m      4\u001b[0m \u001b[0;32mfor\u001b[0m \u001b[0mi\u001b[0m\u001b[0;34m,\u001b[0m \u001b[0mmetric\u001b[0m \u001b[0;32min\u001b[0m \u001b[0menumerate\u001b[0m\u001b[0;34m(\u001b[0m\u001b[0;34m[\u001b[0m\u001b[0;34m\"acc\"\u001b[0m\u001b[0;34m,\u001b[0m \u001b[0;34m\"loss\"\u001b[0m\u001b[0;34m]\u001b[0m\u001b[0;34m)\u001b[0m\u001b[0;34m:\u001b[0m\u001b[0;34m\u001b[0m\u001b[0;34m\u001b[0m\u001b[0m\n\u001b[0;32m----> 5\u001b[0;31m     \u001b[0max\u001b[0m\u001b[0;34m[\u001b[0m\u001b[0mi\u001b[0m\u001b[0;34m]\u001b[0m\u001b[0;34m.\u001b[0m\u001b[0mplot\u001b[0m\u001b[0;34m(\u001b[0m\u001b[0mmodel\u001b[0m\u001b[0;34m.\u001b[0m\u001b[0mhistory\u001b[0m\u001b[0;34m.\u001b[0m\u001b[0mhistory\u001b[0m\u001b[0;34m[\u001b[0m\u001b[0macc\u001b[0m\u001b[0;34m]\u001b[0m\u001b[0;34m)\u001b[0m\u001b[0;34m\u001b[0m\u001b[0;34m\u001b[0m\u001b[0m\n\u001b[0m\u001b[1;32m      6\u001b[0m     \u001b[0max\u001b[0m\u001b[0;34m[\u001b[0m\u001b[0mi\u001b[0m\u001b[0;34m]\u001b[0m\u001b[0;34m.\u001b[0m\u001b[0mplot\u001b[0m\u001b[0;34m(\u001b[0m\u001b[0mmodel\u001b[0m\u001b[0;34m.\u001b[0m\u001b[0mhistory\u001b[0m\u001b[0;34m.\u001b[0m\u001b[0mhistory\u001b[0m\u001b[0;34m[\u001b[0m\u001b[0;34m\"val_\"\u001b[0m \u001b[0;34m+\u001b[0m \u001b[0mmetric\u001b[0m\u001b[0;34m]\u001b[0m\u001b[0;34m)\u001b[0m\u001b[0;34m\u001b[0m\u001b[0;34m\u001b[0m\u001b[0m\n\u001b[1;32m      7\u001b[0m     \u001b[0max\u001b[0m\u001b[0;34m[\u001b[0m\u001b[0mi\u001b[0m\u001b[0;34m]\u001b[0m\u001b[0;34m.\u001b[0m\u001b[0mset_title\u001b[0m\u001b[0;34m(\u001b[0m\u001b[0;34m\"Model {}\"\u001b[0m\u001b[0;34m.\u001b[0m\u001b[0mformat\u001b[0m\u001b[0;34m(\u001b[0m\u001b[0mmetric\u001b[0m\u001b[0;34m)\u001b[0m\u001b[0;34m)\u001b[0m\u001b[0;34m\u001b[0m\u001b[0;34m\u001b[0m\u001b[0m\n",
            "\u001b[0;31mNameError\u001b[0m: name 'acc' is not defined"
          ]
        },
        {
          "output_type": "display_data",
          "data": {
            "image/png": "[encoded data removed]",
            "text/plain": [
              "<Figure size 1440x216 with 2 Axes>"
            ]
          },
          "metadata": {
            "tags": [],
            "needs_background": "light"
          }
        }
      ]
    },
    {
      "cell_type": "code",
      "metadata": {
        "colab": {
          "base_uri": "https://localhost:8080/"
        },
        "id": "p1M9WDE-pqeN",
        "outputId": "06ab16ea-46ba-4d25-ff5e-6d0300d5f408"
      },
      "source": [
        "y_train[:10]"
      ],
      "execution_count": null,
      "outputs": [
        {
          "output_type": "execute_result",
          "data": {
            "text/plain": [
              "array([1, 0, 1, 0, 0, 0, 1, 1, 0, 0])"
            ]
          },
          "metadata": {
            "tags": []
          },
          "execution_count": 20
        }
      ]
    },
    {
      "cell_type": "code",
      "metadata": {
        "id": "M-qR_QbWqIrX"
      },
      "source": [
        "x_test2, y_test2= shuffle(x_test,y_test,random_state = 4)"
      ],
      "execution_count": null,
      "outputs": []
    },
    {
      "cell_type": "code",
      "metadata": {
        "colab": {
          "base_uri": "https://localhost:8080/"
        },
        "id": "8XrAXTtSqQdx",
        "outputId": "9c5fc1eb-9591-47dc-afea-00595c4ae155"
      },
      "source": [
        "model.evaluate(x = x_test2,y = y_test2)"
      ],
      "execution_count": null,
      "outputs": [
        {
          "output_type": "stream",
          "text": [
            "47/47 [==============================] - 1s 14ms/step - loss: 0.6222 - acc: 0.6933\n"
          ],
          "name": "stdout"
        },
        {
          "output_type": "execute_result",
          "data": {
            "text/plain": [
              "[0.6221790909767151, 0.6933333277702332]"
            ]
          },
          "metadata": {
            "tags": []
          },
          "execution_count": 23
        }
      ]
    },
    {
      "cell_type": "code",
      "metadata": {
        "id": "nb0odvKNJdox"
      },
      "source": [
        "model = load_model('3d_image_classification.h5')"
      ],
      "execution_count": null,
      "outputs": []
    },
    {
      "cell_type": "code",
      "metadata": {
        "colab": {
          "base_uri": "https://localhost:8080/"
        },
        "id": "6I489egDHq1d",
        "outputId": "60eb10fe-c459-43b5-f012-5e4d7c0d6d1e"
      },
      "source": [
        "y_test2[:10]"
      ],
      "execution_count": null,
      "outputs": [
        {
          "output_type": "execute_result",
          "data": {
            "text/plain": [
              "array([1, 0, 1, 1, 1, 0, 1, 1, 1, 1])"
            ]
          },
          "metadata": {
            "tags": []
          },
          "execution_count": 25
        }
      ]
    },
    {
      "cell_type": "code",
      "metadata": {
        "colab": {
          "base_uri": "https://localhost:8080/"
        },
        "id": "qL09qGpjH1ZM",
        "outputId": "61ddc628-526f-4ed0-ff65-45c9a78222d3"
      },
      "source": [
        "y_val[:10]"
      ],
      "execution_count": null,
      "outputs": [
        {
          "output_type": "execute_result",
          "data": {
            "text/plain": [
              "array([1, 0, 1, 0, 1, 1, 1, 0, 0, 1])"
            ]
          },
          "metadata": {
            "tags": []
          },
          "execution_count": 26
        }
      ]
    },
    {
      "cell_type": "code",
      "metadata": {
        "colab": {
          "base_uri": "https://localhost:8080/"
        },
        "id": "4T8Vnn3aH3cx",
        "outputId": "6de1940c-a8ff-463b-fd7c-1b273c94399a"
      },
      "source": [
        "y_train[:10]"
      ],
      "execution_count": null,
      "outputs": [
        {
          "output_type": "execute_result",
          "data": {
            "text/plain": [
              "array([1, 0, 1, 0, 0, 0, 1, 1, 0, 0])"
            ]
          },
          "metadata": {
            "tags": []
          },
          "execution_count": 27
        }
      ]
    },
    {
      "cell_type": "code",
      "metadata": {
        "id": "SpWdJeLiq2hc",
        "colab": {
          "base_uri": "https://localhost:8080/"
        },
        "outputId": "00bf026d-219b-4cc7-c7c0-8ebf77d87d15"
      },
      "source": [
        "cd /"
      ],
      "execution_count": null,
      "outputs": [
        {
          "output_type": "stream",
          "text": [
            "/\n"
          ],
          "name": "stdout"
        }
      ]
    },
    {
      "cell_type": "code",
      "metadata": {
        "colab": {
          "base_uri": "https://localhost:8080/"
        },
        "id": "vdyMOkOHIAvn",
        "outputId": "7f03915d-cdbe-4780-b691-e0555b996a68"
      },
      "source": [
        "!wget --load-cookies /tmp/cookies.txt \"https://docs.google.com/uc?export=download&confirm=$(wget --quiet --save-cookies /tmp/cookies.txt --keep-session-cookies --no-check-certificate 'https://docs.google.com/uc?export=download&id=1Orm2tbk5gljhnRrZ56onxRdmIUWvYt-X' -O- | sed -rn 's/.*confirm=([0-9A-Za-z_]+).*/\\1\\n/p')&id=1Orm2tbk5gljhnRrZ56onxRdmIUWvYt-X\" -O finaltest.zip && rm -rf /tmp/cookies.txt\n"
      ],
      "execution_count": null,
      "outputs": [
        {
          "output_type": "stream",
          "text": [
            "--2021-05-18 01:11:22--  https://docs.google.com/uc?export=download&confirm=Pgru&id=1Orm2tbk5gljhnRrZ56onxRdmIUWvYt-X\n",
            "Resolving docs.google.com (docs.google.com)... 172.217.204.113, 172.217.204.100, 172.217.204.102, ...\n",
            "Connecting to docs.google.com (docs.google.com)|172.217.204.113|:443... connected.\n",
            "HTTP request sent, awaiting response... 302 Moved Temporarily\n",
            "Location: https://doc-0o-4g-docs.googleusercontent.com/docs/securesc/a2kqhgl0mhfegbonod65a92o7f8hmd7j/t2dmlfsb5570iai77fb5djdj32onk67v/1621300275000/10681116013986523016/11120665277389702228Z/1Orm2tbk5gljhnRrZ56onxRdmIUWvYt-X?e=download [following]\n",
            "--2021-05-18 01:11:22--  https://doc-0o-4g-docs.googleusercontent.com/docs/securesc/a2kqhgl0mhfegbonod65a92o7f8hmd7j/t2dmlfsb5570iai77fb5djdj32onk67v/1621300275000/10681116013986523016/11120665277389702228Z/1Orm2tbk5gljhnRrZ56onxRdmIUWvYt-X?e=download\n",
            "Resolving doc-0o-4g-docs.googleusercontent.com (doc-0o-4g-docs.googleusercontent.com)... 172.217.204.132, 2607:f8b0:400c:c15::84\n",
            "Connecting to doc-0o-4g-docs.googleusercontent.com (doc-0o-4g-docs.googleusercontent.com)|172.217.204.132|:443... connected.\n",
            "HTTP request sent, awaiting response... 302 Found\n",
            "Location: https://docs.google.com/nonceSigner?nonce=hvuffko7qj3me&continue=https://doc-0o-4g-docs.googleusercontent.com/docs/securesc/a2kqhgl0mhfegbonod65a92o7f8hmd7j/t2dmlfsb5570iai77fb5djdj32onk67v/1621300275000/10681116013986523016/11120665277389702228Z/1Orm2tbk5gljhnRrZ56onxRdmIUWvYt-X?e%3Ddownload&hash=teegn9334394fmjr8egn8h8eo49re85b [following]\n",
            "--2021-05-18 01:11:22--  https://docs.google.com/nonceSigner?nonce=hvuffko7qj3me&continue=https://doc-0o-4g-docs.googleusercontent.com/docs/securesc/a2kqhgl0mhfegbonod65a92o7f8hmd7j/t2dmlfsb5570iai77fb5djdj32onk67v/1621300275000/10681116013986523016/11120665277389702228Z/1Orm2tbk5gljhnRrZ56onxRdmIUWvYt-X?e%3Ddownload&hash=teegn9334394fmjr8egn8h8eo49re85b\n",
            "Connecting to docs.google.com (docs.google.com)|172.217.204.113|:443... connected.\n",
            "HTTP request sent, awaiting response... 302 Found\n",
            "Location: https://doc-0o-4g-docs.googleusercontent.com/docs/securesc/a2kqhgl0mhfegbonod65a92o7f8hmd7j/t2dmlfsb5570iai77fb5djdj32onk67v/1621300275000/10681116013986523016/11120665277389702228Z/1Orm2tbk5gljhnRrZ56onxRdmIUWvYt-X?e=download&nonce=hvuffko7qj3me&user=11120665277389702228Z&hash=5r50aop3il9lr2bighgp7cpcaero6u1n [following]\n",
            "--2021-05-18 01:11:22--  https://doc-0o-4g-docs.googleusercontent.com/docs/securesc/a2kqhgl0mhfegbonod65a92o7f8hmd7j/t2dmlfsb5570iai77fb5djdj32onk67v/1621300275000/10681116013986523016/11120665277389702228Z/1Orm2tbk5gljhnRrZ56onxRdmIUWvYt-X?e=download&nonce=hvuffko7qj3me&user=11120665277389702228Z&hash=5r50aop3il9lr2bighgp7cpcaero6u1n\n",
            "Connecting to doc-0o-4g-docs.googleusercontent.com (doc-0o-4g-docs.googleusercontent.com)|172.217.204.132|:443... connected.\n",
            "HTTP request sent, awaiting response... 200 OK\n",
            "Length: unspecified [application/x-zip-compressed]\n",
            "Saving to: ‘finaltest.zip’\n",
            "\n",
            "finaltest.zip           [                 <=>] 413.90M   110MB/s    in 3.8s    \n",
            "\n",
            "2021-05-18 01:11:26 (110 MB/s) - ‘finaltest.zip’ saved [434007592]\n",
            "\n"
          ],
          "name": "stdout"
        }
      ]
    },
    {
      "cell_type": "code",
      "metadata": {
        "colab": {
          "base_uri": "https://localhost:8080/"
        },
        "id": "tf3XmfBkIS_W",
        "outputId": "6ab50083-9086-418c-e452-184649950e76"
      },
      "source": [
        "# from google.colab import files\n",
        "# files.download('example.txt') \n",
        "!unzip /finaltest.zip -d /\n",
        "print('done')"
      ],
      "execution_count": null,
      "outputs": [
        {
          "output_type": "stream",
          "text": [
            "Archive:  /finaltest.zip\n",
            "   creating: /scz_test/\n",
            "  inflating: /scz_test/18.nii.gz     \n",
            "  inflating: /scz_test/19.nii.gz     \n",
            "  inflating: /scz_test/20.nii.gz     \n",
            "  inflating: /scz_test/21.nii.gz     \n",
            "  inflating: /scz_test/22.nii.gz     \n",
            "  inflating: /scz_test/23.nii.gz     \n",
            "  inflating: /scz_test/24.nii.gz     \n",
            "  inflating: /scz_test/25.nii.gz     \n",
            "  inflating: /scz_test/26.nii.gz     \n",
            "  inflating: /scz_test/27.nii.gz     \n",
            "  inflating: /scz_test/28.nii.gz     \n",
            "  inflating: /scz_test/29.nii.gz     \n",
            "  inflating: /scz_test/30.nii.gz     \n",
            "  inflating: /scz_test/31.nii.gz     \n",
            "   creating: /normal_test/\n",
            "  inflating: /normal_test/18.nii.gz  \n",
            "  inflating: /normal_test/19.nii.gz  \n",
            "  inflating: /normal_test/20.nii.gz  \n",
            "  inflating: /normal_test/21.nii.gz  \n",
            "  inflating: /normal_test/22.nii.gz  \n",
            "  inflating: /normal_test/23.nii.gz  \n",
            "  inflating: /normal_test/24.nii.gz  \n",
            "  inflating: /normal_test/25.nii.gz  \n",
            "  inflating: /normal_test/26.nii.gz  \n",
            "done\n"
          ],
          "name": "stdout"
        }
      ]
    },
    {
      "cell_type": "code",
      "metadata": {
        "id": "9W9HlE2HITav"
      },
      "source": [
        "normaltest = []\n",
        "scztest = []"
      ],
      "execution_count": null,
      "outputs": []
    },
    {
      "cell_type": "code",
      "metadata": {
        "colab": {
          "base_uri": "https://localhost:8080/"
        },
        "id": "GCEN9VaXIVVL",
        "outputId": "2eeb23ce-69fc-4932-b49c-6b97f22db2dd"
      },
      "source": [
        "flag = 0\n",
        "count = 0\n",
        "for file in glob.glob('/normal_test/*'):\n",
        "  count= count+1\n",
        "  print(file)\n",
        "  img4d = nib.load(file)\n",
        "  img3d_list = nib.funcs.four_to_three(img4d)\n",
        "  for i in img3d_list:\n",
        "    data = i.get_fdata()\n",
        "    normaltest.append(data)\n",
        "    \n",
        "  #   if (len(scz)==2500):\n",
        "  #     flag = 1\n",
        "  #     if(flag == 1):\n",
        "  #       break\n",
        "  # if(flag == 1):\n",
        "  #   break\n",
        "print(\"done\")\n",
        "print(count)"
      ],
      "execution_count": null,
      "outputs": [
        {
          "output_type": "stream",
          "text": [
            "/normal_test/19.nii.gz\n",
            "/normal_test/21.nii.gz\n",
            "/normal_test/25.nii.gz\n",
            "/normal_test/23.nii.gz\n",
            "/normal_test/20.nii.gz\n",
            "/normal_test/22.nii.gz\n",
            "/normal_test/24.nii.gz\n",
            "/normal_test/18.nii.gz\n",
            "/normal_test/26.nii.gz\n",
            "done\n",
            "9\n"
          ],
          "name": "stdout"
        }
      ]
    },
    {
      "cell_type": "code",
      "metadata": {
        "colab": {
          "base_uri": "https://localhost:8080/"
        },
        "id": "UkCERmGaIYfo",
        "outputId": "2966bc19-e158-43bc-8a19-34ad4fcdb906"
      },
      "source": [
        "flag = 0\n",
        "count = 0\n",
        "for file in glob.glob('/scz_test/*'):\n",
        "  count= count+1\n",
        "  print(file)\n",
        "  img4d = nib.load(file)\n",
        "  img3d_list = nib.funcs.four_to_three(img4d)\n",
        "  for i in img3d_list:\n",
        "    data = i.get_fdata()\n",
        "    scztest.append(data)\n",
        "    \n",
        "  #   if (len(scz)==2500):\n",
        "  #     flag = 1\n",
        "  #     if(flag == 1):\n",
        "  #       break\n",
        "  # if(flag == 1):\n",
        "  #   break\n",
        "print(\"done\")\n",
        "print(count)"
      ],
      "execution_count": null,
      "outputs": [
        {
          "output_type": "stream",
          "text": [
            "/scz_test/29.nii.gz\n",
            "/scz_test/19.nii.gz\n",
            "/scz_test/21.nii.gz\n",
            "/scz_test/25.nii.gz\n",
            "/scz_test/28.nii.gz\n",
            "/scz_test/23.nii.gz\n",
            "/scz_test/30.nii.gz\n",
            "/scz_test/31.nii.gz\n",
            "/scz_test/20.nii.gz\n",
            "/scz_test/22.nii.gz\n",
            "/scz_test/24.nii.gz\n",
            "/scz_test/18.nii.gz\n",
            "/scz_test/27.nii.gz\n",
            "/scz_test/26.nii.gz\n",
            "done\n",
            "14\n"
          ],
          "name": "stdout"
        }
      ]
    },
    {
      "cell_type": "code",
      "metadata": {
        "id": "FKU81qD8Iai8"
      },
      "source": [
        "normaltest_labels = np.array([0 for _ in range(len(normaltest))])\n",
        "scztest_labels = np.array([1 for _ in range(len(scztest))])\n",
        "\n",
        "\n",
        "y = np.concatenate((normaltest_labels[:], scztest_labels[:]), axis=0)"
      ],
      "execution_count": null,
      "outputs": []
    },
    {
      "cell_type": "code",
      "metadata": {
        "id": "q9BsZbm1IctL"
      },
      "source": [
        "normaltest_array = np.asarray(normaltest)\n",
        "normaltest_array = (normaltest_array - mi) / (m - mi)\n",
        "scztest_array = np.asarray(scztest)\n",
        "scztest_array = (scztest_array - mi) / (m - mi)\n",
        "\n",
        "\n",
        "x_test = np.concatenate((normaltest_array[:], scztest_array[:]), axis=0)"
      ],
      "execution_count": null,
      "outputs": []
    },
    {
      "cell_type": "code",
      "metadata": {
        "colab": {
          "base_uri": "https://localhost:8080/"
        },
        "id": "TExXUTsYL7hQ",
        "outputId": "dfea9486-baa3-4d0e-c15f-4b48abfa7d78"
      },
      "source": [
        "y.shape"
      ],
      "execution_count": null,
      "outputs": [
        {
          "output_type": "execute_result",
          "data": {
            "text/plain": [
              "(3450,)"
            ]
          },
          "metadata": {
            "tags": []
          },
          "execution_count": 37
        }
      ]
    },
    {
      "cell_type": "code",
      "metadata": {
        "colab": {
          "base_uri": "https://localhost:8080/"
        },
        "id": "ooeUXwctIrS3",
        "outputId": "0d1d8af1-fdb0-40d7-ad72-33e9383efab6"
      },
      "source": [
        "score = model.evaluate(x = x_test,y = y)"
      ],
      "execution_count": null,
      "outputs": [
        {
          "output_type": "stream",
          "text": [
            "108/108 [==============================] - 2s 15ms/step - loss: 0.7168 - acc: 0.8014\n"
          ],
          "name": "stdout"
        }
      ]
    },
    {
      "cell_type": "code",
      "metadata": {
        "id": "5j_pNYjTNDSd"
      },
      "source": [
        "model.save('model1.h5')"
      ],
      "execution_count": null,
      "outputs": []
    },
    {
      "cell_type": "code",
      "metadata": {
        "id": "sLB0Q0-JNoHC"
      },
      "source": [
        "model = load_model('model1.h5')"
      ],
      "execution_count": null,
      "outputs": []
    },
    {
      "cell_type": "code",
      "metadata": {
        "colab": {
          "base_uri": "https://localhost:8080/"
        },
        "id": "OJU7vzuaPrHO",
        "outputId": "129d23d2-1e46-44ad-c81b-0e334c549966"
      },
      "source": [
        "print(\"%s: %.2f%%\" % (model.metrics_names[1], score[1]*100))"
      ],
      "execution_count": null,
      "outputs": [
        {
          "output_type": "stream",
          "text": [
            "acc: 100.00%\n"
          ],
          "name": "stdout"
        }
      ]
    },
    {
      "cell_type": "code",
      "metadata": {
        "id": "edVwoosWRlM6"
      },
      "source": [
        "def plot_loss_accu(history):\n",
        "    loss = history.history['loss']\n",
        "    val_loss = history.history['val_loss']\n",
        "    epochs = range(len(loss))\n",
        "    plt.plot(epochs, loss, 'g')\n",
        "    plt.plot(epochs, val_loss, 'y')\n",
        "    plt.title('Training loss')\n",
        "    plt.legend(['train', 'val'], loc='upper right')\n",
        "    plt.grid()\n",
        "    plt.show()\n",
        "    loss = history.history['acc']\n",
        "    val_loss = history.history['val_acc']\n",
        "    epochs = range(len(loss))\n",
        "    plt.plot(epochs, loss, 'r')\n",
        "    plt.plot(epochs, val_loss, 'b')\n",
        "    plt.title('Training accuracy')\n",
        "    plt.legend(['train', 'val'], loc='lower right')\n",
        "    plt.grid()\n",
        "    plt.show()"
      ],
      "execution_count": null,
      "outputs": []
    },
    {
      "cell_type": "code",
      "metadata": {
        "colab": {
          "base_uri": "https://localhost:8080/",
          "height": 545
        },
        "id": "eciWbo3YSGt3",
        "outputId": "28c413b9-0947-44c5-b655-227585bac1f3"
      },
      "source": [
        "plot_loss_accu(history) "
      ],
      "execution_count": null,
      "outputs": [
        {
          "output_type": "display_data",
          "data": {
            "image/png": "[encoded data removed]",
            "text/plain": [
              "<Figure size 432x288 with 1 Axes>"
            ]
          },
          "metadata": {
            "tags": [],
            "needs_background": "light"
          }
        },
        {
          "output_type": "display_data",
          "data": {
            "image/png": "[encoded data removed]",
            "text/plain": [
              "<Figure size 432x288 with 1 Axes>"
            ]
          },
          "metadata": {
            "tags": [],
            "needs_background": "light"
          }
        }
      ]
    }
  ]
}