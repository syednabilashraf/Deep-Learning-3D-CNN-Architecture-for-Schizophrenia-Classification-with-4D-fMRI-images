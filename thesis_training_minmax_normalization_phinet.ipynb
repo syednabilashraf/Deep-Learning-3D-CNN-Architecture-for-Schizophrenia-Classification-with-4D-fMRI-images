{
  "nbformat": 4,
  "nbformat_minor": 0,
  "metadata": {
    "colab": {
      "name": "thesis-training-minmax normalization-phinet.ipynb",
      "provenance": [],
      "machine_shape": "hm"
    },
    "kernelspec": {
      "name": "python3",
      "display_name": "Python 3"
    },
    "language_info": {
      "name": "python"
    },
    "accelerator": "GPU"
  },
  "cells": [
    {
      "cell_type": "code",
      "metadata": {
        "id": "zecpHZBqA5ju"
      },
      "source": [
        "from google.colab import files\n",
        "import matplotlib.pyplot as plt\n",
        "import numpy as np\n",
        "import scipy.io as sio\n",
        "import os\n",
        "import tensorflow as tf\n",
        "import zipfile\n",
        "from tensorflow import keras\n",
        "from tensorflow.keras import layers\n",
        "import nibabel as nib\n",
        "import glob\n",
        "from sklearn.utils import shuffle\n",
        "import sys\n"
      ],
      "execution_count": null,
      "outputs": []
    },
    {
      "cell_type": "code",
      "metadata": {
        "id": "wCQDwxx-BQXv"
      },
      "source": [
        "from keras.utils import np_utils\n",
        "from keras.layers import Conv3D, MaxPool3D, Flatten, Dense\n",
        "from keras.layers import Dropout, Input, BatchNormalization\n",
        "from sklearn.metrics import confusion_matrix, accuracy_score\n",
        "from keras.losses import binary_crossentropy\n",
        "from keras.optimizers import Adadelta, SGD\n",
        "from matplotlib.pyplot import cm\n",
        "import matplotlib.pyplot as plt\n",
        "from keras.models import Model\n",
        "import cv2\n",
        "import os\n",
        "import numpy as np\n",
        "import keras\n",
        "import h5py\n",
        "import numpy as np\n",
        "from keras import regularizers\n",
        "import os\n",
        "import glob\n",
        "import cv2\n",
        "import random\n",
        "import matplotlib.pyplot as plt\n",
        "from sklearn.utils import shuffle\n",
        "from sklearn.model_selection import train_test_split\n",
        "from sklearn.model_selection import StratifiedKFold\n",
        "from sklearn.metrics import roc_curve, roc_auc_score\n",
        "\n",
        "from keras.models import Sequential\n",
        "from keras.optimizers import RMSprop\n",
        "from keras.layers import Conv2D, MaxPooling2D\n",
        "from keras.layers import Activation, Dropout, Flatten, Dense\n",
        "from sklearn.utils import shuffle\n",
        "from sklearn.model_selection import train_test_split\n",
        "from keras import optimizers\n",
        "from keras.utils import to_categorical, plot_model\n",
        "from keras.layers import Dense, Input, Conv2D, Flatten, MaxPooling2D, Activation\n",
        "from keras.models import Model, Sequential\n",
        "from keras.layers import Activation, Dropout, Flatten, Dense\n",
        "from keras.callbacks import ModelCheckpoint\n",
        "from keras.optimizers import Adam\n",
        "from keras.applications.vgg16 import VGG16\n",
        "from keras.models import load_model\n",
        "from keras.utils import np_utils\n",
        "from keras import backend as K\n",
        "from keras.models import load_model\n",
        "import keras"
      ],
      "execution_count": null,
      "outputs": []
    },
    {
      "cell_type": "code",
      "metadata": {
        "id": "V1PY27wbyv70"
      },
      "source": [
        "from keras.engine import Input, Model\n",
        "from keras.layers import Conv3D, MaxPooling3D, GlobalAveragePooling3D,\\\n",
        "                         GlobalMaxPooling3D, AveragePooling3D, Dense, Flatten,\\\n",
        "                         Conv1D\n",
        "from keras.layers.normalization import BatchNormalization\n",
        "from keras.layers.core import Reshape, Activation\n",
        "from keras.layers.merge import Concatenate, add\n",
        "from keras.layers.advanced_activations import LeakyReLU\n",
        "from keras.optimizers import Adam\n",
        "import keras.backend as K\n",
        "from keras.callbacks import ModelCheckpoint, TensorBoard, ReduceLROnPlateau, EarlyStopping\n"
      ],
      "execution_count": null,
      "outputs": []
    },
    {
      "cell_type": "code",
      "metadata": {
        "id": "UCUpcL9EBUSV"
      },
      "source": [
        "x_train = np.load(\"/content/drive/MyDrive/thesis2/x_train_minmax_normalized.npy\")\n",
        "y_train = np.load(\"/content/drive/MyDrive/thesis2/y_training.npy\")"
      ],
      "execution_count": null,
      "outputs": []
    },
    {
      "cell_type": "code",
      "metadata": {
        "colab": {
          "base_uri": "https://localhost:8080/"
        },
        "id": "4dHWbQtjCwV5",
        "outputId": "40c19a6b-3184-4fa8-da56-ddce8eb417f4"
      },
      "source": [
        "x_train.shape,y_train.shape"
      ],
      "execution_count": null,
      "outputs": [
        {
          "output_type": "execute_result",
          "data": {
            "text/plain": [
              "((6000, 64, 64, 33), (6000,))"
            ]
          },
          "metadata": {
            "tags": []
          },
          "execution_count": 5
        }
      ]
    },
    {
      "cell_type": "code",
      "metadata": {
        "colab": {
          "base_uri": "https://localhost:8080/"
        },
        "id": "cNVglHlbCPXy",
        "outputId": "f11c8dd8-8a41-4f32-8e8e-558b1f94ff13"
      },
      "source": [
        "# x_mean = np.mean(x_train)\n",
        "# x_std = np.std(x_train)\n",
        "# x_mean,x_std\n",
        "# # (1553.0166624964165, 3575.5203140146095)"
      ],
      "execution_count": null,
      "outputs": [
        {
          "output_type": "execute_result",
          "data": {
            "text/plain": [
              "(0.22945192119659386, 0.10349581814834698)"
            ]
          },
          "metadata": {
            "tags": []
          },
          "execution_count": 5
        }
      ]
    },
    {
      "cell_type": "code",
      "metadata": {
        "id": "YfUjSwAiKxge",
        "colab": {
          "base_uri": "https://localhost:8080/"
        },
        "outputId": "94a0cc01-274f-4b52-ce47-16e01e7f50fe"
      },
      "source": [
        "np.max(x_train),np.min(x_train)"
      ],
      "execution_count": null,
      "outputs": [
        {
          "output_type": "execute_result",
          "data": {
            "text/plain": [
              "(1.0, 0.0)"
            ]
          },
          "metadata": {
            "tags": []
          },
          "execution_count": 6
        }
      ]
    },
    {
      "cell_type": "code",
      "metadata": {
        "id": "1MH36NTPtUad"
      },
      "source": [
        "m , mi = 28822.50390625, -6477.419921875"
      ],
      "execution_count": null,
      "outputs": []
    },
    {
      "cell_type": "code",
      "metadata": {
        "id": "v4zqMF9JCXPv"
      },
      "source": [
        "# x_train = (x_train- x_mean)/x_std"
      ],
      "execution_count": null,
      "outputs": []
    },
    {
      "cell_type": "code",
      "metadata": {
        "id": "0NqBkdf0Cgho"
      },
      "source": [
        "x_test = np.load(\"/content/drive/MyDrive/thesis2/x_test.npy\")\n",
        "y_test = np.load(\"/content/drive/MyDrive/thesis2/y_test.npy\")"
      ],
      "execution_count": null,
      "outputs": []
    },
    {
      "cell_type": "code",
      "metadata": {
        "colab": {
          "base_uri": "https://localhost:8080/"
        },
        "id": "H5GCMEhOCtWR",
        "outputId": "e57bf6ca-63f3-4126-d79f-2d60192af75c"
      },
      "source": [
        "x_test.shape,y_test.shape"
      ],
      "execution_count": null,
      "outputs": [
        {
          "output_type": "execute_result",
          "data": {
            "text/plain": [
              "((1500, 64, 64, 33), (1500,))"
            ]
          },
          "metadata": {
            "tags": []
          },
          "execution_count": 9
        }
      ]
    },
    {
      "cell_type": "code",
      "metadata": {
        "id": "0EPVVPJDC4DZ"
      },
      "source": [
        "x_test = (x_test - mi) / (m - mi)"
      ],
      "execution_count": null,
      "outputs": []
    },
    {
      "cell_type": "code",
      "metadata": {
        "id": "jD-Sr2TIC-4g"
      },
      "source": [
        "x_val = np.load(\"/content/drive/MyDrive/thesis2/x_validation.npy\")\n",
        "y_val = np.load(\"/content/drive/MyDrive/thesis2/y_validation.npy\")"
      ],
      "execution_count": null,
      "outputs": []
    },
    {
      "cell_type": "code",
      "metadata": {
        "colab": {
          "base_uri": "https://localhost:8080/"
        },
        "id": "lBIk8xHHDI30",
        "outputId": "18fe85b2-053b-4dd3-fb36-04adbaa8ed83"
      },
      "source": [
        "x_val.shape,y_val.shape"
      ],
      "execution_count": null,
      "outputs": [
        {
          "output_type": "execute_result",
          "data": {
            "text/plain": [
              "((1500, 64, 64, 33), (1500,))"
            ]
          },
          "metadata": {
            "tags": []
          },
          "execution_count": 12
        }
      ]
    },
    {
      "cell_type": "code",
      "metadata": {
        "id": "IAbisxmFDRgn"
      },
      "source": [
        "x_val = (x_val - mi) / (m - mi)"
      ],
      "execution_count": null,
      "outputs": []
    },
    {
      "cell_type": "code",
      "metadata": {
        "id": "WWBGw7NnDakh"
      },
      "source": [
        "def phinet(n_classes, n_channels=1, learning_rate=1e-3):\n",
        "\n",
        "    inputs = keras.Input((64, 64, 33, 1))\n",
        "\n",
        "    x = Conv3D(8, (3,3,3), strides=(2,2,2), padding='same')(inputs)\n",
        "    x = MaxPooling3D(pool_size=(3,3,3), strides=(1,1,1), padding='same')(x)\n",
        "\n",
        "    x = Conv3D(16, (3,3,3), strides=(2,2,2), padding='same')(x)\n",
        "    x = BatchNormalization()(x)\n",
        "    y = Activation('relu')(x)\n",
        "    x = Conv3D(16, (3,3,3), strides=(1,1,1), padding='same')(y)\n",
        "    x = BatchNormalization()(x)\n",
        "    x = add([x, y])\n",
        "    x = Activation('relu')(x)\n",
        "\n",
        "    # this block will pool a handful of times to get the \"big picture\" \n",
        "    y = MaxPooling3D(pool_size=(5,5,5), strides=(2,2,2), padding='same')(inputs)\n",
        "    y = AveragePooling3D(pool_size=(3,3,3), strides=(2,2,2), padding='same')(y)\n",
        "    y = Conv3D(16, (3,3,3), strides=(1,1,1), padding='same')(y)\n",
        "\n",
        "    # this layer will preserve original signal\n",
        "    z = Conv3D(8, (3,3,3), strides=(2,2,2), padding='same')(inputs)\n",
        "    z = Conv3D(12, (3,3,3), strides=(2,2,2), padding='same')(z)\n",
        "    z = Conv3D(16, (3,3,3), strides=(1,1,1), padding='same')(z)\n",
        "\n",
        "    x = Concatenate(axis=4)([x, y, z])\n",
        "\n",
        "    # global avg pooling before FC\n",
        "    x = GlobalAveragePooling3D()(x)\n",
        "    x = Dense(1)(x)\n",
        "\n",
        "    pred = Activation('softmax')(x)\n",
        "    \n",
        "    model = Model(inputs=inputs, outputs=pred)\n",
        "\n",
        "    model.compile(optimizer=Adam(lr=learning_rate),\n",
        "                  loss='categorical_crossentropy',\n",
        "                  metrics=['acc'])\n",
        "\n",
        "    print(model.summary())\n",
        "\n",
        "    return model"
      ],
      "execution_count": null,
      "outputs": []
    },
    {
      "cell_type": "code",
      "metadata": {
        "id": "4WI_vT5LDnXu"
      },
      "source": [
        "callbacks_list = []\n",
        "checkpoint = ModelCheckpoint(\"3d_image_classification.h5\",\n",
        "                                 monitor='val_acc',\n",
        "                                 verbose=1,\n",
        "                                 save_best_only=True,\n",
        "                                 mode='max',\n",
        "                                 save_weights_only=True)\n",
        "callbacks_list.append(checkpoint)\n",
        "\n",
        "# Dynamic Learning Rate\n",
        "dlr = ReduceLROnPlateau(monitor=\"val_acc\", factor=0.5, patience=5,\n",
        "                            mode='max', verbose=1, cooldown=5, min_lr=1e-8)\n",
        "callbacks_list.append(dlr)"
      ],
      "execution_count": null,
      "outputs": []
    },
    {
      "cell_type": "code",
      "metadata": {
        "colab": {
          "base_uri": "https://localhost:8080/"
        },
        "id": "_lOzKddZ1eLV",
        "outputId": "0efa5787-ea3f-4be8-c0ce-4097c4b7f888"
      },
      "source": [
        "model = phinet(n_classes=2, learning_rate=1e-3)"
      ],
      "execution_count": null,
      "outputs": [
        {
          "output_type": "stream",
          "text": [
            "Model: \"model_1\"\n",
            "__________________________________________________________________________________________________\n",
            "Layer (type)                    Output Shape         Param #     Connected to                     \n",
            "==================================================================================================\n",
            "input_2 (InputLayer)            [(None, 64, 64, 33,  0                                            \n",
            "__________________________________________________________________________________________________\n",
            "conv3d_7 (Conv3D)               (None, 32, 32, 17, 8 224         input_2[0][0]                    \n",
            "__________________________________________________________________________________________________\n",
            "max_pooling3d_2 (MaxPooling3D)  (None, 32, 32, 17, 8 0           conv3d_7[0][0]                   \n",
            "__________________________________________________________________________________________________\n",
            "conv3d_8 (Conv3D)               (None, 16, 16, 9, 16 3472        max_pooling3d_2[0][0]            \n",
            "__________________________________________________________________________________________________\n",
            "batch_normalization_2 (BatchNor (None, 16, 16, 9, 16 64          conv3d_8[0][0]                   \n",
            "__________________________________________________________________________________________________\n",
            "activation_3 (Activation)       (None, 16, 16, 9, 16 0           batch_normalization_2[0][0]      \n",
            "__________________________________________________________________________________________________\n",
            "conv3d_9 (Conv3D)               (None, 16, 16, 9, 16 6928        activation_3[0][0]               \n",
            "__________________________________________________________________________________________________\n",
            "batch_normalization_3 (BatchNor (None, 16, 16, 9, 16 64          conv3d_9[0][0]                   \n",
            "__________________________________________________________________________________________________\n",
            "max_pooling3d_3 (MaxPooling3D)  (None, 32, 32, 17, 1 0           input_2[0][0]                    \n",
            "__________________________________________________________________________________________________\n",
            "conv3d_11 (Conv3D)              (None, 32, 32, 17, 8 224         input_2[0][0]                    \n",
            "__________________________________________________________________________________________________\n",
            "add_1 (Add)                     (None, 16, 16, 9, 16 0           batch_normalization_3[0][0]      \n",
            "                                                                 activation_3[0][0]               \n",
            "__________________________________________________________________________________________________\n",
            "average_pooling3d_1 (AveragePoo (None, 16, 16, 9, 1) 0           max_pooling3d_3[0][0]            \n",
            "__________________________________________________________________________________________________\n",
            "conv3d_12 (Conv3D)              (None, 16, 16, 9, 12 2604        conv3d_11[0][0]                  \n",
            "__________________________________________________________________________________________________\n",
            "activation_4 (Activation)       (None, 16, 16, 9, 16 0           add_1[0][0]                      \n",
            "__________________________________________________________________________________________________\n",
            "conv3d_10 (Conv3D)              (None, 16, 16, 9, 16 448         average_pooling3d_1[0][0]        \n",
            "__________________________________________________________________________________________________\n",
            "conv3d_13 (Conv3D)              (None, 16, 16, 9, 16 5200        conv3d_12[0][0]                  \n",
            "__________________________________________________________________________________________________\n",
            "concatenate_1 (Concatenate)     (None, 16, 16, 9, 48 0           activation_4[0][0]               \n",
            "                                                                 conv3d_10[0][0]                  \n",
            "                                                                 conv3d_13[0][0]                  \n",
            "__________________________________________________________________________________________________\n",
            "global_average_pooling3d_1 (Glo (None, 48)           0           concatenate_1[0][0]              \n",
            "__________________________________________________________________________________________________\n",
            "dense_1 (Dense)                 (None, 1)            49          global_average_pooling3d_1[0][0] \n",
            "__________________________________________________________________________________________________\n",
            "activation_5 (Activation)       (None, 1)            0           dense_1[0][0]                    \n",
            "==================================================================================================\n",
            "Total params: 19,277\n",
            "Trainable params: 19,213\n",
            "Non-trainable params: 64\n",
            "__________________________________________________________________________________________________\n",
            "None\n"
          ],
          "name": "stdout"
        }
      ]
    },
    {
      "cell_type": "code",
      "metadata": {
        "colab": {
          "base_uri": "https://localhost:8080/"
        },
        "id": "24N5rLXq153O",
        "outputId": "22a66b54-f1a2-4501-a04d-07283744c6a6"
      },
      "source": [
        "history = model.fit(x_train, y_train, epochs=100, validation_data= (x_val,y_val),\n",
        "              batch_size=32, verbose=2, callbacks=callbacks_list)"
      ],
      "execution_count": null,
      "outputs": [
        {
          "output_type": "stream",
          "text": [
            "Epoch 1/100\n",
            "188/188 - 8s - loss: 0.0000e+00 - acc: 0.5000 - val_loss: 0.0000e+00 - val_acc: 0.7000\n",
            "\n",
            "Epoch 00001: val_acc improved from -inf to 0.70000, saving model to 3d_image_classification.h5\n",
            "Epoch 2/100\n",
            "188/188 - 6s - loss: 0.0000e+00 - acc: 0.5000 - val_loss: 0.0000e+00 - val_acc: 0.7000\n",
            "\n",
            "Epoch 00002: val_acc did not improve from 0.70000\n",
            "Epoch 3/100\n",
            "188/188 - 6s - loss: 0.0000e+00 - acc: 0.5000 - val_loss: 0.0000e+00 - val_acc: 0.7000\n",
            "\n",
            "Epoch 00003: val_acc did not improve from 0.70000\n",
            "Epoch 4/100\n",
            "188/188 - 6s - loss: 0.0000e+00 - acc: 0.5000 - val_loss: 0.0000e+00 - val_acc: 0.7000\n",
            "\n",
            "Epoch 00004: val_acc did not improve from 0.70000\n",
            "Epoch 5/100\n",
            "188/188 - 6s - loss: 0.0000e+00 - acc: 0.5000 - val_loss: 0.0000e+00 - val_acc: 0.7000\n",
            "\n",
            "Epoch 00005: val_acc did not improve from 0.70000\n",
            "Epoch 6/100\n",
            "188/188 - 6s - loss: 0.0000e+00 - acc: 0.5000 - val_loss: 0.0000e+00 - val_acc: 0.7000\n",
            "\n",
            "Epoch 00006: val_acc did not improve from 0.70000\n",
            "\n",
            "Epoch 00006: ReduceLROnPlateau reducing learning rate to 0.0005000000237487257.\n",
            "Epoch 7/100\n",
            "188/188 - 6s - loss: 0.0000e+00 - acc: 0.5000 - val_loss: 0.0000e+00 - val_acc: 0.7000\n",
            "\n",
            "Epoch 00007: val_acc did not improve from 0.70000\n",
            "Epoch 8/100\n",
            "188/188 - 6s - loss: 0.0000e+00 - acc: 0.5000 - val_loss: 0.0000e+00 - val_acc: 0.7000\n",
            "\n",
            "Epoch 00008: val_acc did not improve from 0.70000\n",
            "Epoch 9/100\n",
            "188/188 - 6s - loss: 0.0000e+00 - acc: 0.5000 - val_loss: 0.0000e+00 - val_acc: 0.7000\n",
            "\n",
            "Epoch 00009: val_acc did not improve from 0.70000\n",
            "Epoch 10/100\n",
            "188/188 - 6s - loss: 0.0000e+00 - acc: 0.5000 - val_loss: 0.0000e+00 - val_acc: 0.7000\n",
            "\n",
            "Epoch 00010: val_acc did not improve from 0.70000\n",
            "Epoch 11/100\n",
            "188/188 - 6s - loss: 0.0000e+00 - acc: 0.5000 - val_loss: 0.0000e+00 - val_acc: 0.7000\n",
            "\n",
            "Epoch 00011: val_acc did not improve from 0.70000\n",
            "Epoch 12/100\n",
            "188/188 - 6s - loss: 0.0000e+00 - acc: 0.5000 - val_loss: 0.0000e+00 - val_acc: 0.7000\n",
            "\n",
            "Epoch 00012: val_acc did not improve from 0.70000\n",
            "Epoch 13/100\n",
            "188/188 - 6s - loss: 0.0000e+00 - acc: 0.5000 - val_loss: 0.0000e+00 - val_acc: 0.7000\n",
            "\n",
            "Epoch 00013: val_acc did not improve from 0.70000\n",
            "Epoch 14/100\n",
            "188/188 - 6s - loss: 0.0000e+00 - acc: 0.5000 - val_loss: 0.0000e+00 - val_acc: 0.7000\n",
            "\n",
            "Epoch 00014: val_acc did not improve from 0.70000\n",
            "Epoch 15/100\n",
            "188/188 - 6s - loss: 0.0000e+00 - acc: 0.5000 - val_loss: 0.0000e+00 - val_acc: 0.7000\n",
            "\n",
            "Epoch 00015: val_acc did not improve from 0.70000\n",
            "\n",
            "Epoch 00015: ReduceLROnPlateau reducing learning rate to 0.0002500000118743628.\n",
            "Epoch 16/100\n",
            "188/188 - 6s - loss: 0.0000e+00 - acc: 0.5000 - val_loss: 0.0000e+00 - val_acc: 0.7000\n",
            "\n",
            "Epoch 00016: val_acc did not improve from 0.70000\n",
            "Epoch 17/100\n",
            "188/188 - 6s - loss: 0.0000e+00 - acc: 0.5000 - val_loss: 0.0000e+00 - val_acc: 0.7000\n",
            "\n",
            "Epoch 00017: val_acc did not improve from 0.70000\n",
            "Epoch 18/100\n",
            "188/188 - 6s - loss: 0.0000e+00 - acc: 0.5000 - val_loss: 0.0000e+00 - val_acc: 0.7000\n",
            "\n",
            "Epoch 00018: val_acc did not improve from 0.70000\n",
            "Epoch 19/100\n",
            "188/188 - 6s - loss: 0.0000e+00 - acc: 0.5000 - val_loss: 0.0000e+00 - val_acc: 0.7000\n",
            "\n",
            "Epoch 00019: val_acc did not improve from 0.70000\n",
            "Epoch 20/100\n",
            "188/188 - 6s - loss: 0.0000e+00 - acc: 0.5000 - val_loss: 0.0000e+00 - val_acc: 0.7000\n",
            "\n",
            "Epoch 00020: val_acc did not improve from 0.70000\n",
            "Epoch 21/100\n",
            "188/188 - 6s - loss: 0.0000e+00 - acc: 0.5000 - val_loss: 0.0000e+00 - val_acc: 0.7000\n",
            "\n",
            "Epoch 00021: val_acc did not improve from 0.70000\n",
            "Epoch 22/100\n",
            "188/188 - 6s - loss: 0.0000e+00 - acc: 0.5000 - val_loss: 0.0000e+00 - val_acc: 0.7000\n",
            "\n",
            "Epoch 00022: val_acc did not improve from 0.70000\n",
            "Epoch 23/100\n",
            "188/188 - 6s - loss: 0.0000e+00 - acc: 0.5000 - val_loss: 0.0000e+00 - val_acc: 0.7000\n",
            "\n",
            "Epoch 00023: val_acc did not improve from 0.70000\n",
            "Epoch 24/100\n",
            "188/188 - 6s - loss: 0.0000e+00 - acc: 0.5000 - val_loss: 0.0000e+00 - val_acc: 0.7000\n",
            "\n",
            "Epoch 00024: val_acc did not improve from 0.70000\n",
            "\n",
            "Epoch 00024: ReduceLROnPlateau reducing learning rate to 0.0001250000059371814.\n",
            "Epoch 25/100\n",
            "188/188 - 6s - loss: 0.0000e+00 - acc: 0.5000 - val_loss: 0.0000e+00 - val_acc: 0.7000\n",
            "\n",
            "Epoch 00025: val_acc did not improve from 0.70000\n",
            "Epoch 26/100\n",
            "188/188 - 6s - loss: 0.0000e+00 - acc: 0.5000 - val_loss: 0.0000e+00 - val_acc: 0.7000\n",
            "\n",
            "Epoch 00026: val_acc did not improve from 0.70000\n",
            "Epoch 27/100\n",
            "188/188 - 6s - loss: 0.0000e+00 - acc: 0.5000 - val_loss: 0.0000e+00 - val_acc: 0.7000\n",
            "\n",
            "Epoch 00027: val_acc did not improve from 0.70000\n",
            "Epoch 28/100\n",
            "188/188 - 6s - loss: 0.0000e+00 - acc: 0.5000 - val_loss: 0.0000e+00 - val_acc: 0.7000\n",
            "\n",
            "Epoch 00028: val_acc did not improve from 0.70000\n",
            "Epoch 29/100\n",
            "188/188 - 6s - loss: 0.0000e+00 - acc: 0.5000 - val_loss: 0.0000e+00 - val_acc: 0.7000\n",
            "\n",
            "Epoch 00029: val_acc did not improve from 0.70000\n",
            "Epoch 30/100\n",
            "188/188 - 6s - loss: 0.0000e+00 - acc: 0.5000 - val_loss: 0.0000e+00 - val_acc: 0.7000\n",
            "\n",
            "Epoch 00030: val_acc did not improve from 0.70000\n",
            "Epoch 31/100\n",
            "188/188 - 6s - loss: 0.0000e+00 - acc: 0.5000 - val_loss: 0.0000e+00 - val_acc: 0.7000\n",
            "\n",
            "Epoch 00031: val_acc did not improve from 0.70000\n",
            "Epoch 32/100\n",
            "188/188 - 6s - loss: 0.0000e+00 - acc: 0.5000 - val_loss: 0.0000e+00 - val_acc: 0.7000\n",
            "\n",
            "Epoch 00032: val_acc did not improve from 0.70000\n",
            "Epoch 33/100\n",
            "188/188 - 6s - loss: 0.0000e+00 - acc: 0.5000 - val_loss: 0.0000e+00 - val_acc: 0.7000\n",
            "\n",
            "Epoch 00033: val_acc did not improve from 0.70000\n",
            "\n",
            "Epoch 00033: ReduceLROnPlateau reducing learning rate to 6.25000029685907e-05.\n",
            "Epoch 34/100\n",
            "188/188 - 6s - loss: 0.0000e+00 - acc: 0.5000 - val_loss: 0.0000e+00 - val_acc: 0.7000\n",
            "\n",
            "Epoch 00034: val_acc did not improve from 0.70000\n",
            "Epoch 35/100\n",
            "188/188 - 6s - loss: 0.0000e+00 - acc: 0.5000 - val_loss: 0.0000e+00 - val_acc: 0.7000\n",
            "\n",
            "Epoch 00035: val_acc did not improve from 0.70000\n",
            "Epoch 36/100\n",
            "188/188 - 6s - loss: 0.0000e+00 - acc: 0.5000 - val_loss: 0.0000e+00 - val_acc: 0.7000\n",
            "\n",
            "Epoch 00036: val_acc did not improve from 0.70000\n",
            "Epoch 37/100\n",
            "188/188 - 6s - loss: 0.0000e+00 - acc: 0.5000 - val_loss: 0.0000e+00 - val_acc: 0.7000\n",
            "\n",
            "Epoch 00037: val_acc did not improve from 0.70000\n",
            "Epoch 38/100\n",
            "188/188 - 6s - loss: 0.0000e+00 - acc: 0.5000 - val_loss: 0.0000e+00 - val_acc: 0.7000\n",
            "\n",
            "Epoch 00038: val_acc did not improve from 0.70000\n",
            "Epoch 39/100\n",
            "188/188 - 6s - loss: 0.0000e+00 - acc: 0.5000 - val_loss: 0.0000e+00 - val_acc: 0.7000\n",
            "\n",
            "Epoch 00039: val_acc did not improve from 0.70000\n",
            "Epoch 40/100\n",
            "188/188 - 6s - loss: 0.0000e+00 - acc: 0.5000 - val_loss: 0.0000e+00 - val_acc: 0.7000\n",
            "\n",
            "Epoch 00040: val_acc did not improve from 0.70000\n",
            "Epoch 41/100\n",
            "188/188 - 6s - loss: 0.0000e+00 - acc: 0.5000 - val_loss: 0.0000e+00 - val_acc: 0.7000\n",
            "\n",
            "Epoch 00041: val_acc did not improve from 0.70000\n",
            "Epoch 42/100\n",
            "188/188 - 6s - loss: 0.0000e+00 - acc: 0.5000 - val_loss: 0.0000e+00 - val_acc: 0.7000\n",
            "\n",
            "Epoch 00042: val_acc did not improve from 0.70000\n",
            "\n",
            "Epoch 00042: ReduceLROnPlateau reducing learning rate to 3.125000148429535e-05.\n",
            "Epoch 43/100\n",
            "188/188 - 6s - loss: 0.0000e+00 - acc: 0.5000 - val_loss: 0.0000e+00 - val_acc: 0.7000\n",
            "\n",
            "Epoch 00043: val_acc did not improve from 0.70000\n",
            "Epoch 44/100\n",
            "188/188 - 6s - loss: 0.0000e+00 - acc: 0.5000 - val_loss: 0.0000e+00 - val_acc: 0.7000\n",
            "\n",
            "Epoch 00044: val_acc did not improve from 0.70000\n",
            "Epoch 45/100\n",
            "188/188 - 6s - loss: 0.0000e+00 - acc: 0.5000 - val_loss: 0.0000e+00 - val_acc: 0.7000\n",
            "\n",
            "Epoch 00045: val_acc did not improve from 0.70000\n",
            "Epoch 46/100\n",
            "188/188 - 6s - loss: 0.0000e+00 - acc: 0.5000 - val_loss: 0.0000e+00 - val_acc: 0.7000\n",
            "\n",
            "Epoch 00046: val_acc did not improve from 0.70000\n",
            "Epoch 47/100\n",
            "188/188 - 6s - loss: 0.0000e+00 - acc: 0.5000 - val_loss: 0.0000e+00 - val_acc: 0.7000\n",
            "\n",
            "Epoch 00047: val_acc did not improve from 0.70000\n",
            "Epoch 48/100\n",
            "188/188 - 6s - loss: 0.0000e+00 - acc: 0.5000 - val_loss: 0.0000e+00 - val_acc: 0.7000\n",
            "\n",
            "Epoch 00048: val_acc did not improve from 0.70000\n",
            "Epoch 49/100\n",
            "188/188 - 6s - loss: 0.0000e+00 - acc: 0.5000 - val_loss: 0.0000e+00 - val_acc: 0.7000\n",
            "\n",
            "Epoch 00049: val_acc did not improve from 0.70000\n",
            "Epoch 50/100\n",
            "188/188 - 6s - loss: 0.0000e+00 - acc: 0.5000 - val_loss: 0.0000e+00 - val_acc: 0.7000\n",
            "\n",
            "Epoch 00050: val_acc did not improve from 0.70000\n",
            "Epoch 51/100\n",
            "188/188 - 6s - loss: 0.0000e+00 - acc: 0.5000 - val_loss: 0.0000e+00 - val_acc: 0.7000\n",
            "\n",
            "Epoch 00051: val_acc did not improve from 0.70000\n",
            "\n",
            "Epoch 00051: ReduceLROnPlateau reducing learning rate to 1.5625000742147677e-05.\n",
            "Epoch 52/100\n",
            "188/188 - 6s - loss: 0.0000e+00 - acc: 0.5000 - val_loss: 0.0000e+00 - val_acc: 0.7000\n",
            "\n",
            "Epoch 00052: val_acc did not improve from 0.70000\n",
            "Epoch 53/100\n",
            "188/188 - 6s - loss: 0.0000e+00 - acc: 0.5000 - val_loss: 0.0000e+00 - val_acc: 0.7000\n",
            "\n",
            "Epoch 00053: val_acc did not improve from 0.70000\n",
            "Epoch 54/100\n",
            "188/188 - 6s - loss: 0.0000e+00 - acc: 0.5000 - val_loss: 0.0000e+00 - val_acc: 0.7000\n",
            "\n",
            "Epoch 00054: val_acc did not improve from 0.70000\n",
            "Epoch 55/100\n",
            "188/188 - 6s - loss: 0.0000e+00 - acc: 0.5000 - val_loss: 0.0000e+00 - val_acc: 0.7000\n",
            "\n",
            "Epoch 00055: val_acc did not improve from 0.70000\n",
            "Epoch 56/100\n",
            "188/188 - 6s - loss: 0.0000e+00 - acc: 0.5000 - val_loss: 0.0000e+00 - val_acc: 0.7000\n",
            "\n",
            "Epoch 00056: val_acc did not improve from 0.70000\n",
            "Epoch 57/100\n",
            "188/188 - 6s - loss: 0.0000e+00 - acc: 0.5000 - val_loss: 0.0000e+00 - val_acc: 0.7000\n",
            "\n",
            "Epoch 00057: val_acc did not improve from 0.70000\n",
            "Epoch 58/100\n",
            "188/188 - 6s - loss: 0.0000e+00 - acc: 0.5000 - val_loss: 0.0000e+00 - val_acc: 0.7000\n",
            "\n",
            "Epoch 00058: val_acc did not improve from 0.70000\n",
            "Epoch 59/100\n",
            "188/188 - 6s - loss: 0.0000e+00 - acc: 0.5000 - val_loss: 0.0000e+00 - val_acc: 0.7000\n",
            "\n",
            "Epoch 00059: val_acc did not improve from 0.70000\n",
            "Epoch 60/100\n",
            "188/188 - 6s - loss: 0.0000e+00 - acc: 0.5000 - val_loss: 0.0000e+00 - val_acc: 0.7000\n",
            "\n",
            "Epoch 00060: val_acc did not improve from 0.70000\n",
            "\n",
            "Epoch 00060: ReduceLROnPlateau reducing learning rate to 7.812500371073838e-06.\n",
            "Epoch 61/100\n",
            "188/188 - 6s - loss: 0.0000e+00 - acc: 0.5000 - val_loss: 0.0000e+00 - val_acc: 0.7000\n",
            "\n",
            "Epoch 00061: val_acc did not improve from 0.70000\n",
            "Epoch 62/100\n",
            "188/188 - 6s - loss: 0.0000e+00 - acc: 0.5000 - val_loss: 0.0000e+00 - val_acc: 0.7000\n",
            "\n",
            "Epoch 00062: val_acc did not improve from 0.70000\n",
            "Epoch 63/100\n",
            "188/188 - 6s - loss: 0.0000e+00 - acc: 0.5000 - val_loss: 0.0000e+00 - val_acc: 0.7000\n",
            "\n",
            "Epoch 00063: val_acc did not improve from 0.70000\n",
            "Epoch 64/100\n",
            "188/188 - 6s - loss: 0.0000e+00 - acc: 0.5000 - val_loss: 0.0000e+00 - val_acc: 0.7000\n",
            "\n",
            "Epoch 00064: val_acc did not improve from 0.70000\n",
            "Epoch 65/100\n",
            "188/188 - 6s - loss: 0.0000e+00 - acc: 0.5000 - val_loss: 0.0000e+00 - val_acc: 0.7000\n",
            "\n",
            "Epoch 00065: val_acc did not improve from 0.70000\n",
            "Epoch 66/100\n",
            "188/188 - 6s - loss: 0.0000e+00 - acc: 0.5000 - val_loss: 0.0000e+00 - val_acc: 0.7000\n",
            "\n",
            "Epoch 00066: val_acc did not improve from 0.70000\n",
            "Epoch 67/100\n",
            "188/188 - 6s - loss: 0.0000e+00 - acc: 0.5000 - val_loss: 0.0000e+00 - val_acc: 0.7000\n",
            "\n",
            "Epoch 00067: val_acc did not improve from 0.70000\n",
            "Epoch 68/100\n",
            "188/188 - 6s - loss: 0.0000e+00 - acc: 0.5000 - val_loss: 0.0000e+00 - val_acc: 0.7000\n",
            "\n",
            "Epoch 00068: val_acc did not improve from 0.70000\n",
            "Epoch 69/100\n",
            "188/188 - 6s - loss: 0.0000e+00 - acc: 0.5000 - val_loss: 0.0000e+00 - val_acc: 0.7000\n",
            "\n",
            "Epoch 00069: val_acc did not improve from 0.70000\n",
            "\n",
            "Epoch 00069: ReduceLROnPlateau reducing learning rate to 3.906250185536919e-06.\n",
            "Epoch 70/100\n",
            "188/188 - 6s - loss: 0.0000e+00 - acc: 0.5000 - val_loss: 0.0000e+00 - val_acc: 0.7000\n",
            "\n",
            "Epoch 00070: val_acc did not improve from 0.70000\n",
            "Epoch 71/100\n",
            "188/188 - 6s - loss: 0.0000e+00 - acc: 0.5000 - val_loss: 0.0000e+00 - val_acc: 0.7000\n",
            "\n",
            "Epoch 00071: val_acc did not improve from 0.70000\n",
            "Epoch 72/100\n",
            "188/188 - 6s - loss: 0.0000e+00 - acc: 0.5000 - val_loss: 0.0000e+00 - val_acc: 0.7000\n",
            "\n",
            "Epoch 00072: val_acc did not improve from 0.70000\n",
            "Epoch 73/100\n",
            "188/188 - 6s - loss: 0.0000e+00 - acc: 0.5000 - val_loss: 0.0000e+00 - val_acc: 0.7000\n",
            "\n",
            "Epoch 00073: val_acc did not improve from 0.70000\n",
            "Epoch 74/100\n",
            "188/188 - 6s - loss: 0.0000e+00 - acc: 0.5000 - val_loss: 0.0000e+00 - val_acc: 0.7000\n",
            "\n",
            "Epoch 00074: val_acc did not improve from 0.70000\n",
            "Epoch 75/100\n",
            "188/188 - 6s - loss: 0.0000e+00 - acc: 0.5000 - val_loss: 0.0000e+00 - val_acc: 0.7000\n",
            "\n",
            "Epoch 00075: val_acc did not improve from 0.70000\n",
            "Epoch 76/100\n",
            "188/188 - 6s - loss: 0.0000e+00 - acc: 0.5000 - val_loss: 0.0000e+00 - val_acc: 0.7000\n",
            "\n",
            "Epoch 00076: val_acc did not improve from 0.70000\n",
            "Epoch 77/100\n",
            "188/188 - 6s - loss: 0.0000e+00 - acc: 0.5000 - val_loss: 0.0000e+00 - val_acc: 0.7000\n",
            "\n",
            "Epoch 00077: val_acc did not improve from 0.70000\n",
            "Epoch 78/100\n",
            "188/188 - 6s - loss: 0.0000e+00 - acc: 0.5000 - val_loss: 0.0000e+00 - val_acc: 0.7000\n",
            "\n",
            "Epoch 00078: val_acc did not improve from 0.70000\n",
            "\n",
            "Epoch 00078: ReduceLROnPlateau reducing learning rate to 1.9531250927684596e-06.\n",
            "Epoch 79/100\n",
            "188/188 - 6s - loss: 0.0000e+00 - acc: 0.5000 - val_loss: 0.0000e+00 - val_acc: 0.7000\n",
            "\n",
            "Epoch 00079: val_acc did not improve from 0.70000\n",
            "Epoch 80/100\n",
            "188/188 - 6s - loss: 0.0000e+00 - acc: 0.5000 - val_loss: 0.0000e+00 - val_acc: 0.7000\n",
            "\n",
            "Epoch 00080: val_acc did not improve from 0.70000\n",
            "Epoch 81/100\n",
            "188/188 - 6s - loss: 0.0000e+00 - acc: 0.5000 - val_loss: 0.0000e+00 - val_acc: 0.7000\n",
            "\n",
            "Epoch 00081: val_acc did not improve from 0.70000\n",
            "Epoch 82/100\n",
            "188/188 - 6s - loss: 0.0000e+00 - acc: 0.5000 - val_loss: 0.0000e+00 - val_acc: 0.7000\n",
            "\n",
            "Epoch 00082: val_acc did not improve from 0.70000\n",
            "Epoch 83/100\n",
            "188/188 - 6s - loss: 0.0000e+00 - acc: 0.5000 - val_loss: 0.0000e+00 - val_acc: 0.7000\n",
            "\n",
            "Epoch 00083: val_acc did not improve from 0.70000\n",
            "Epoch 84/100\n",
            "188/188 - 6s - loss: 0.0000e+00 - acc: 0.5000 - val_loss: 0.0000e+00 - val_acc: 0.7000\n",
            "\n",
            "Epoch 00084: val_acc did not improve from 0.70000\n",
            "Epoch 85/100\n",
            "188/188 - 6s - loss: 0.0000e+00 - acc: 0.5000 - val_loss: 0.0000e+00 - val_acc: 0.7000\n",
            "\n",
            "Epoch 00085: val_acc did not improve from 0.70000\n",
            "Epoch 86/100\n",
            "188/188 - 6s - loss: 0.0000e+00 - acc: 0.5000 - val_loss: 0.0000e+00 - val_acc: 0.7000\n",
            "\n",
            "Epoch 00086: val_acc did not improve from 0.70000\n",
            "Epoch 87/100\n",
            "188/188 - 6s - loss: 0.0000e+00 - acc: 0.5000 - val_loss: 0.0000e+00 - val_acc: 0.7000\n",
            "\n",
            "Epoch 00087: val_acc did not improve from 0.70000\n",
            "\n",
            "Epoch 00087: ReduceLROnPlateau reducing learning rate to 9.765625463842298e-07.\n",
            "Epoch 88/100\n",
            "188/188 - 6s - loss: 0.0000e+00 - acc: 0.5000 - val_loss: 0.0000e+00 - val_acc: 0.7000\n",
            "\n",
            "Epoch 00088: val_acc did not improve from 0.70000\n",
            "Epoch 89/100\n",
            "188/188 - 6s - loss: 0.0000e+00 - acc: 0.5000 - val_loss: 0.0000e+00 - val_acc: 0.7000\n",
            "\n",
            "Epoch 00089: val_acc did not improve from 0.70000\n",
            "Epoch 90/100\n",
            "188/188 - 6s - loss: 0.0000e+00 - acc: 0.5000 - val_loss: 0.0000e+00 - val_acc: 0.7000\n",
            "\n",
            "Epoch 00090: val_acc did not improve from 0.70000\n",
            "Epoch 91/100\n",
            "188/188 - 6s - loss: 0.0000e+00 - acc: 0.5000 - val_loss: 0.0000e+00 - val_acc: 0.7000\n",
            "\n",
            "Epoch 00091: val_acc did not improve from 0.70000\n",
            "Epoch 92/100\n",
            "188/188 - 6s - loss: 0.0000e+00 - acc: 0.5000 - val_loss: 0.0000e+00 - val_acc: 0.7000\n",
            "\n",
            "Epoch 00092: val_acc did not improve from 0.70000\n",
            "Epoch 93/100\n",
            "188/188 - 6s - loss: 0.0000e+00 - acc: 0.5000 - val_loss: 0.0000e+00 - val_acc: 0.7000\n",
            "\n",
            "Epoch 00093: val_acc did not improve from 0.70000\n",
            "Epoch 94/100\n",
            "188/188 - 6s - loss: 0.0000e+00 - acc: 0.5000 - val_loss: 0.0000e+00 - val_acc: 0.7000\n",
            "\n",
            "Epoch 00094: val_acc did not improve from 0.70000\n",
            "Epoch 95/100\n",
            "188/188 - 6s - loss: 0.0000e+00 - acc: 0.5000 - val_loss: 0.0000e+00 - val_acc: 0.7000\n",
            "\n",
            "Epoch 00095: val_acc did not improve from 0.70000\n",
            "Epoch 96/100\n",
            "188/188 - 6s - loss: 0.0000e+00 - acc: 0.5000 - val_loss: 0.0000e+00 - val_acc: 0.7000\n",
            "\n",
            "Epoch 00096: val_acc did not improve from 0.70000\n",
            "\n",
            "Epoch 00096: ReduceLROnPlateau reducing learning rate to 4.882812731921149e-07.\n",
            "Epoch 97/100\n",
            "188/188 - 6s - loss: 0.0000e+00 - acc: 0.5000 - val_loss: 0.0000e+00 - val_acc: 0.7000\n",
            "\n",
            "Epoch 00097: val_acc did not improve from 0.70000\n",
            "Epoch 98/100\n",
            "188/188 - 6s - loss: 0.0000e+00 - acc: 0.5000 - val_loss: 0.0000e+00 - val_acc: 0.7000\n",
            "\n",
            "Epoch 00098: val_acc did not improve from 0.70000\n",
            "Epoch 99/100\n",
            "188/188 - 6s - loss: 0.0000e+00 - acc: 0.5000 - val_loss: 0.0000e+00 - val_acc: 0.7000\n",
            "\n",
            "Epoch 00099: val_acc did not improve from 0.70000\n",
            "Epoch 100/100\n",
            "188/188 - 6s - loss: 0.0000e+00 - acc: 0.5000 - val_loss: 0.0000e+00 - val_acc: 0.7000\n",
            "\n",
            "Epoch 00100: val_acc did not improve from 0.70000\n"
          ],
          "name": "stdout"
        }
      ]
    },
    {
      "cell_type": "code",
      "metadata": {
        "id": "eOD-p7kyRSHA",
        "colab": {
          "base_uri": "https://localhost:8080/",
          "height": 241
        },
        "outputId": "6b4a844a-84bc-46cc-c39d-18002a070fc7"
      },
      "source": [
        "fig, ax = plt.subplots(1, 2, figsize=(20, 3))\n",
        "ax = ax.ravel()\n",
        "\n",
        "for i, metric in enumerate([\"acc\", \"loss\"]):\n",
        "    ax[i].plot(model.history.history[metric])\n",
        "    ax[i].plot(model.history.history[\"val_\" + metric])\n",
        "    ax[i].set_title(\"Model {}\".format(metric))\n",
        "    ax[i].set_xlabel(\"epochs\")\n",
        "    ax[i].set_ylabel(metric)\n",
        "    ax[i].legend([\"train\", \"val\"])"
      ],
      "execution_count": null,
      "outputs": [
        {
          "output_type": "display_data",
          "data": {
            "image/png": "[encoded data removed]",
            "text/plain": [
              "<Figure size 1440x216 with 2 Axes>"
            ]
          },
          "metadata": {
            "tags": [],
            "needs_background": "light"
          }
        }
      ]
    },
    {
      "cell_type": "code",
      "metadata": {
        "colab": {
          "base_uri": "https://localhost:8080/"
        },
        "id": "p1M9WDE-pqeN",
        "outputId": "39ee1a12-9d4a-46ee-e30c-a78110ccd1bf"
      },
      "source": [
        "y_train[:10]"
      ],
      "execution_count": null,
      "outputs": [
        {
          "output_type": "execute_result",
          "data": {
            "text/plain": [
              "array([1, 0, 1, 0, 0, 0, 1, 1, 0, 0])"
            ]
          },
          "metadata": {
            "tags": []
          },
          "execution_count": 22
        }
      ]
    },
    {
      "cell_type": "code",
      "metadata": {
        "id": "M-qR_QbWqIrX"
      },
      "source": [
        "x_test2, y_test2= shuffle(x_test,y_test,random_state = 4)"
      ],
      "execution_count": null,
      "outputs": []
    },
    {
      "cell_type": "code",
      "metadata": {
        "colab": {
          "base_uri": "https://localhost:8080/"
        },
        "id": "8XrAXTtSqQdx",
        "outputId": "4549ec5c-db95-4a3e-a148-ca2342980cc9"
      },
      "source": [
        "model.evaluate(x = x_test2,y = y_test2)"
      ],
      "execution_count": null,
      "outputs": [
        {
          "output_type": "stream",
          "text": [
            "47/47 [==============================] - 1s 15ms/step - loss: 0.0000e+00 - acc: 0.7000\n"
          ],
          "name": "stdout"
        },
        {
          "output_type": "execute_result",
          "data": {
            "text/plain": [
              "[0.0, 0.699999988079071]"
            ]
          },
          "metadata": {
            "tags": []
          },
          "execution_count": 24
        }
      ]
    },
    {
      "cell_type": "code",
      "metadata": {
        "id": "nb0odvKNJdox"
      },
      "source": [
        "model = load_model('3d_image_classification.h5')"
      ],
      "execution_count": null,
      "outputs": []
    },
    {
      "cell_type": "code",
      "metadata": {
        "colab": {
          "base_uri": "https://localhost:8080/"
        },
        "id": "6I489egDHq1d",
        "outputId": "54b9004b-f538-4ac1-eaed-6b5e4ecccd8f"
      },
      "source": [
        "y_test[:10]"
      ],
      "execution_count": null,
      "outputs": [
        {
          "output_type": "execute_result",
          "data": {
            "text/plain": [
              "array([1, 0, 1, 0, 1, 1, 1, 0, 0, 1])"
            ]
          },
          "metadata": {
            "tags": []
          },
          "execution_count": 18
        }
      ]
    },
    {
      "cell_type": "code",
      "metadata": {
        "colab": {
          "base_uri": "https://localhost:8080/"
        },
        "id": "qL09qGpjH1ZM",
        "outputId": "fee8f0b3-5b12-4d89-8489-099d4887e688"
      },
      "source": [
        "y_val[:10]"
      ],
      "execution_count": null,
      "outputs": [
        {
          "output_type": "execute_result",
          "data": {
            "text/plain": [
              "array([1, 0, 1, 0, 1, 1, 1, 0, 0, 1])"
            ]
          },
          "metadata": {
            "tags": []
          },
          "execution_count": 19
        }
      ]
    },
    {
      "cell_type": "code",
      "metadata": {
        "colab": {
          "base_uri": "https://localhost:8080/"
        },
        "id": "4T8Vnn3aH3cx",
        "outputId": "1e611032-5fa2-4624-adab-f969be4714bd"
      },
      "source": [
        "y_train[:10]"
      ],
      "execution_count": null,
      "outputs": [
        {
          "output_type": "execute_result",
          "data": {
            "text/plain": [
              "array([1, 0, 1, 0, 0, 0, 1, 1, 0, 0])"
            ]
          },
          "metadata": {
            "tags": []
          },
          "execution_count": 20
        }
      ]
    },
    {
      "cell_type": "code",
      "metadata": {
        "id": "SpWdJeLiq2hc",
        "colab": {
          "base_uri": "https://localhost:8080/"
        },
        "outputId": "4bfcb67a-71aa-46ad-b5b5-5a916a148c66"
      },
      "source": [
        "cd /"
      ],
      "execution_count": null,
      "outputs": [
        {
          "output_type": "stream",
          "text": [
            "/\n"
          ],
          "name": "stdout"
        }
      ]
    },
    {
      "cell_type": "code",
      "metadata": {
        "colab": {
          "base_uri": "https://localhost:8080/"
        },
        "id": "vdyMOkOHIAvn",
        "outputId": "46034a31-0478-4ac4-d74d-a3c51656dcd5"
      },
      "source": [
        "!wget --load-cookies /tmp/cookies.txt \"https://docs.google.com/uc?export=download&confirm=$(wget --quiet --save-cookies /tmp/cookies.txt --keep-session-cookies --no-check-certificate 'https://docs.google.com/uc?export=download&id=1Orm2tbk5gljhnRrZ56onxRdmIUWvYt-X' -O- | sed -rn 's/.*confirm=([0-9A-Za-z_]+).*/\\1\\n/p')&id=1Orm2tbk5gljhnRrZ56onxRdmIUWvYt-X\" -O finaltest.zip && rm -rf /tmp/cookies.txt\n"
      ],
      "execution_count": null,
      "outputs": [
        {
          "output_type": "stream",
          "text": [
            "--2021-05-17 23:55:38--  https://docs.google.com/uc?export=download&confirm=izR9&id=1Orm2tbk5gljhnRrZ56onxRdmIUWvYt-X\n",
            "Resolving docs.google.com (docs.google.com)... 173.194.79.139, 173.194.79.113, 173.194.79.138, ...\n",
            "Connecting to docs.google.com (docs.google.com)|173.194.79.139|:443... connected.\n",
            "HTTP request sent, awaiting response... 302 Moved Temporarily\n",
            "Location: https://doc-0g-5s-docs.googleusercontent.com/docs/securesc/pb60cjjjvvv0db43il8v6oc0sfpt158u/4ckpc0tinl79lva7pnt8h6ma8e6vot83/1621295700000/10681116013986523016/02639302157970986819Z/1Orm2tbk5gljhnRrZ56onxRdmIUWvYt-X?e=download [following]\n",
            "--2021-05-17 23:55:38--  https://doc-0g-5s-docs.googleusercontent.com/docs/securesc/pb60cjjjvvv0db43il8v6oc0sfpt158u/4ckpc0tinl79lva7pnt8h6ma8e6vot83/1621295700000/10681116013986523016/02639302157970986819Z/1Orm2tbk5gljhnRrZ56onxRdmIUWvYt-X?e=download\n",
            "Resolving doc-0g-5s-docs.googleusercontent.com (doc-0g-5s-docs.googleusercontent.com)... 172.217.218.132, 2a00:1450:4013:c01::84\n",
            "Connecting to doc-0g-5s-docs.googleusercontent.com (doc-0g-5s-docs.googleusercontent.com)|172.217.218.132|:443... connected.\n",
            "HTTP request sent, awaiting response... 302 Found\n",
            "Location: https://docs.google.com/nonceSigner?nonce=h09414rp4tu52&continue=https://doc-0g-5s-docs.googleusercontent.com/docs/securesc/pb60cjjjvvv0db43il8v6oc0sfpt158u/4ckpc0tinl79lva7pnt8h6ma8e6vot83/1621295700000/10681116013986523016/02639302157970986819Z/1Orm2tbk5gljhnRrZ56onxRdmIUWvYt-X?e%3Ddownload&hash=drk2ld4n2mrl2f4sh5clav3q5efsrbr3 [following]\n",
            "--2021-05-17 23:55:39--  https://docs.google.com/nonceSigner?nonce=h09414rp4tu52&continue=https://doc-0g-5s-docs.googleusercontent.com/docs/securesc/pb60cjjjvvv0db43il8v6oc0sfpt158u/4ckpc0tinl79lva7pnt8h6ma8e6vot83/1621295700000/10681116013986523016/02639302157970986819Z/1Orm2tbk5gljhnRrZ56onxRdmIUWvYt-X?e%3Ddownload&hash=drk2ld4n2mrl2f4sh5clav3q5efsrbr3\n",
            "Connecting to docs.google.com (docs.google.com)|173.194.79.139|:443... connected.\n",
            "HTTP request sent, awaiting response... 302 Found\n",
            "Location: https://doc-0g-5s-docs.googleusercontent.com/docs/securesc/pb60cjjjvvv0db43il8v6oc0sfpt158u/4ckpc0tinl79lva7pnt8h6ma8e6vot83/1621295700000/10681116013986523016/02639302157970986819Z/1Orm2tbk5gljhnRrZ56onxRdmIUWvYt-X?e=download&nonce=h09414rp4tu52&user=02639302157970986819Z&hash=bndjvdsh5l3fjpr1monvurmu8eti2u87 [following]\n",
            "--2021-05-17 23:55:39--  https://doc-0g-5s-docs.googleusercontent.com/docs/securesc/pb60cjjjvvv0db43il8v6oc0sfpt158u/4ckpc0tinl79lva7pnt8h6ma8e6vot83/1621295700000/10681116013986523016/02639302157970986819Z/1Orm2tbk5gljhnRrZ56onxRdmIUWvYt-X?e=download&nonce=h09414rp4tu52&user=02639302157970986819Z&hash=bndjvdsh5l3fjpr1monvurmu8eti2u87\n",
            "Connecting to doc-0g-5s-docs.googleusercontent.com (doc-0g-5s-docs.googleusercontent.com)|172.217.218.132|:443... connected.\n",
            "HTTP request sent, awaiting response... 200 OK\n",
            "Length: unspecified [application/x-zip-compressed]\n",
            "Saving to: ‘finaltest.zip’\n",
            "\n",
            "finaltest.zip           [            <=>     ] 413.90M  68.2MB/s    in 6.2s    \n",
            "\n",
            "2021-05-17 23:55:46 (66.4 MB/s) - ‘finaltest.zip’ saved [434007592]\n",
            "\n"
          ],
          "name": "stdout"
        }
      ]
    },
    {
      "cell_type": "code",
      "metadata": {
        "colab": {
          "base_uri": "https://localhost:8080/"
        },
        "id": "tf3XmfBkIS_W",
        "outputId": "22d01cda-d598-4619-8ce1-ee2ffcc862d9"
      },
      "source": [
        "# from google.colab import files\n",
        "# files.download('example.txt') \n",
        "!unzip /finaltest.zip -d /\n",
        "print('done')"
      ],
      "execution_count": null,
      "outputs": [
        {
          "output_type": "stream",
          "text": [
            "Archive:  /finaltest.zip\n",
            "   creating: /scz_test/\n",
            "  inflating: /scz_test/18.nii.gz     \n",
            "  inflating: /scz_test/19.nii.gz     \n",
            "  inflating: /scz_test/20.nii.gz     \n",
            "  inflating: /scz_test/21.nii.gz     \n",
            "  inflating: /scz_test/22.nii.gz     \n",
            "  inflating: /scz_test/23.nii.gz     \n",
            "  inflating: /scz_test/24.nii.gz     \n",
            "  inflating: /scz_test/25.nii.gz     \n",
            "  inflating: /scz_test/26.nii.gz     \n",
            "  inflating: /scz_test/27.nii.gz     \n",
            "  inflating: /scz_test/28.nii.gz     \n",
            "  inflating: /scz_test/29.nii.gz     \n",
            "  inflating: /scz_test/30.nii.gz     \n",
            "  inflating: /scz_test/31.nii.gz     \n",
            "   creating: /normal_test/\n",
            "  inflating: /normal_test/18.nii.gz  \n",
            "  inflating: /normal_test/19.nii.gz  \n",
            "  inflating: /normal_test/20.nii.gz  \n",
            "  inflating: /normal_test/21.nii.gz  \n",
            "  inflating: /normal_test/22.nii.gz  \n",
            "  inflating: /normal_test/23.nii.gz  \n",
            "  inflating: /normal_test/24.nii.gz  \n",
            "  inflating: /normal_test/25.nii.gz  \n",
            "  inflating: /normal_test/26.nii.gz  \n",
            "done\n"
          ],
          "name": "stdout"
        }
      ]
    },
    {
      "cell_type": "code",
      "metadata": {
        "id": "9W9HlE2HITav"
      },
      "source": [
        "normaltest = []\n",
        "scztest = []"
      ],
      "execution_count": null,
      "outputs": []
    },
    {
      "cell_type": "code",
      "metadata": {
        "colab": {
          "base_uri": "https://localhost:8080/"
        },
        "id": "GCEN9VaXIVVL",
        "outputId": "5a730be9-e5b7-49db-c313-10b48cdde8a8"
      },
      "source": [
        "flag = 0\n",
        "count = 0\n",
        "for file in glob.glob('/normal_test/*'):\n",
        "  count= count+1\n",
        "  print(file)\n",
        "  img4d = nib.load(file)\n",
        "  img3d_list = nib.funcs.four_to_three(img4d)\n",
        "  for i in img3d_list:\n",
        "    data = i.get_fdata()\n",
        "    normaltest.append(data)\n",
        "    \n",
        "  #   if (len(scz)==2500):\n",
        "  #     flag = 1\n",
        "  #     if(flag == 1):\n",
        "  #       break\n",
        "  # if(flag == 1):\n",
        "  #   break\n",
        "print(\"done\")\n",
        "print(count)"
      ],
      "execution_count": null,
      "outputs": [
        {
          "output_type": "stream",
          "text": [
            "/normal_test/19.nii.gz\n",
            "/normal_test/21.nii.gz\n",
            "/normal_test/25.nii.gz\n",
            "/normal_test/23.nii.gz\n",
            "/normal_test/20.nii.gz\n",
            "/normal_test/22.nii.gz\n",
            "/normal_test/24.nii.gz\n",
            "/normal_test/18.nii.gz\n",
            "/normal_test/26.nii.gz\n",
            "done\n",
            "9\n"
          ],
          "name": "stdout"
        }
      ]
    },
    {
      "cell_type": "code",
      "metadata": {
        "colab": {
          "base_uri": "https://localhost:8080/"
        },
        "id": "UkCERmGaIYfo",
        "outputId": "686cc5c5-130b-4e54-d649-b74d538e5c45"
      },
      "source": [
        "flag = 0\n",
        "count = 0\n",
        "for file in glob.glob('/scz_test/*'):\n",
        "  count= count+1\n",
        "  print(file)\n",
        "  img4d = nib.load(file)\n",
        "  img3d_list = nib.funcs.four_to_three(img4d)\n",
        "  for i in img3d_list:\n",
        "    data = i.get_fdata()\n",
        "    scztest.append(data)\n",
        "    \n",
        "  #   if (len(scz)==2500):\n",
        "  #     flag = 1\n",
        "  #     if(flag == 1):\n",
        "  #       break\n",
        "  # if(flag == 1):\n",
        "  #   break\n",
        "print(\"done\")\n",
        "print(count)"
      ],
      "execution_count": null,
      "outputs": [
        {
          "output_type": "stream",
          "text": [
            "/scz_test/29.nii.gz\n",
            "/scz_test/19.nii.gz\n",
            "/scz_test/21.nii.gz\n",
            "/scz_test/25.nii.gz\n",
            "/scz_test/28.nii.gz\n",
            "/scz_test/23.nii.gz\n",
            "/scz_test/30.nii.gz\n",
            "/scz_test/31.nii.gz\n",
            "/scz_test/20.nii.gz\n",
            "/scz_test/22.nii.gz\n",
            "/scz_test/24.nii.gz\n",
            "/scz_test/18.nii.gz\n",
            "/scz_test/27.nii.gz\n",
            "/scz_test/26.nii.gz\n",
            "done\n",
            "14\n"
          ],
          "name": "stdout"
        }
      ]
    },
    {
      "cell_type": "code",
      "metadata": {
        "id": "FKU81qD8Iai8"
      },
      "source": [
        "normaltest_labels = np.array([0 for _ in range(len(normaltest))])\n",
        "scztest_labels = np.array([1 for _ in range(len(scztest))])\n",
        "\n",
        "\n",
        "y = np.concatenate((normaltest_labels[:], scztest_labels[:]), axis=0)"
      ],
      "execution_count": null,
      "outputs": []
    },
    {
      "cell_type": "code",
      "metadata": {
        "id": "q9BsZbm1IctL"
      },
      "source": [
        "normaltest_array = np.asarray(normaltest)\n",
        "normaltest_array =(normaltest_array- x_mean)/x_std\n",
        "scztest_array = np.asarray(scztest)\n",
        "scztest_array =(scztest_array- x_mean)/x_std\n",
        "\n",
        "\n",
        "x_test = np.concatenate((normaltest_array[:], scztest_array[:]), axis=0)"
      ],
      "execution_count": null,
      "outputs": []
    },
    {
      "cell_type": "code",
      "metadata": {
        "colab": {
          "base_uri": "https://localhost:8080/"
        },
        "id": "TExXUTsYL7hQ",
        "outputId": "6081c242-2451-41c6-92d0-72b011231aa0"
      },
      "source": [
        "y.shape"
      ],
      "execution_count": null,
      "outputs": [
        {
          "output_type": "execute_result",
          "data": {
            "text/plain": [
              "(3450,)"
            ]
          },
          "metadata": {
            "tags": []
          },
          "execution_count": 36
        }
      ]
    },
    {
      "cell_type": "code",
      "metadata": {
        "colab": {
          "base_uri": "https://localhost:8080/"
        },
        "id": "ooeUXwctIrS3",
        "outputId": "07a228ae-fa59-4ed8-fe76-1872c1be3c3b"
      },
      "source": [
        "score = model.evaluate(x = x_test,y = y)"
      ],
      "execution_count": null,
      "outputs": [
        {
          "output_type": "stream",
          "text": [
            "108/108 [==============================] - 5s 45ms/step - loss: 98312.4609 - acc: 0.8157\n"
          ],
          "name": "stdout"
        }
      ]
    },
    {
      "cell_type": "code",
      "metadata": {
        "id": "5j_pNYjTNDSd"
      },
      "source": [
        "model.save('model1.h5')"
      ],
      "execution_count": null,
      "outputs": []
    },
    {
      "cell_type": "code",
      "metadata": {
        "id": "sLB0Q0-JNoHC"
      },
      "source": [
        "model = load_model('model1.h5')"
      ],
      "execution_count": null,
      "outputs": []
    },
    {
      "cell_type": "code",
      "metadata": {
        "colab": {
          "base_uri": "https://localhost:8080/"
        },
        "id": "OJU7vzuaPrHO",
        "outputId": "129d23d2-1e46-44ad-c81b-0e334c549966"
      },
      "source": [
        "print(\"%s: %.2f%%\" % (model.metrics_names[1], score[1]*100))"
      ],
      "execution_count": null,
      "outputs": [
        {
          "output_type": "stream",
          "text": [
            "acc: 100.00%\n"
          ],
          "name": "stdout"
        }
      ]
    },
    {
      "cell_type": "code",
      "metadata": {
        "id": "edVwoosWRlM6"
      },
      "source": [
        "def plot_loss_accu(history):\n",
        "    loss = history.history['loss']\n",
        "    val_loss = history.history['val_loss']\n",
        "    epochs = range(len(loss))\n",
        "    plt.plot(epochs, loss, 'g')\n",
        "    plt.plot(epochs, val_loss, 'y')\n",
        "    plt.title('Training loss')\n",
        "    plt.legend(['train', 'val'], loc='upper right')\n",
        "    plt.grid()\n",
        "    plt.show()\n",
        "    loss = history.history['acc']\n",
        "    val_loss = history.history['val_acc']\n",
        "    epochs = range(len(loss))\n",
        "    plt.plot(epochs, loss, 'r')\n",
        "    plt.plot(epochs, val_loss, 'b')\n",
        "    plt.title('Training accuracy')\n",
        "    plt.legend(['train', 'val'], loc='lower right')\n",
        "    plt.grid()\n",
        "    plt.show()"
      ],
      "execution_count": null,
      "outputs": []
    },
    {
      "cell_type": "code",
      "metadata": {
        "colab": {
          "base_uri": "https://localhost:8080/",
          "height": 545
        },
        "id": "eciWbo3YSGt3",
        "outputId": "0a9d66e0-1f8d-401e-9ff1-da87538aa610"
      },
      "source": [
        "plot_loss_accu(history) "
      ],
      "execution_count": null,
      "outputs": [
        {
          "output_type": "display_data",
          "data": {
            "image/png": "[encoded data removed]",
            "text/plain": [
              "<Figure size 432x288 with 1 Axes>"
            ]
          },
          "metadata": {
            "tags": [],
            "needs_background": "light"
          }
        },
        {
          "output_type": "display_data",
          "data": {
            "image/png": "[encoded data removed]",
            "text/plain": [
              "<Figure size 432x288 with 1 Axes>"
            ]
          },
          "metadata": {
            "tags": [],
            "needs_background": "light"
          }
        }
      ]
    }
  ]
}