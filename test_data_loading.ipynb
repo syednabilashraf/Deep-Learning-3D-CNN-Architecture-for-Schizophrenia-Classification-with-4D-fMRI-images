{
  "nbformat": 4,
  "nbformat_minor": 0,
  "metadata": {
    "colab": {
      "name": "test_data loading.ipynb",
      "provenance": []
    },
    "kernelspec": {
      "display_name": "Python 3",
      "name": "python3"
    },
    "language_info": {
      "name": "python"
    }
  },
  "cells": [
    {
      "cell_type": "code",
      "metadata": {
        "id": "ryzj2ipeQOZO"
      },
      "source": [
        "from keras.utils import np_utils\n",
        "from keras.layers import Conv3D, MaxPool3D, Flatten, Dense\n",
        "from keras.layers import Dropout, Input, BatchNormalization\n",
        "from sklearn.metrics import confusion_matrix, accuracy_score\n",
        "from keras.losses import binary_crossentropy\n",
        "from keras.optimizers import Adadelta, SGD\n",
        "from matplotlib.pyplot import cm\n",
        "import matplotlib.pyplot as plt\n",
        "from keras.models import Model\n",
        "import cv2\n",
        "import os\n",
        "import numpy as np\n",
        "import keras\n",
        "import h5py\n",
        "import numpy as np\n",
        "from keras import regularizers\n",
        "import os\n",
        "import glob\n",
        "import cv2\n",
        "import random\n",
        "import matplotlib.pyplot as plt\n",
        "from sklearn.utils import shuffle\n",
        "from sklearn.model_selection import train_test_split\n",
        "from sklearn.model_selection import StratifiedKFold\n",
        "from sklearn.metrics import roc_curve, roc_auc_score\n",
        "\n",
        "from keras.models import Sequential\n",
        "from keras.optimizers import RMSprop\n",
        "from keras.layers import Conv2D, MaxPooling2D\n",
        "from keras.layers import Activation, Dropout, Flatten, Dense\n",
        "from sklearn.utils import shuffle\n",
        "from sklearn.model_selection import train_test_split\n",
        "from keras import optimizers\n",
        "# from keras.utils import to_categorical, plot_model\n",
        "from keras.layers import Dense, Input, Conv2D, Flatten, MaxPooling2D, Activation\n",
        "from keras.models import Model, Sequential\n",
        "from keras.layers import Activation, Dropout, Flatten, Dense\n",
        "from keras.callbacks import ModelCheckpoint\n",
        "from keras.optimizers import Adam\n",
        "from keras.applications.vgg16 import VGG16\n",
        "from keras.models import load_model\n",
        "from keras.utils import np_utils\n",
        "from keras import backend as K\n",
        "from keras.models import load_model\n",
        "import keras"
      ],
      "execution_count": null,
      "outputs": []
    },
    {
      "cell_type": "code",
      "metadata": {
        "id": "S-u3eNplQgSj"
      },
      "source": [
        "from google.colab import files\n",
        "import matplotlib.pyplot as plt\n",
        "import numpy as np\n",
        "import scipy.io as sio\n",
        "import os\n",
        "import tensorflow as tf\n",
        "import zipfile\n",
        "from tensorflow import keras\n",
        "from tensorflow.keras import layers\n",
        "import nibabel as nib\n",
        "import glob\n",
        "from sklearn.utils import shuffle\n",
        "import sys\n"
      ],
      "execution_count": null,
      "outputs": []
    },
    {
      "cell_type": "code",
      "metadata": {
        "colab": {
          "base_uri": "https://localhost:8080/"
        },
        "id": "W2AaZGwJQh-d",
        "outputId": "b1ba2e9d-ee35-4cbd-b1a3-de33205e29e9"
      },
      "source": [
        "!wget --load-cookies /tmp/cookies.txt \"https://docs.google.com/uc?export=download&confirm=$(wget --quiet --save-cookies /tmp/cookies.txt --keep-session-cookies --no-check-certificate 'https://docs.google.com/uc?export=download&id=1gxaRzFdB7A0fO7Zu15MQffv00DOXNcO0' -O- | sed -rn 's/.*confirm=([0-9A-Za-z_]+).*/\\1\\n/p')&id=1gxaRzFdB7A0fO7Zu15MQffv00DOXNcO0\" -O testing_data.zip && rm -rf /tmp/cookies.txt\n"
      ],
      "execution_count": null,
      "outputs": [
        {
          "output_type": "stream",
          "text": [
            "--2021-05-28 21:35:19--  https://docs.google.com/uc?export=download&confirm=R9ce&id=1gxaRzFdB7A0fO7Zu15MQffv00DOXNcO0\n",
            "Resolving docs.google.com (docs.google.com)... 142.250.81.206, 2607:f8b0:4004:82f::200e\n",
            "Connecting to docs.google.com (docs.google.com)|142.250.81.206|:443... connected.\n",
            "HTTP request sent, awaiting response... 302 Moved Temporarily\n",
            "Location: https://doc-0s-b0-docs.googleusercontent.com/docs/securesc/d319sfuh0662jt04ro7r337f1c5ro5ad/0l7rmndpovsdshmt3pbcahot2hv59l9s/1622237700000/10681116013986523016/05715282887648427079Z/1gxaRzFdB7A0fO7Zu15MQffv00DOXNcO0?e=download [following]\n",
            "--2021-05-28 21:35:19--  https://doc-0s-b0-docs.googleusercontent.com/docs/securesc/d319sfuh0662jt04ro7r337f1c5ro5ad/0l7rmndpovsdshmt3pbcahot2hv59l9s/1622237700000/10681116013986523016/05715282887648427079Z/1gxaRzFdB7A0fO7Zu15MQffv00DOXNcO0?e=download\n",
            "Resolving doc-0s-b0-docs.googleusercontent.com (doc-0s-b0-docs.googleusercontent.com)... 142.250.65.65, 2607:f8b0:4004:832::2001\n",
            "Connecting to doc-0s-b0-docs.googleusercontent.com (doc-0s-b0-docs.googleusercontent.com)|142.250.65.65|:443... connected.\n",
            "HTTP request sent, awaiting response... 302 Found\n",
            "Location: https://docs.google.com/nonceSigner?nonce=lj59k10m06vbc&continue=https://doc-0s-b0-docs.googleusercontent.com/docs/securesc/d319sfuh0662jt04ro7r337f1c5ro5ad/0l7rmndpovsdshmt3pbcahot2hv59l9s/1622237700000/10681116013986523016/05715282887648427079Z/1gxaRzFdB7A0fO7Zu15MQffv00DOXNcO0?e%3Ddownload&hash=3kncuv3g1mq80o3427po5v6itbiqut79 [following]\n",
            "--2021-05-28 21:35:19--  https://docs.google.com/nonceSigner?nonce=lj59k10m06vbc&continue=https://doc-0s-b0-docs.googleusercontent.com/docs/securesc/d319sfuh0662jt04ro7r337f1c5ro5ad/0l7rmndpovsdshmt3pbcahot2hv59l9s/1622237700000/10681116013986523016/05715282887648427079Z/1gxaRzFdB7A0fO7Zu15MQffv00DOXNcO0?e%3Ddownload&hash=3kncuv3g1mq80o3427po5v6itbiqut79\n",
            "Connecting to docs.google.com (docs.google.com)|142.250.81.206|:443... connected.\n",
            "HTTP request sent, awaiting response... 302 Found\n",
            "Location: https://doc-0s-b0-docs.googleusercontent.com/docs/securesc/d319sfuh0662jt04ro7r337f1c5ro5ad/0l7rmndpovsdshmt3pbcahot2hv59l9s/1622237700000/10681116013986523016/05715282887648427079Z/1gxaRzFdB7A0fO7Zu15MQffv00DOXNcO0?e=download&nonce=lj59k10m06vbc&user=05715282887648427079Z&hash=e77i0kpkcpu5tq84hs3ocierjat28ovi [following]\n",
            "--2021-05-28 21:35:19--  https://doc-0s-b0-docs.googleusercontent.com/docs/securesc/d319sfuh0662jt04ro7r337f1c5ro5ad/0l7rmndpovsdshmt3pbcahot2hv59l9s/1622237700000/10681116013986523016/05715282887648427079Z/1gxaRzFdB7A0fO7Zu15MQffv00DOXNcO0?e=download&nonce=lj59k10m06vbc&user=05715282887648427079Z&hash=e77i0kpkcpu5tq84hs3ocierjat28ovi\n",
            "Connecting to doc-0s-b0-docs.googleusercontent.com (doc-0s-b0-docs.googleusercontent.com)|142.250.65.65|:443... connected.\n",
            "HTTP request sent, awaiting response... 200 OK\n",
            "Length: unspecified [application/x-zip-compressed]\n",
            "Saving to: ‘testing_data.zip’\n",
            "\n",
            "testing_data.zip        [           <=>      ] 196.05M  70.0MB/s    in 2.8s    \n",
            "\n",
            "2021-05-28 21:35:22 (70.0 MB/s) - ‘testing_data.zip’ saved [205577048]\n",
            "\n"
          ],
          "name": "stdout"
        }
      ]
    },
    {
      "cell_type": "code",
      "metadata": {
        "colab": {
          "base_uri": "https://localhost:8080/"
        },
        "id": "WloW1NdoRBdC",
        "outputId": "bfe76076-daea-426a-d03a-d7e8ab5a19ba"
      },
      "source": [
        "cd content"
      ],
      "execution_count": null,
      "outputs": [
        {
          "output_type": "stream",
          "text": [
            "/content\n"
          ],
          "name": "stdout"
        }
      ]
    },
    {
      "cell_type": "code",
      "metadata": {
        "colab": {
          "base_uri": "https://localhost:8080/"
        },
        "id": "EqD7ADDBQh8Z",
        "outputId": "e16ce2d7-7a29-4b48-eb4c-372b8abad0a2"
      },
      "source": [
        "!unzip testing_data.zip -d /\n",
        "print('done')"
      ],
      "execution_count": null,
      "outputs": [
        {
          "output_type": "stream",
          "text": [
            "Archive:  testing_data.zip\n",
            "   creating: /normal_test/\n",
            "  inflating: /normal_test/24.nii.gz  \n",
            "  inflating: /normal_test/25.nii.gz  \n",
            "  inflating: /normal_test/26.nii.gz  \n",
            "   creating: /scz_test/\n",
            "  inflating: /scz_test/25.nii.gz     \n",
            "  inflating: /scz_test/26.nii.gz     \n",
            "  inflating: /scz_test/27.nii.gz     \n",
            "  inflating: /scz_test/28.nii.gz     \n",
            "  inflating: /scz_test/29.nii.gz     \n",
            "  inflating: /scz_test/30.nii.gz     \n",
            "  inflating: /scz_test/31.nii.gz     \n",
            "done\n"
          ],
          "name": "stdout"
        }
      ]
    },
    {
      "cell_type": "code",
      "metadata": {
        "colab": {
          "base_uri": "https://localhost:8080/"
        },
        "id": "rvY4UfCD6-6U",
        "outputId": "a626d646-dc48-4300-8b91-9cf0389714c3"
      },
      "source": [
        "ls"
      ],
      "execution_count": null,
      "outputs": [
        {
          "output_type": "stream",
          "text": [
            "\u001b[0m\u001b[01;34mdrive\u001b[0m/  \u001b[01;34msample_data\u001b[0m/  testing_data.zip\n"
          ],
          "name": "stdout"
        }
      ]
    },
    {
      "cell_type": "code",
      "metadata": {
        "id": "yeMfvRMHRTQk"
      },
      "source": [
        "images = []\n",
        "label = []"
      ],
      "execution_count": null,
      "outputs": []
    },
    {
      "cell_type": "code",
      "metadata": {
        "colab": {
          "base_uri": "https://localhost:8080/"
        },
        "id": "wGCpg1dhQh6S",
        "outputId": "56ba0fc2-168f-41e9-e0e4-e4707ba43ab1"
      },
      "source": [
        "flag = 0\n",
        "count = 0\n",
        "for file in glob.glob('/normal_test/*'):\n",
        "  if (count ==3):\n",
        "    break\n",
        "  count= count+1\n",
        "  print(file)\n",
        "  img4d = nib.load(file)\n",
        "  img3d_list = nib.funcs.four_to_three(img4d)\n",
        "  for i in img3d_list:\n",
        "    data = i.get_fdata()\n",
        "    images.append(data)\n",
        "    label.append(0)\n",
        "    \n",
        "print(\"done\")\n",
        "print(count)"
      ],
      "execution_count": null,
      "outputs": [
        {
          "output_type": "stream",
          "text": [
            "/normal_test/25.nii.gz\n",
            "/normal_test/26.nii.gz\n",
            "/normal_test/24.nii.gz\n",
            "done\n",
            "3\n"
          ],
          "name": "stdout"
        }
      ]
    },
    {
      "cell_type": "code",
      "metadata": {
        "colab": {
          "base_uri": "https://localhost:8080/"
        },
        "id": "zF_wGaUOQh4L",
        "outputId": "c620d5f5-26f7-423f-958f-372a0cac7bcb"
      },
      "source": [
        "len(images),len(label)"
      ],
      "execution_count": null,
      "outputs": [
        {
          "output_type": "execute_result",
          "data": {
            "text/plain": [
              "(300, 300)"
            ]
          },
          "metadata": {
            "tags": []
          },
          "execution_count": 10
        }
      ]
    },
    {
      "cell_type": "code",
      "metadata": {
        "colab": {
          "base_uri": "https://localhost:8080/"
        },
        "id": "HgMY15WTQh2I",
        "outputId": "9c01d7b2-1276-4dc1-b7cb-8213a1ead701"
      },
      "source": [
        "flag = 0\n",
        "count = 0\n",
        "for file in glob.glob('/scz_test/*'):\n",
        "  if(count==6):\n",
        "    break\n",
        "  count= count+1\n",
        "  print(file)\n",
        "  img4d = nib.load(file)\n",
        "  img3d_list = nib.funcs.four_to_three(img4d)\n",
        "  for i in img3d_list:\n",
        "    data = i.get_fdata()\n",
        "    images.append(data)\n",
        "    label.append(1)\n",
        "    \n",
        "print(\"done\")\n",
        "print(count)"
      ],
      "execution_count": null,
      "outputs": [
        {
          "output_type": "stream",
          "text": [
            "/scz_test/25.nii.gz\n",
            "/scz_test/30.nii.gz\n",
            "/scz_test/28.nii.gz\n",
            "/scz_test/31.nii.gz\n",
            "/scz_test/29.nii.gz\n",
            "/scz_test/26.nii.gz\n",
            "done\n",
            "6\n"
          ],
          "name": "stdout"
        }
      ]
    },
    {
      "cell_type": "code",
      "metadata": {
        "colab": {
          "base_uri": "https://localhost:8080/"
        },
        "id": "YKoWbHGvEtTg",
        "outputId": "670210b8-8492-43c5-8497-b3ab88268caf"
      },
      "source": [
        "ls"
      ],
      "execution_count": null,
      "outputs": [
        {
          "output_type": "stream",
          "text": [
            "\u001b[0m\u001b[01;34mbin\u001b[0m/      \u001b[01;34mdev\u001b[0m/   \u001b[01;34mlib32\u001b[0m/  \u001b[01;34mnormal_test\u001b[0m/  \u001b[01;34mrun\u001b[0m/       \u001b[01;34msys\u001b[0m/                \u001b[01;34musr\u001b[0m/\n",
            "\u001b[01;34mboot\u001b[0m/     \u001b[01;34metc\u001b[0m/   \u001b[01;34mlib64\u001b[0m/  \u001b[01;34mopt\u001b[0m/          \u001b[01;34msbin\u001b[0m/      \u001b[01;34mtensorflow-1.15.2\u001b[0m/  \u001b[01;34mvar\u001b[0m/\n",
            "\u001b[01;34mcontent\u001b[0m/  \u001b[01;34mhome\u001b[0m/  \u001b[01;34mmedia\u001b[0m/  \u001b[01;34mproc\u001b[0m/         \u001b[01;34mscz_test\u001b[0m/  \u001b[30;42mtmp\u001b[0m/\n",
            "\u001b[01;34mdatalab\u001b[0m/  \u001b[01;34mlib\u001b[0m/   \u001b[01;34mmnt\u001b[0m/    \u001b[01;34mroot\u001b[0m/         \u001b[01;34msrv\u001b[0m/       \u001b[01;34mtools\u001b[0m/\n"
          ],
          "name": "stdout"
        }
      ]
    },
    {
      "cell_type": "code",
      "metadata": {
        "id": "3YAC1Y9qE1yT"
      },
      "source": [
        "special_image = []\n",
        "special_label = []"
      ],
      "execution_count": null,
      "outputs": []
    },
    {
      "cell_type": "code",
      "metadata": {
        "id": "nUC4yWYEEdtw"
      },
      "source": [
        "img4d =nib.load('/scz_test/27.nii.gz')"
      ],
      "execution_count": null,
      "outputs": []
    },
    {
      "cell_type": "code",
      "metadata": {
        "colab": {
          "background_save": true,
          "base_uri": "https://localhost:8080/",
          "height": 321
        },
        "id": "60JAJf-cIWYm",
        "outputId": "711546b8-6457-4190-9352-9e9df81384b6"
      },
      "source": [
        "img4d[0:"
      ],
      "execution_count": null,
      "outputs": [
        {
          "output_type": "error",
          "ename": "TypeError",
          "evalue": "ignored",
          "traceback": [
            "\u001b[0;31m---------------------------------------------------------------------------\u001b[0m",
            "\u001b[0;31mTypeError\u001b[0m                                 Traceback (most recent call last)",
            "\u001b[0;32m<ipython-input-43-d1086e8b9e8c>\u001b[0m in \u001b[0;36m<module>\u001b[0;34m()\u001b[0m\n\u001b[0;32m----> 1\u001b[0;31m \u001b[0mimg4d\u001b[0m\u001b[0;34m[\u001b[0m\u001b[0;36m0\u001b[0m\u001b[0;34m]\u001b[0m\u001b[0;34m\u001b[0m\u001b[0;34m\u001b[0m\u001b[0m\n\u001b[0m",
            "\u001b[0;32m/usr/local/lib/python3.7/dist-packages/nibabel/spatialimages.py\u001b[0m in \u001b[0;36m__getitem__\u001b[0;34m(self, idx)\u001b[0m\n\u001b[1;32m    585\u001b[0m         '''\n\u001b[1;32m    586\u001b[0m         raise TypeError(\n\u001b[0;32m--> 587\u001b[0;31m             \u001b[0;34m\"Cannot slice image objects; consider using `img.slicer[slice]` \"\u001b[0m\u001b[0;34m\u001b[0m\u001b[0;34m\u001b[0m\u001b[0m\n\u001b[0m\u001b[1;32m    588\u001b[0m             \u001b[0;34m\"to generate a sliced image (see documentation for caveats) or \"\u001b[0m\u001b[0;34m\u001b[0m\u001b[0;34m\u001b[0m\u001b[0m\n\u001b[1;32m    589\u001b[0m             \u001b[0;34m\"slicing image array data with `img.dataobj[slice]` or \"\u001b[0m\u001b[0;34m\u001b[0m\u001b[0;34m\u001b[0m\u001b[0m\n",
            "\u001b[0;31mTypeError\u001b[0m: Cannot slice image objects; consider using `img.slicer[slice]` to generate a sliced image (see documentation for caveats) or slicing image array data with `img.dataobj[slice]` or `img.get_fdata()[slice]`"
          ]
        }
      ]
    },
    {
      "cell_type": "code",
      "metadata": {
        "id": "9YqUFdgvE0Qe"
      },
      "source": [
        "img3d_list = nib.funcs.four_to_three(img4d)\n",
        "for i in img3d_list:\n",
        "    data = i.get_fdata()\n",
        "    special_image.append(data)\n",
        "    special_label.append(1)"
      ],
      "execution_count": null,
      "outputs": []
    },
    {
      "cell_type": "code",
      "metadata": {
        "id": "qYHFOpnaFDyr"
      },
      "source": [
        "special_array = np.asarray(special_image)\n",
        "special_label_array= np.asarray(special_label)"
      ],
      "execution_count": null,
      "outputs": []
    },
    {
      "cell_type": "code",
      "metadata": {
        "colab": {
          "base_uri": "https://localhost:8080/"
        },
        "id": "d9k0qnW2FSbl",
        "outputId": "908b2190-41df-4971-f3eb-821029bf8e88"
      },
      "source": [
        "np.sum(special_label_array==1)"
      ],
      "execution_count": null,
      "outputs": [
        {
          "output_type": "execute_result",
          "data": {
            "text/plain": [
              "150"
            ]
          },
          "metadata": {
            "tags": []
          },
          "execution_count": 35
        }
      ]
    },
    {
      "cell_type": "code",
      "metadata": {
        "colab": {
          "base_uri": "https://localhost:8080/"
        },
        "id": "xk4rAwggFXst",
        "outputId": "9d591c3c-0ee4-4bf4-a4e0-c48adc52d1db"
      },
      "source": [
        "special_array.shape"
      ],
      "execution_count": null,
      "outputs": [
        {
          "output_type": "execute_result",
          "data": {
            "text/plain": [
              "(150, 64, 64, 33)"
            ]
          },
          "metadata": {
            "tags": []
          },
          "execution_count": 36
        }
      ]
    },
    {
      "cell_type": "code",
      "metadata": {
        "colab": {
          "base_uri": "https://localhost:8080/"
        },
        "id": "1RRZKh3jFmZj",
        "outputId": "e7e25516-3dc3-4bef-ad5e-57c1e2f92341"
      },
      "source": [
        "cd content/drive/MyDrive/thesis2"
      ],
      "execution_count": null,
      "outputs": [
        {
          "output_type": "stream",
          "text": [
            "/content/drive/MyDrive/thesis2\n"
          ],
          "name": "stdout"
        }
      ]
    },
    {
      "cell_type": "code",
      "metadata": {
        "id": "jmsztzBSFbJi"
      },
      "source": [
        "np.save('special',special_array)\n",
        "np.save('special_label',special_label_array)\n"
      ],
      "execution_count": null,
      "outputs": []
    },
    {
      "cell_type": "code",
      "metadata": {
        "colab": {
          "base_uri": "https://localhost:8080/"
        },
        "id": "1QC4YFS5Qh0G",
        "outputId": "db2a07a5-c72c-4e20-b842-22b27b8150dc"
      },
      "source": [
        "len(images),len(label)"
      ],
      "execution_count": null,
      "outputs": [
        {
          "output_type": "execute_result",
          "data": {
            "text/plain": [
              "(600, 600)"
            ]
          },
          "metadata": {
            "tags": []
          },
          "execution_count": 12
        }
      ]
    },
    {
      "cell_type": "code",
      "metadata": {
        "colab": {
          "base_uri": "https://localhost:8080/"
        },
        "id": "nL8eNtVPC_lI",
        "outputId": "d0660ac1-e941-4549-b261-af040ba6c686"
      },
      "source": [
        "np.sum(label_array==1)"
      ],
      "execution_count": null,
      "outputs": [
        {
          "output_type": "execute_result",
          "data": {
            "text/plain": [
              "300"
            ]
          },
          "metadata": {
            "tags": []
          },
          "execution_count": 17
        }
      ]
    },
    {
      "cell_type": "code",
      "metadata": {
        "id": "ff6suFH5Qhx_"
      },
      "source": [
        "images_array = np.asarray(images)"
      ],
      "execution_count": null,
      "outputs": []
    },
    {
      "cell_type": "code",
      "metadata": {
        "id": "Fo6y5QidQhtk"
      },
      "source": [
        "label_array = np.asarray(label)"
      ],
      "execution_count": null,
      "outputs": []
    },
    {
      "cell_type": "code",
      "metadata": {
        "id": "rRoVWObnQhrd"
      },
      "source": [
        "x_test, y_test = shuffle(images_array,label_array,random_state = 0)"
      ],
      "execution_count": null,
      "outputs": []
    },
    {
      "cell_type": "code",
      "metadata": {
        "colab": {
          "base_uri": "https://localhost:8080/"
        },
        "id": "ggAr1C2pS1ZE",
        "outputId": "67f69532-9177-4636-b387-dccf133542e2"
      },
      "source": [
        "y_test[:10]"
      ],
      "execution_count": null,
      "outputs": [
        {
          "output_type": "execute_result",
          "data": {
            "text/plain": [
              "array([1, 0, 0, 1, 0, 1, 1, 1, 1, 0])"
            ]
          },
          "metadata": {
            "tags": []
          },
          "execution_count": 19
        }
      ]
    },
    {
      "cell_type": "code",
      "metadata": {
        "colab": {
          "base_uri": "https://localhost:8080/"
        },
        "id": "xx0jwVti7rgc",
        "outputId": "43b1a0a4-d7e7-408b-ccb0-3256d87f8d52"
      },
      "source": [
        "cd /"
      ],
      "execution_count": null,
      "outputs": [
        {
          "output_type": "stream",
          "text": [
            "/\n"
          ],
          "name": "stdout"
        }
      ]
    },
    {
      "cell_type": "code",
      "metadata": {
        "colab": {
          "base_uri": "https://localhost:8080/"
        },
        "id": "WW8G47l4TqvL",
        "outputId": "b9d1e4f1-bd8e-4a1c-af01-509033b434c7"
      },
      "source": [
        "cd content/drive/MyDrive/thesis2"
      ],
      "execution_count": null,
      "outputs": [
        {
          "output_type": "stream",
          "text": [
            "/content/drive/MyDrive/thesis2\n"
          ],
          "name": "stdout"
        }
      ]
    },
    {
      "cell_type": "code",
      "metadata": {
        "id": "Z6u-1oRaUAdF"
      },
      "source": [
        "np.save('x_test6',x_test)\n",
        "np.save('y_test6',y_test)"
      ],
      "execution_count": null,
      "outputs": []
    },
    {
      "cell_type": "code",
      "metadata": {
        "colab": {
          "base_uri": "https://localhost:8080/"
        },
        "id": "MfDMzO5oUU0r",
        "outputId": "5a65e16c-93c7-4486-af1e-7a9700f68b77"
      },
      "source": [
        "y_test.shape"
      ],
      "execution_count": null,
      "outputs": [
        {
          "output_type": "execute_result",
          "data": {
            "text/plain": [
              "(900,)"
            ]
          },
          "metadata": {
            "tags": []
          },
          "execution_count": 25
        }
      ]
    },
    {
      "cell_type": "code",
      "metadata": {
        "colab": {
          "base_uri": "https://localhost:8080/",
          "height": 172
        },
        "id": "YjWjmvqBUdXP",
        "outputId": "5279aa4f-be6e-403d-b4ac-92ed138d532b"
      },
      "source": [
        "type(y)"
      ],
      "execution_count": null,
      "outputs": [
        {
          "output_type": "error",
          "ename": "AttributeError",
          "evalue": "ignored",
          "traceback": [
            "\u001b[0;31m---------------------------------------------------------------------------\u001b[0m",
            "\u001b[0;31mAttributeError\u001b[0m                            Traceback (most recent call last)",
            "\u001b[0;32m<ipython-input-28-7222e423ff09>\u001b[0m in \u001b[0;36m<module>\u001b[0;34m()\u001b[0m\n\u001b[0;32m----> 1\u001b[0;31m \u001b[0my_test\u001b[0m\u001b[0;34m.\u001b[0m\u001b[0mtype\u001b[0m\u001b[0;34m\u001b[0m\u001b[0;34m\u001b[0m\u001b[0m\n\u001b[0m",
            "\u001b[0;31mAttributeError\u001b[0m: 'numpy.ndarray' object has no attribute 'type'"
          ]
        }
      ]
    },
    {
      "cell_type": "code",
      "metadata": {
        "id": "aneOFy7yUXRj"
      },
      "source": [
        "a =  y_test.flatten()"
      ],
      "execution_count": null,
      "outputs": []
    },
    {
      "cell_type": "code",
      "metadata": {
        "colab": {
          "base_uri": "https://localhost:8080/"
        },
        "id": "r_4a3OJS83zH",
        "outputId": "0cd27a0c-c3e1-4e1a-dced-aed5b5e6feef"
      },
      "source": [
        "0.5 * 1 *(1+0.65)"
      ],
      "execution_count": null,
      "outputs": [
        {
          "output_type": "execute_result",
          "data": {
            "text/plain": [
              "0.825"
            ]
          },
          "metadata": {
            "tags": []
          },
          "execution_count": 31
        }
      ]
    },
    {
      "cell_type": "code",
      "metadata": {
        "colab": {
          "base_uri": "https://localhost:8080/"
        },
        "id": "-7WPFb10Ual0",
        "outputId": "f7ac784e-a5ba-4a53-b513-6163ded3bdae"
      },
      "source": [
        "a.shape"
      ],
      "execution_count": null,
      "outputs": [
        {
          "output_type": "execute_result",
          "data": {
            "text/plain": [
              "(900,)"
            ]
          },
          "metadata": {
            "tags": []
          },
          "execution_count": 27
        }
      ]
    }
  ]
}